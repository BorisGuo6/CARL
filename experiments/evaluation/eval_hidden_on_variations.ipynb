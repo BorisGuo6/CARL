{
 "cells": [
  {
   "attachments": {},
   "cell_type": "markdown",
   "metadata": {},
   "source": [
    "# Define Test Contexts "
   ]
  },
  {
   "attachments": {},
   "cell_type": "markdown",
   "metadata": {},
   "source": [
    "# Hidden on Variation\n",
    "## Define Test Contexts"
   ]
  },
  {
   "cell_type": "code",
   "execution_count": 23,
   "metadata": {},
   "outputs": [],
   "source": [
    "from itertools import product\n",
    "from carl.envs.classic_control.carl_pendulum import DEFAULT_CONTEXT\n",
    "from experiments.common.utils.json_utils import lazy_json_dump\n",
    "from pathlib import Path\n",
    "\n",
    "context_path = \"data/hidden_on_variations/test_contexts.json\"\n",
    "\n",
    "magnitudes = [0.5, 0.75, 0.9, 1., 1.1, 1.25, 1.5]\n",
    "mask = [\"initial_angle_max\", \"initial_velocity_max\"]\n",
    "for m in mask:\n",
    "    if m in DEFAULT_CONTEXT:\n",
    "        del DEFAULT_CONTEXT[m]\n",
    "\n",
    "context_features = list(DEFAULT_CONTEXT.keys())\n",
    "\n",
    "context_set = {}\n",
    "\n",
    "for cf, mag in product(context_features, magnitudes):\n",
    "    key = f\"{cf}_{mag}\"\n",
    "    value = mag * DEFAULT_CONTEXT[cf]\n",
    "    context_set[key] = {cf: value}\n",
    "\n",
    "lazy_json_dump(context_set, context_path)\n",
    "\n",
    "full_path = Path(context_path).resolve()\n"
   ]
  },
  {
   "cell_type": "code",
   "execution_count": 28,
   "metadata": {},
   "outputs": [],
   "source": [
    "result_dir = \"/home/benjamin/Dokumente/code/tmp/tntcomp/CARL/exp_sweep/2023-01-05/09-01-41_benchmark_train\""
   ]
  },
  {
   "attachments": {},
   "cell_type": "markdown",
   "metadata": {},
   "source": [
    "# Find Hidden Agents"
   ]
  },
  {
   "cell_type": "code",
   "execution_count": 32,
   "metadata": {},
   "outputs": [
    {
     "name": "stdout",
     "output_type": "stream",
     "text": [
      "python experiments/evaluation/run_evaluation.py +experiments=hidden_on_variations 'contexts_path=/home/benjamin/Dokumente/code/tmp/tntcomp/CARL/experiments/evaluation/data/hidden_on_variations/test_contexts.json' -m --result_dir /home/benjamin/Dokumente/code/tmp/tntcomp/CARL/exp_sweep/2023-01-05/09-01-41_benchmark_train\n"
     ]
    }
   ],
   "source": [
    "command = f\"python experiments/evaluation/run_evaluation.py +experiments=hidden_on_variations 'contexts_path={full_path}' -m --result_dir {result_dir}\"\n",
    "print(command)"
   ]
  }
 ],
 "metadata": {
  "kernelspec": {
   "display_name": "carl",
   "language": "python",
   "name": "python3"
  },
  "language_info": {
   "codemirror_mode": {
    "name": "ipython",
    "version": 3
   },
   "file_extension": ".py",
   "mimetype": "text/x-python",
   "name": "python",
   "nbconvert_exporter": "python",
   "pygments_lexer": "ipython3",
   "version": "3.10.4"
  },
  "orig_nbformat": 4,
  "vscode": {
   "interpreter": {
    "hash": "445f316a49a09d784fc20e9b3e621eb4aa26f31c3cfbe2b15408208fc87e667a"
   }
  }
 },
 "nbformat": 4,
 "nbformat_minor": 2
}
