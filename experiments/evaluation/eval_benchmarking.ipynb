{
 "cells": [
  {
   "cell_type": "markdown",
   "metadata": {
    "pycharm": {
     "name": "#%% md\n"
    }
   },
   "source": [
    "# Benchmarking: Visualize Train Performance\n",
    "## Select Env"
   ]
  },
  {
   "cell_type": "code",
   "execution_count": 1,
   "metadata": {
    "collapsed": false,
    "pycharm": {
     "name": "#%%\n"
    }
   },
   "outputs": [],
   "source": [
    "import sys\n",
    "from pathlib import Path\n",
    "import seaborn as sns\n",
    "import pandas as pd\n",
    "import numpy as np\n",
    "from tqdm import tqdm\n",
    "from collections import OrderedDict\n",
    "from tqdm import tqdm\n",
    "import pandas as pd\n",
    "import wandb\n",
    "import sys\n",
    "sys.path.append(\"../..\")\n",
    "import pandas as pd\n",
    "import ast\n",
    "from rich import print as printr\n",
    "from rich.progress import track\n",
    "from ast import literal_eval\n",
    "from pathlib import Path\n",
    "from omegaconf import OmegaConf\n",
    "from tqdm import tqdm\n",
    "\n",
    "\n",
    "def get_eval_data_fn(outdir: str | Path, env_name: str):\n",
    "    outdir = Path(outdir)\n",
    "    eval_data_fn = outdir / f\"eval_data/{env_name}.pickle\"\n",
    "    eval_data_fn.parent.mkdir(parents=True, exist_ok=True)\n",
    "    return eval_data_fn\n",
    "\n",
    "\n",
    "def get_plot_data_fn(eval_data_fn: str | Path):\n",
    "    eval_data_fn = Path(eval_data_fn)\n",
    "    plot_data_fn = Path(eval_data_fn).parent / (Path(eval_data_fn).stem + \"_plot.csv\")\n",
    "    plot_data_fn.parent.mkdir(parents=True, exist_ok=True)\n",
    "    return plot_data_fn\n",
    "\n",
    "\n",
    "sys.path.append(\"/home/benjamin/Dokumente/code/tmp/tntcomp/CARL\")\n",
    "\n",
    "env_name = \"CARLMountainCarEnv\"\n",
    "env_name = \"CARLPendulumEnv\"\n",
    "# env_name = \"CARLAcrobotEnv\"\n",
    "# env_name = \"CARLDmcWalkerEnv\"\n",
    "# env_name = \"CARLDmcQuadrupedEnv\"\n",
    "# env_name = \"CARLCartPoleEnv\"\n",
    "# env_name = \"CARLBipedalWalkerEnv\"\n",
    "env_name = \"CARLMountainCarEnv\"\n",
    "outdir = Path(\"/home/benjamin/Dokumente/code/tmp/tntcomp/CARL/experiments/evaluation/data/\")\n",
    "outdir.mkdir(parents=True, exist_ok=True)\n",
    "figoutdir = outdir / \"figures\"\n",
    "figoutdir.mkdir(parents=True, exist_ok=True)\n",
    "\n",
    "eval_data_fn = get_eval_data_fn(outdir=outdir, env_name=env_name)\n",
    "plot_data_fn = get_plot_data_fn(eval_data_fn=eval_data_fn)\n",
    "\n",
    "config_keys = [\"wandb.group\", \"seed\", \"context_sampler.sigma_rel\", \"context_sampler.context_feature_names\"]\n",
    "\n",
    "wandb_key_translator = {\n",
    "    \"wandb.group\": \"visibility\",\n",
    "    \"context_sampler.sigma_rel\": \"$\\sigma_{rel}$\",\n",
    "    \"context_sampler.context_feature_names\": \"C\",\n",
    "    \"train/global_step\": \"$k$\",\n",
    "    \"eval/return\": \"$R$\"\n",
    "}\n",
    "wkt = wandb_key_translator\n",
    "\n",
    "errorbar = \"ci\"\n",
    "\n",
    "\n",
    "def get_palette_visibility(df: pd.DataFrame) -> dict:\n",
    "    key = \"wandb.group\" if \"wandb.group\" in df else wkt[\"wandb.group\"]\n",
    "    unique = df[key].unique()\n",
    "    palette = dict(zip(unique, sns.color_palette(palette=\"colorblind\", n_colors=len(unique))))\n",
    "    return palette\n",
    "\n",
    "\n",
    "def load_plot_df(plot_data_fn: str, load_final: bool = False) -> pd.DataFrame:\n",
    "    plot_df = pd.read_csv(plot_data_fn)\n",
    "    plot_df.rename(columns=wandb_key_translator, inplace=True)\n",
    "    plot_df.sort_values(by=[wkt[\"wandb.group\"], wkt[\"context_sampler.context_feature_names\"]], inplace=True)\n",
    "    if load_final:\n",
    "        plot_df = plot_df[plot_df[wkt[\"train/global_step\"]] == plot_df[wkt[\"train/global_step\"]].max()]\n",
    "        plot_df = scale(plot_df, yname=wkt[\"eval/return\"], log=False)\n",
    "        plot_df = scale(plot_df, yname=wkt[\"eval/return\"], log=True)\n",
    "    # if plot_df[wkt[\"train/global_step\"]].nunique() > 200:\n",
    "    #     plot_df = harmonize_steps(plot_df)\n",
    "    return plot_df\n",
    "\n",
    "\n",
    "def scale(data, yname=wkt[\"eval/return\"], log: bool = True):\n",
    "    X = data[yname].to_numpy(dtype=float)\n",
    "    # log_regret = np.log(X + 1e-10)\n",
    "    # xmax = log_regret.max()\n",
    "    # xmin = log_regret.min()\n",
    "    xmax = X.max()\n",
    "    xmin = X.min()\n",
    "    # if xmin == -np.inf:\n",
    "    #     xmin = -50\n",
    "    def scaler(x):\n",
    "        # x = np.log(x + 1e-10)\n",
    "        x = (x - xmin) / (xmax - xmin)\n",
    "        if log:\n",
    "            x = np.log(x + 1e-12)\n",
    "        return x\n",
    "\n",
    "    identifier = \"_scaled\"\n",
    "    if log:\n",
    "        identifier += \"_log\"\n",
    "    data[yname + identifier] = data[yname].apply(scaler)\n",
    "    return data\n",
    "\n",
    "\n",
    "def fill_trajectory(performance_list, time_list, replace_nan=np.NaN):\n",
    "    # If the performance list contains only one list of performances:\n",
    "    # No need to fill/adjust trajectories bc there is only one.\n",
    "    if len(performance_list) < 2:\n",
    "        return np.array(performance_list), np.array(time_list).flatten()\n",
    "\n",
    "    frame_dict = OrderedDict()\n",
    "    counter = np.arange(0, len(performance_list))\n",
    "    for p, t, c in zip(performance_list, time_list, counter):\n",
    "        if len(p) != len(t):\n",
    "            raise ValueError(f\"({c}) Array length mismatch: {len(p)} != {len(t)}\")\n",
    "        frame_dict[str(c)] = pd.Series(data=p, index=t)\n",
    "\n",
    "    merged = pd.DataFrame(frame_dict)\n",
    "    merged = merged.interpolate(method=\"index\")\n",
    "\n",
    "    performance = merged.to_numpy()\n",
    "    time_ = merged.index.values\n",
    "\n",
    "    performance[np.isnan(performance)] = replace_nan\n",
    "    if not np.isfinite(performance).all():\n",
    "        raise ValueError(\"\\nCould not merge lists, because \\n\"\n",
    "                         \"\\t(a) one list is empty?\\n\"\n",
    "                         \"\\t(b) the lists do not start with the same times and\"\n",
    "                         \" replace_nan is not set?\\n\"\n",
    "                         \"\\t(c) replace_nan is not set and there are non valid \"\n",
    "                         \"numbers in the list\\n\"\n",
    "                         \"\\t(d) any other reason.\")\n",
    "\n",
    "    return performance, time_\n",
    "\n",
    "def harmonize_steps(plot_df: pd.DataFrame) -> pd.DataFrame:\n",
    "    group_keys = [wkt.get(k,k) for k in config_keys]\n",
    "    groups = plot_df.groupby(group_keys)\n",
    "    performance_list, time_list, meta_list = [], [], []\n",
    "    for group_id, group_df in groups:\n",
    "        time_list.append(group_df[wkt[\"train/global_step\"]].to_numpy())\n",
    "        performance_list.append(group_df[wkt[\"eval/return\"]].to_numpy())\n",
    "        meta_list.append(group_id)\n",
    "\n",
    "    for i in time_list:\n",
    "        i[0] = 10000\n",
    "    performance_list_transformed, time_list_transformed = fill_trajectory(performance_list=performance_list, time_list=time_list)\n",
    "\n",
    "\n",
    "    plot_df_transformed = pd.DataFrame({\n",
    "        wkt[\"train/global_step\"]: np.concatenate([time_list_transformed] * performance_list_transformed.shape[-1]),\n",
    "        wkt[\"eval/return\"]: performance_list_transformed.flatten('F'),\n",
    "    })\n",
    "\n",
    "    n_points = performance_list_transformed.shape[0]\n",
    "    tiles = np.concatenate([np.tile(meta_list[i], n_points).reshape(-1, len(meta_list[i])) for i in range(len(meta_list))])\n",
    "    for i, k in enumerate(group_keys):\n",
    "        plot_df_transformed[k] = tiles[:, i]\n",
    "    return plot_df_transformed\n",
    "\n",
    "\n",
    "def load_runs_from_wandb(env_name: str, eval_data_fn: str | Path, reload: bool = False) -> pd.DataFrame:\n",
    "    eval_data_fn = Path(eval_data_fn)\n",
    "    if not eval_data_fn.is_file():\n",
    "        reload = True\n",
    "\n",
    "    if reload:\n",
    "        api = wandb.Api()\n",
    "\n",
    "        # Project is specified by <entity/project-name>\n",
    "        filters = {\n",
    "            \"config.env\": env_name,\n",
    "            \"config.experiment\": \"benchmarking\",\n",
    "            \"config.wandb.job_type\": \"train\",\n",
    "            # \"config.context_sampler.n_samples\": 1000,\n",
    "            \"state\": \"finished\",\n",
    "        }\n",
    "        metrics = [\"eval/return\", \"train/global_step\"]\n",
    "        runs = api.runs(\"tnt/carl-tmlr\", filters=filters)\n",
    "\n",
    "        summary_list, config_list, name_list, metrics_list = [], [], [], []\n",
    "        for run in tqdm(runs, total=len(runs)):\n",
    "            # Check metrics first. If not all available, do not append run\n",
    "            rows = []\n",
    "            for i, row in run.history(keys=metrics).iterrows():\n",
    "                if all([metric in row for metric in metrics]):\n",
    "                    # df = df.append(row, ignore_index=True)\n",
    "                    rows.append(row)\n",
    "                else:\n",
    "                    continue\n",
    "            df = pd.DataFrame(rows)\n",
    "            metrics_list.append(df)\n",
    "            \n",
    "            # .summary contains the output keys/values for metrics like accuracy.\n",
    "            #  We call ._json_dict to omit large files\n",
    "            summary_list.append(run.summary._json_dict)\n",
    "\n",
    "            # .config contains the hyperparameters.\n",
    "            #  We remove special values that start with _.\n",
    "            config_list.append(\n",
    "                {k: v for k,v in run.config.items()\n",
    "                if not k.startswith('_')})\n",
    "\n",
    "            # .name is the human-readable name of the run.\n",
    "            name_list.append(run.name)\n",
    "\n",
    "\n",
    "        runs_df = pd.DataFrame({\n",
    "            \"summary\": summary_list,\n",
    "            \"config\": config_list,\n",
    "            \"name\": name_list,\n",
    "            \"metrics\": metrics_list,\n",
    "            })\n",
    "\n",
    "        runs_df.to_pickle(eval_data_fn)\n",
    "    else:\n",
    "        runs_df = pd.read_pickle(eval_data_fn)\n",
    "    return runs_df\n",
    "\n",
    "def convert_runs_to_plot_data(runs_df: pd.DataFrame, plot_data_fn: str, config_keys: list[str]) -> pd.DataFrame:\n",
    "    plot_df = []\n",
    "    for idx, content in tqdm(runs_df.iterrows(), total=len(runs_df)):\n",
    "        cfg = OmegaConf.create(content[\"config\"])\n",
    "        scope = locals()\n",
    "        config_entries = {k: eval(\"cfg.\" + k, scope) for k in config_keys}\n",
    "        metrics = content[\"metrics\"]\n",
    "        n_points = len(metrics)\n",
    "        for k, v in config_entries.items():\n",
    "            metrics[k] = [v] * n_points\n",
    "        plot_df.append(metrics)\n",
    "\n",
    "    plot_df = pd.concat(plot_df)\n",
    "    plot_df.to_csv(plot_data_fn, index=False)\n",
    "    print(\"N points\", len(plot_df))\n",
    "    return plot_df\n"
   ]
  },
  {
   "cell_type": "markdown",
   "metadata": {
    "collapsed": false,
    "pycharm": {
     "name": "#%% md\n"
    }
   },
   "source": [
    "## Download and Convert Data\n",
    "Download runs from wandb and convert to sth plottable."
   ]
  },
  {
   "cell_type": "code",
   "execution_count": 3,
   "metadata": {
    "collapsed": false,
    "pycharm": {
     "name": "#%%\n"
    }
   },
   "outputs": [
    {
     "name": "stderr",
     "output_type": "stream",
     "text": [
      "100%|██████████| 687/687 [03:27<00:00,  3.31it/s]\n",
      "100%|██████████| 687/687 [00:06<00:00, 99.94it/s] \n"
     ]
    },
    {
     "name": "stdout",
     "output_type": "stream",
     "text": [
      "N points 20600\n"
     ]
    }
   ],
   "source": [
    "\n",
    "runs_df = load_runs_from_wandb(env_name=env_name, eval_data_fn=eval_data_fn, reload=False)\n",
    "plot_df = convert_runs_to_plot_data(runs_df=runs_df, plot_data_fn=plot_data_fn, config_keys=config_keys)"
   ]
  },
  {
   "cell_type": "markdown",
   "metadata": {
    "collapsed": false,
    "pycharm": {
     "name": "#%% md\n"
    }
   },
   "source": [
    "## Plot Combined, differ. by sigma"
   ]
  },
  {
   "cell_type": "code",
   "execution_count": null,
   "metadata": {
    "collapsed": false,
    "pycharm": {
     "name": "#%%\n"
    }
   },
   "outputs": [],
   "source": [
    "import matplotlib.pyplot as plt\n",
    "import seaborn as sns\n",
    "import numpy as np\n",
    "\n",
    "fig_fn = figoutdir / f\"{env_name}_differsigma.png\"\n",
    "\n",
    "sns.set_style(\"whitegrid\")\n",
    "sns.set_context(\"paper\", font_scale=1.35)\n",
    "\n",
    "plot_df = load_plot_df(plot_data_fn=plot_data_fn)\n",
    "if env_name == \"CARLBipedalWalkerEnv\":\n",
    "    errorbar = \"sd\"\n",
    "    plot_df = plot_df[plot_df[wkt[\"train/global_step\"]] < 500050]\n",
    "\n",
    "plot_df = plot_df[plot_df[wkt[\"wandb.group\"]] == \"hidden\"]\n",
    "palette = get_palette_visibility(plot_df)\n",
    "group_keys = [wandb_key_translator[\"context_sampler.sigma_rel\"]]\n",
    "\n",
    "grid = sns.FacetGrid(data=plot_df, col=group_keys[0], legend_out=True)\n",
    "grid.map_dataframe(sns.lineplot, x=wkt[\"train/global_step\"], y=wkt[\"eval/return\"], hue=wkt[\"wandb.group\"], palette=palette, errorbar=errorbar)\n",
    "# xticks = np.linspace(0, round(plot_df[wkt[\"train/global_step\"]].max(), -5), 5) # TODO\n",
    "# grid.set(xticks=xticks)\n",
    "grid.add_legend()\n",
    "grid.tight_layout()\n",
    "\n",
    "grid.figure.savefig(fig_fn, bbox_inches=\"tight\", dpi=300)\n",
    "\n",
    "plt.show()\n",
    "\n",
    "# if env_name == \"CARLPendulumEnv\":\n",
    "#     ylim = (-600, -180)\n",
    "#     _ = [ax.set_ylim(*ylim) for ax in grid.axes.flatten()]\n"
   ]
  },
  {
   "cell_type": "code",
   "execution_count": 5,
   "metadata": {
    "collapsed": false,
    "pycharm": {
     "name": "#%%\n"
    }
   },
   "outputs": [
    {
     "data": {
      "text/plain": [
       "array([ 10207.,  20155.,  30200., ...,  40356., 100113.,  20407.])"
      ]
     },
     "execution_count": 5,
     "metadata": {},
     "output_type": "execute_result"
    }
   ],
   "source": [
    "plot_df[wkt[\"train/global_step\"]].unique()"
   ]
  },
  {
   "cell_type": "markdown",
   "metadata": {},
   "source": [
    "## Grid: Rows: std, Cols: Visibility, Hue: CF"
   ]
  },
  {
   "cell_type": "code",
   "execution_count": null,
   "metadata": {},
   "outputs": [],
   "source": [
    "import matplotlib.pyplot as plt\n",
    "import seaborn as sns\n",
    "import ast\n",
    "\n",
    "sns.set_style(\"whitegrid\")\n",
    "sns.set_context(\"paper\", font_scale=1.25)\n",
    "\n",
    "plot_df = load_plot_df(plot_data_fn=plot_data_fn)\n",
    "palette = get_palette_visibility(plot_df)\n",
    "\n",
    "row = wkt['context_sampler.sigma_rel']\n",
    "col = wkt[\"wandb.group\"]\n",
    "hue = wkt[\"context_sampler.context_feature_names\"]\n",
    "xname = wkt[\"train/global_step\"]\n",
    "yname = wkt[\"eval/return\"]\n",
    "\n",
    "grid = sns.FacetGrid(data=plot_df, row=row, col=col, legend_out=True)\n",
    "grid.map_dataframe(sns.lineplot, x=xname, y=yname, hue=hue, palette=\"colorblind\")\n",
    "grid.add_legend()\n",
    "grid.figure.set_tight_layout(True)\n",
    "plt.show()"
   ]
  },
  {
   "cell_type": "markdown",
   "metadata": {
    "collapsed": false,
    "pycharm": {
     "name": "#%% md\n"
    }
   },
   "source": [
    "## Plot for each sigma, diff grids by changing cf, hue: visibility"
   ]
  },
  {
   "cell_type": "code",
   "execution_count": null,
   "metadata": {
    "collapsed": false,
    "pycharm": {
     "name": "#%%\n"
    }
   },
   "outputs": [],
   "source": [
    "import matplotlib.pyplot as plt\n",
    "import seaborn as sns\n",
    "import ast\n",
    "\n",
    "sns.set_style(\"whitegrid\")\n",
    "sns.set_context(\"paper\", font_scale=1.25)\n",
    "\n",
    "plot_df = load_plot_df(plot_data_fn=plot_data_fn)\n",
    "palette = get_palette_visibility(plot_df)\n",
    "groups = plot_df.groupby(wkt[\"context_sampler.sigma_rel\"])\n",
    "\n",
    "for group_id, group_df in groups:\n",
    "    group_keys = [wkt[\"context_sampler.context_feature_names\"]]\n",
    "    group_df[wkt[\"context_sampler.context_feature_names\"]] = group_df[wkt[\"context_sampler.context_feature_names\"]].apply(ast.literal_eval).apply(tuple)\n",
    "    group_df = group_df.sort_values(by=[wkt[\"context_sampler.context_feature_names\"]], key=lambda x: [len(xi) for xi in x])\n",
    "    grid = sns.FacetGrid(data=group_df, col=group_keys[0], legend_out=True)\n",
    "    grid.map_dataframe(sns.lineplot, x=wkt[\"train/global_step\"], y=wkt[\"eval/return\"], hue=wkt[\"wandb.group\"], palette=palette, errorbar=errorbar)\n",
    "    xticks = np.linspace(0, round(group_df[wkt[\"train/global_step\"]].max(), -5), 5)\n",
    "    grid.set(xticks=xticks)\n",
    "    grid.add_legend(label_order=sorted(group_df[wkt[\"wandb.group\"]].unique()))\n",
    "    grid.figure.suptitle(f\"{wkt['context_sampler.sigma_rel']}={group_id}\")\n",
    "    grid.tight_layout()\n",
    "\n",
    "    fig_fn = figoutdir / f\"{env_name}_differcontextfeatures_{group_id}.png\"\n",
    "    grid.figure.savefig(fig_fn, bbox_inches=\"tight\", dpi=300)\n",
    "    plt.show()"
   ]
  },
  {
   "cell_type": "code",
   "execution_count": null,
   "metadata": {
    "collapsed": false,
    "pycharm": {
     "is_executing": true,
     "name": "#%%\n"
    }
   },
   "outputs": [],
   "source": [
    "import matplotlib.pyplot as plt\n",
    "import seaborn as sns\n",
    "\n",
    "fig_fn = figoutdir / f\"{env_name}_differcontextfeatures_grid.png\"\n",
    "\n",
    "sns.set_style(\"whitegrid\")\n",
    "sns.set_context(\"paper\", font_scale=1.2)\n",
    "\n",
    "plot_df = load_plot_df(plot_data_fn=plot_data_fn)\n",
    "palette = get_palette_visibility(plot_df)\n",
    "group_keys = [wandb_key_translator[\"context_sampler.context_feature_names\"], wandb_key_translator[\"context_sampler.sigma_rel\"]]\n",
    "\n",
    "plot_df[wkt[\"context_sampler.context_feature_names\"]] = plot_df[wkt[\"context_sampler.context_feature_names\"]].apply(\n",
    "    ast.literal_eval).apply(tuple)\n",
    "plot_df = plot_df.sort_values(by=[wkt[\"context_sampler.context_feature_names\"]], key=lambda x: [len(xi) for xi in x])\n",
    "\n",
    "grid = sns.FacetGrid(data=plot_df, col=group_keys[0], row=group_keys[1], legend_out=True)\n",
    "grid.map_dataframe(sns.lineplot, x=wkt[\"train/global_step\"], y=wkt[\"eval/return\"], hue=wkt[\"wandb.group\"],\n",
    "                   palette=palette, errorbar=errorbar)\n",
    "xticks = np.linspace(0, round(plot_df[wkt[\"train/global_step\"]].max(), -5), 5)\n",
    "grid.set(xticks=xticks)\n",
    "grid.add_legend(label_order=sorted(group_df[wkt[\"wandb.group\"]].unique()))\n",
    "grid.tight_layout()\n",
    "\n",
    "grid.figure.savefig(fig_fn, bbox_inches=\"tight\", dpi=300)\n",
    "\n",
    "plt.show()"
   ]
  },
  {
   "cell_type": "code",
   "execution_count": null,
   "metadata": {
    "collapsed": false,
    "jupyter": {
     "outputs_hidden": false
    },
    "pycharm": {
     "name": "#%%\n"
    }
   },
   "outputs": [],
   "source": [
    "import matplotlib.pyplot as plt\n",
    "import seaborn as sns\n",
    "\n",
    "fig_fn = figoutdir / f\"{env_name}_differcontextfeatures.png\"\n",
    "\n",
    "sns.set_style(\"whitegrid\")\n",
    "sns.set_context(\"paper\", font_scale=1.25)\n",
    "\n",
    "plot_df = load_plot_df(plot_data_fn=plot_data_fn)\n",
    "palette = get_palette_visibility(plot_df)\n",
    "group_keys = [wandb_key_translator[\"context_sampler.context_feature_names\"]]\n",
    "\n",
    "plot_df[wkt[\"context_sampler.context_feature_names\"]] = plot_df[wkt[\"context_sampler.context_feature_names\"]].apply(ast.literal_eval).apply(tuple)\n",
    "plot_df = plot_df.sort_values(by=[wkt[\"context_sampler.context_feature_names\"]], key=lambda x: [len(xi) for xi in x])\n",
    "\n",
    "grid = sns.FacetGrid(data=plot_df, col=group_keys[0], legend_out=True)\n",
    "grid.map_dataframe(sns.lineplot, x=wkt[\"train/global_step\"], y=wkt[\"eval/return\"], hue=wkt[\"wandb.group\"], palette=palette, errorbar=errorbar)\n",
    "xticks = np.linspace(0, round(plot_df[wkt[\"train/global_step\"]].max(), -5), 5)\n",
    "grid.set(xticks=xticks)\n",
    "grid.add_legend(label_order=sorted(group_df[wkt[\"wandb.group\"]].unique()))\n",
    "grid.tight_layout()\n",
    "\n",
    "grid.figure.savefig(fig_fn, bbox_inches=\"tight\", dpi=300)\n",
    "\n",
    "plt.show()\n",
    "\n",
    "# if env_name == \"CARLPendulumEnv\":\n",
    "#     ylim = (-600, -180)\n",
    "#     _ = [ax.set_ylim(*ylim) for ax in grid.axes.flatten()]\n"
   ]
  },
  {
   "cell_type": "markdown",
   "metadata": {
    "pycharm": {
     "name": "#%% md\n"
    }
   },
   "source": [
    "## Plot for each sigma, diff grids by changing cf, hue: visibility"
   ]
  },
  {
   "cell_type": "code",
   "execution_count": null,
   "metadata": {
    "pycharm": {
     "name": "#%%\n"
    }
   },
   "outputs": [],
   "source": [
    "import matplotlib.pyplot as plt\n",
    "import seaborn as sns\n",
    "\n",
    "sns.set_style(\"whitegrid\")\n",
    "sns.set_context(\"paper\", font_scale=1.35)\n",
    "\n",
    "plot_df = load_plot_df(plot_data_fn=plot_data_fn)\n",
    "palette = get_palette_visibility(plot_df)\n",
    "plot_df[wkt[\"context_sampler.context_feature_names\"]] = plot_df[wkt[\"context_sampler.context_feature_names\"]].apply(ast.literal_eval).apply(tuple)\n",
    "plot_df = plot_df.sort_values(by=[wkt[\"context_sampler.context_feature_names\"]], key=lambda x: [len(xi) for xi in x])\n",
    "groups = plot_df.groupby(wkt[\"context_sampler.context_feature_names\"])\n",
    "\n",
    "for group_id, group_df in groups:\n",
    "    group_keys = [wkt[\"context_sampler.sigma_rel\"]]\n",
    "    grid = sns.FacetGrid(data=group_df, col=group_keys[0], legend_out=True)\n",
    "    grid.map_dataframe(sns.lineplot, x=wkt[\"train/global_step\"], y=wkt[\"eval/return\"], hue=wkt[\"wandb.group\"], palette=palette, errorbar=errorbar)\n",
    "    xticks = np.linspace(0, round(plot_df[wkt[\"train/global_step\"]].max(), -5), 5)\n",
    "    grid.set(xticks=xticks)\n",
    "    grid.add_legend(label_order=sorted(group_df[wkt[\"wandb.group\"]].unique()))\n",
    "    grid.figure.suptitle(f\"{wkt['context_sampler.context_feature_names']} = {group_id}\")\n",
    "    grid.tight_layout()\n",
    "\n",
    "    fig_fn = figoutdir / f\"{env_name}_differcontextfeatures_{group_id}.png\"\n",
    "    grid.figure.savefig(fig_fn, bbox_inches=\"tight\", dpi=300)\n",
    "    plt.show()"
   ]
  },
  {
   "cell_type": "markdown",
   "metadata": {
    "collapsed": false,
    "pycharm": {
     "name": "#%% md\n"
    }
   },
   "source": [
    "## Last Evaluation"
   ]
  },
  {
   "cell_type": "code",
   "execution_count": 57,
   "metadata": {},
   "outputs": [
    {
     "name": "stdout",
     "output_type": "stream",
     "text": [
      "Index(['_step', 'eval/return', 'train/global_step', 'wandb.group', 'seed',\n",
      "       'context_sampler.sigma_rel', 'context_sampler.context_feature_names'],\n",
      "      dtype='object')\n"
     ]
    }
   ],
   "source": [
    "# Load data\n"
   ]
  },
  {
   "cell_type": "code",
   "execution_count": 2,
   "metadata": {
    "collapsed": false,
    "pycharm": {
     "name": "#%%\n"
    }
   },
   "outputs": [
    {
     "ename": "NameError",
     "evalue": "name 'plot_df' is not defined",
     "output_type": "error",
     "traceback": [
      "\u001b[0;31m---------------------------------------------------------------------------\u001b[0m",
      "\u001b[0;31mNameError\u001b[0m                                 Traceback (most recent call last)",
      "Cell \u001b[0;32mIn [2], line 14\u001b[0m\n\u001b[1;32m     12\u001b[0m sns\u001b[39m.\u001b[39mset_style(\u001b[39m\"\u001b[39m\u001b[39mwhitegrid\u001b[39m\u001b[39m\"\u001b[39m)\n\u001b[1;32m     13\u001b[0m sns\u001b[39m.\u001b[39mset_context(\u001b[39m\"\u001b[39m\u001b[39mpaper\u001b[39m\u001b[39m\"\u001b[39m, font_scale\u001b[39m=\u001b[39m\u001b[39m1.25\u001b[39m)\n\u001b[0;32m---> 14\u001b[0m palette \u001b[39m=\u001b[39m get_palette_visibility(plot_df)\n\u001b[1;32m     16\u001b[0m \u001b[39m# Plot aggregated\u001b[39;00m\n\u001b[1;32m     17\u001b[0m fig_fn \u001b[39m=\u001b[39m figoutdir \u001b[39m/\u001b[39m \u001b[39mf\u001b[39m\u001b[39m\"\u001b[39m\u001b[39m{\u001b[39;00menv_name\u001b[39m}\u001b[39;00m\u001b[39m_boxenplot.png\u001b[39m\u001b[39m\"\u001b[39m\n",
      "\u001b[0;31mNameError\u001b[0m: name 'plot_df' is not defined"
     ]
    }
   ],
   "source": [
    "import matplotlib.pyplot as plt\n",
    "import seaborn as sns\n",
    "import numpy as np\n",
    "\n",
    "# Prepare dataset\n",
    "ynameplot = wkt[\"eval/return\"] #+ \"_scaled_log\"\n",
    "# plot_df[wkt[\"eval/return\"]] *= -1\n",
    "# plot_df[wkt[\"eval/return\"]] = plot_df[wkt[\"eval/return\"]].apply(np.log)\n",
    "# plot_df[wkt[\"eval/return\"]] *= -1\n",
    "\n",
    "# Plotting style\n",
    "sns.set_style(\"whitegrid\")\n",
    "sns.set_context(\"paper\", font_scale=1.25)\n",
    "palette = get_palette_visibility(plot_df)\n",
    "\n",
    "# Plot aggregated\n",
    "fig_fn = figoutdir / f\"{env_name}_boxenplot.png\"\n",
    "fig = plt.figure()\n",
    "ax = fig.add_subplot(111)\n",
    "ax = sns.boxenplot(data=plot_df, x=wkt[\"train/global_step\"], y=ynameplot, hue=wkt[\"wandb.group\"], palette=palette, showfliers=True)#, cut=0)\n",
    "xticklabels = [str(int(round(plot_df[wkt[\"train/global_step\"]].max(), -5)))]\n",
    "ax.set_xticklabels(xticklabels)\n",
    "ax.set_ylabel(\"$R$\")\n",
    "fig.set_tight_layout(True)\n",
    "fig.savefig(fig_fn, dpi=300, bbox_inches=\"tight\")\n",
    "plt.show()\n",
    "\n",
    "# Plot per sigma\n",
    "fig_fn = figoutdir / f\"{env_name}_differsigma_violinplot.png\"\n",
    "group_keys = [wandb_key_translator[\"context_sampler.sigma_rel\"]]\n",
    "\n",
    "row = None\n",
    "col = group_keys[0]\n",
    "\n",
    "grid = sns.FacetGrid(data=plot_df, row=row, col=col, legend_out=True)\n",
    "grid.map_dataframe(sns.boxplot, x=wkt[\"train/global_step\"], y=ynameplot, hue=wkt[\"wandb.group\"], palette=palette)#, cut=0)\n",
    "grid.add_legend()\n",
    "xticklabels = [str(int(round(plot_df[wkt[\"train/global_step\"]].max(), -5)))]\n",
    "grid.set_xticklabels(xticklabels)\n",
    "grid.set_ylabels(\"$R$\")\n",
    "grid.tight_layout()\n",
    "grid.figure.savefig(fig_fn, bbox_inches=\"tight\", dpi=300)\n",
    "plt.show()\n",
    "\n",
    "# Plot per sigma and cf\n",
    "fig_fn = figoutdir / f\"{env_name}_differsigma_differcf_violinplot.png\"\n",
    "col = group_keys[0]\n",
    "row = wkt[\"context_sampler.context_feature_names\"]\n",
    "\n",
    "group_keys = [wandb_key_translator[\"context_sampler.sigma_rel\"]]\n",
    "grid = sns.FacetGrid(data=plot_df, row=row, col=col, legend_out=True)\n",
    "grid.map_dataframe(sns.violinplot, x=wkt[\"train/global_step\"], y=ynameplot, hue=wkt[\"wandb.group\"], palette=palette, cut=0)\n",
    "grid.add_legend()\n",
    "xticklabels = [str(int(round(plot_df[wkt[\"train/global_step\"]].max(), -5)))]\n",
    "grid.set_xticklabels(xticklabels)\n",
    "grid.set_ylabels(\"$R$\")\n",
    "grid.tight_layout()\n",
    "grid.figure.savefig(fig_fn, bbox_inches=\"tight\", dpi=300)\n",
    "plt.show()"
   ]
  },
  {
   "cell_type": "code",
   "execution_count": 46,
   "metadata": {},
   "outputs": [
    {
     "name": "stderr",
     "output_type": "stream",
     "text": [
      "/home/benjamin/.conda/envs/carl/lib/python3.10/site-packages/seaborn/axisgrid.py:118: UserWarning: Tight layout not applied. tight_layout cannot make axes height small enough to accommodate all axes decorations.\n",
      "  self._figure.tight_layout(*args, **kwargs)\n",
      "/home/benjamin/.conda/envs/carl/lib/python3.10/site-packages/seaborn/axisgrid.py:848: UserWarning: Ignoring `palette` because no `hue` variable has been assigned.\n",
      "  func(*plot_args, **plot_kwargs)\n",
      "/home/benjamin/.conda/envs/carl/lib/python3.10/site-packages/seaborn/axisgrid.py:848: UserWarning: Ignoring `palette` because no `hue` variable has been assigned.\n",
      "  func(*plot_args, **plot_kwargs)\n",
      "/home/benjamin/.conda/envs/carl/lib/python3.10/site-packages/seaborn/axisgrid.py:848: UserWarning: Ignoring `palette` because no `hue` variable has been assigned.\n",
      "  func(*plot_args, **plot_kwargs)\n",
      "/home/benjamin/.conda/envs/carl/lib/python3.10/site-packages/seaborn/axisgrid.py:848: UserWarning: Ignoring `palette` because no `hue` variable has been assigned.\n",
      "  func(*plot_args, **plot_kwargs)\n",
      "/home/benjamin/.conda/envs/carl/lib/python3.10/site-packages/seaborn/axisgrid.py:848: UserWarning: Ignoring `palette` because no `hue` variable has been assigned.\n",
      "  func(*plot_args, **plot_kwargs)\n",
      "/home/benjamin/.conda/envs/carl/lib/python3.10/site-packages/seaborn/axisgrid.py:118: UserWarning: Tight layout not applied. tight_layout cannot make axes height small enough to accommodate all axes decorations.\n",
      "  self._figure.tight_layout(*args, **kwargs)\n",
      "/home/benjamin/.conda/envs/carl/lib/python3.10/site-packages/seaborn/axisgrid.py:848: UserWarning: Ignoring `palette` because no `hue` variable has been assigned.\n",
      "  func(*plot_args, **plot_kwargs)\n",
      "/home/benjamin/.conda/envs/carl/lib/python3.10/site-packages/seaborn/axisgrid.py:848: UserWarning: Ignoring `palette` because no `hue` variable has been assigned.\n",
      "  func(*plot_args, **plot_kwargs)\n",
      "/home/benjamin/.conda/envs/carl/lib/python3.10/site-packages/seaborn/axisgrid.py:848: UserWarning: Ignoring `palette` because no `hue` variable has been assigned.\n",
      "  func(*plot_args, **plot_kwargs)\n",
      "/home/benjamin/.conda/envs/carl/lib/python3.10/site-packages/seaborn/axisgrid.py:848: UserWarning: Ignoring `palette` because no `hue` variable has been assigned.\n",
      "  func(*plot_args, **plot_kwargs)\n",
      "/home/benjamin/.conda/envs/carl/lib/python3.10/site-packages/seaborn/axisgrid.py:848: UserWarning: Ignoring `palette` because no `hue` variable has been assigned.\n",
      "  func(*plot_args, **plot_kwargs)\n",
      "/home/benjamin/.conda/envs/carl/lib/python3.10/site-packages/seaborn/axisgrid.py:118: UserWarning: Tight layout not applied. tight_layout cannot make axes height small enough to accommodate all axes decorations.\n",
      "  self._figure.tight_layout(*args, **kwargs)\n"
     ]
    },
    {
     "name": "stdout",
     "output_type": "stream",
     "text": [
      "['cgate_hadamard', 'cgate_lstm', 'concat (all)', 'concat (non-static)', 'hidden']\n"
     ]
    },
    {
     "name": "stderr",
     "output_type": "stream",
     "text": [
      "/home/benjamin/.conda/envs/carl/lib/python3.10/site-packages/seaborn/axisgrid.py:118: UserWarning: Tight layout not applied. tight_layout cannot make axes height small enough to accommodate all axes decorations.\n",
      "  self._figure.tight_layout(*args, **kwargs)\n"
     ]
    },
    {
     "data": {
      "text/plain": [
       "<seaborn.axisgrid.FacetGrid at 0x7f18fa8c3760>"
      ]
     },
     "execution_count": 46,
     "metadata": {},
     "output_type": "execute_result"
    },
    {
     "data": {
      "image/png": "[encoded data removed]",
      "text/plain": [
       "<Figure size 750x250 with 5 Axes>"
      ]
     },
     "metadata": {},
     "output_type": "display_data"
    }
   ],
   "source": [
    "import numpy as np\n",
    "import pandas as pd\n",
    "import seaborn as sns\n",
    "import matplotlib.pyplot as plt\n",
    "sns.set_theme(style=\"white\", rc={\"axes.facecolor\": (0, 0, 0, 0)})\n",
    "\n",
    "plot_df = scale(plot_df, yname=wkt[\"eval/return\"], log=False)\n",
    "\n",
    "ynameplot = wkt[\"eval/return\"] + \"_scaled\"\n",
    "\n",
    "# Initialize the FacetGrid object\n",
    "pal = sns.cubehelix_palette(10, rot=-.25, light=.7)\n",
    "pal = get_palette_visibility(plot_df)\n",
    "g = sns.FacetGrid(plot_df, row=wkt[\"wandb.group\"], hue=wkt[\"wandb.group\"], aspect=15, height=.5, palette=pal)\n",
    "\n",
    "# Draw the densities in a few steps\n",
    "g.map_dataframe(sns.kdeplot, x=ynameplot,\n",
    "      bw_adjust=.5, clip_on=False,\n",
    "      fill=True, alpha=1, linewidth=1.5, palette=pal)\n",
    "g.map_dataframe(sns.kdeplot, x=ynameplot, clip_on=False, color=\"w\", lw=2, bw_adjust=.5, palette=pal)\n",
    "\n",
    "# passing color=None to refline() uses the hue mapping\n",
    "g.refline(y=0, linewidth=2, linestyle=\"-\", color=None, clip_on=False)\n",
    "\n",
    "\n",
    "# Define and use a simple function to label the plot in axes coordinates\n",
    "# def label(x, color, label):\n",
    "#     ax = plt.gca()\n",
    "#     ax.text(0, .2, label, fontweight=\"bold\", color=color,\n",
    "#             ha=\"left\", va=\"center\", transform=ax.transAxes)\n",
    "# g.map(label, \"x\")\n",
    "\n",
    "visibilities = list(g.axes_dict.keys())\n",
    "for vis, ax in g.axes_dict.items():\n",
    "      color = pal[vis]\n",
    "      label = vis\n",
    "      ax.text(0, .2, label, fontweight=\"bold\", color=color,\n",
    "            ha=\"left\", va=\"center\", transform=ax.transAxes)\n",
    "\n",
    "print(visibilities)\n",
    "\n",
    "# Set the subplots to overlap\n",
    "g.figure.subplots_adjust(hspace=-.25)\n",
    "\n",
    "# Remove axes details that don't play well with overlap\n",
    "g.set_titles(\"\")\n",
    "g.set(yticks=[], ylabel=\"\")\n",
    "g.despine(bottom=True, left=True)"
   ]
  },
  {
   "cell_type": "markdown",
   "metadata": {},
   "source": [
    "# Plot Aggregated"
   ]
  },
  {
   "cell_type": "code",
   "execution_count": 9,
   "metadata": {},
   "outputs": [
    {
     "name": "stdout",
     "output_type": "stream",
     "text": [
      "CARLPendulumEnv\n"
     ]
    },
    {
     "ename": "ValueError",
     "evalue": "min() arg is an empty sequence",
     "output_type": "error",
     "traceback": [
      "\u001b[0;31m---------------------------------------------------------------------------\u001b[0m",
      "\u001b[0;31mValueError\u001b[0m                                Traceback (most recent call last)",
      "Cell \u001b[0;32mIn [9], line 74\u001b[0m\n\u001b[1;32m     68\u001b[0m algorithms \u001b[39m=\u001b[39m \u001b[39mlist\u001b[39m(score_dict\u001b[39m.\u001b[39mkeys())\n\u001b[1;32m     70\u001b[0m aggregate_scores, aggregate_score_cis \u001b[39m=\u001b[39m rly\u001b[39m.\u001b[39mget_interval_estimates(\n\u001b[1;32m     71\u001b[0m     score_dict, aggregate_func, reps\u001b[39m=\u001b[39mreps)\n\u001b[0;32m---> 74\u001b[0m plot_aggregated_boxenplot(plot_df\u001b[39m=\u001b[39;49mplot_df, env_name\u001b[39m=\u001b[39;49menv_name, figoutdir\u001b[39m=\u001b[39;49mfigoutdir, yname\u001b[39m=\u001b[39;49mynameplot)\n\u001b[1;32m     77\u001b[0m fig, axes \u001b[39m=\u001b[39m plot_utils\u001b[39m.\u001b[39mplot_interval_estimates(\n\u001b[1;32m     78\u001b[0m     aggregate_scores, aggregate_score_cis,\n\u001b[1;32m     79\u001b[0m     metric_names\u001b[39m=\u001b[39mmetric_names,\n\u001b[1;32m     80\u001b[0m     algorithms\u001b[39m=\u001b[39malgorithms, xlabel\u001b[39m=\u001b[39mwkt[\u001b[39m\"\u001b[39m\u001b[39meval/return\u001b[39m\u001b[39m\"\u001b[39m])\n\u001b[1;32m     81\u001b[0m \u001b[39m# fig.set_tight_layout(True)\u001b[39;00m\n",
      "Cell \u001b[0;32mIn [9], line 24\u001b[0m, in \u001b[0;36mplot_aggregated_boxenplot\u001b[0;34m(plot_df, env_name, figoutdir, yname, palette)\u001b[0m\n\u001b[1;32m     22\u001b[0m fig \u001b[39m=\u001b[39m plt\u001b[39m.\u001b[39mfigure()\n\u001b[1;32m     23\u001b[0m ax \u001b[39m=\u001b[39m fig\u001b[39m.\u001b[39madd_subplot(\u001b[39m111\u001b[39m)\n\u001b[0;32m---> 24\u001b[0m ax \u001b[39m=\u001b[39m sns\u001b[39m.\u001b[39;49mboxenplot(data\u001b[39m=\u001b[39;49mplot_df, x\u001b[39m=\u001b[39;49mwkt[\u001b[39m\"\u001b[39;49m\u001b[39mtrain/global_step\u001b[39;49m\u001b[39m\"\u001b[39;49m], y\u001b[39m=\u001b[39;49myname, hue\u001b[39m=\u001b[39;49mwkt[\u001b[39m\"\u001b[39;49m\u001b[39mwandb.group\u001b[39;49m\u001b[39m\"\u001b[39;49m], palette\u001b[39m=\u001b[39;49mpalette, showfliers\u001b[39m=\u001b[39;49m\u001b[39mTrue\u001b[39;49;00m)\u001b[39m#, cut=0)\u001b[39;00m\n\u001b[1;32m     25\u001b[0m \u001b[39m# ax = sns.violinplot(data=plot_df, x=wkt[\"train/global_step\"], y=yname, hue=wkt[\"wandb.group\"], palette=palette, cut=0)\u001b[39;00m\n\u001b[1;32m     26\u001b[0m xticklabels \u001b[39m=\u001b[39m [\u001b[39mstr\u001b[39m(\u001b[39mint\u001b[39m(\u001b[39mround\u001b[39m(plot_df[wkt[\u001b[39m\"\u001b[39m\u001b[39mtrain/global_step\u001b[39m\u001b[39m\"\u001b[39m]]\u001b[39m.\u001b[39mmax(), \u001b[39m-\u001b[39m\u001b[39m5\u001b[39m)))]\n",
      "File \u001b[0;32m~/.conda/envs/carl/lib/python3.10/site-packages/seaborn/categorical.py:2406\u001b[0m, in \u001b[0;36mboxenplot\u001b[0;34m(data, x, y, hue, order, hue_order, orient, color, palette, saturation, width, dodge, k_depth, linewidth, scale, outlier_prop, trust_alpha, showfliers, ax, box_kws, flier_kws, line_kws)\u001b[0m\n\u001b[1;32m   2398\u001b[0m \u001b[39mdef\u001b[39;00m \u001b[39mboxenplot\u001b[39m(\n\u001b[1;32m   2399\u001b[0m     data\u001b[39m=\u001b[39m\u001b[39mNone\u001b[39;00m, \u001b[39m*\u001b[39m, x\u001b[39m=\u001b[39m\u001b[39mNone\u001b[39;00m, y\u001b[39m=\u001b[39m\u001b[39mNone\u001b[39;00m, hue\u001b[39m=\u001b[39m\u001b[39mNone\u001b[39;00m, order\u001b[39m=\u001b[39m\u001b[39mNone\u001b[39;00m, hue_order\u001b[39m=\u001b[39m\u001b[39mNone\u001b[39;00m,\n\u001b[1;32m   2400\u001b[0m     orient\u001b[39m=\u001b[39m\u001b[39mNone\u001b[39;00m, color\u001b[39m=\u001b[39m\u001b[39mNone\u001b[39;00m, palette\u001b[39m=\u001b[39m\u001b[39mNone\u001b[39;00m, saturation\u001b[39m=\u001b[39m\u001b[39m.75\u001b[39m,\n\u001b[0;32m   (...)\u001b[0m\n\u001b[1;32m   2404\u001b[0m     ax\u001b[39m=\u001b[39m\u001b[39mNone\u001b[39;00m, box_kws\u001b[39m=\u001b[39m\u001b[39mNone\u001b[39;00m, flier_kws\u001b[39m=\u001b[39m\u001b[39mNone\u001b[39;00m, line_kws\u001b[39m=\u001b[39m\u001b[39mNone\u001b[39;00m,\n\u001b[1;32m   2405\u001b[0m ):\n\u001b[0;32m-> 2406\u001b[0m     plotter \u001b[39m=\u001b[39m _LVPlotter(x, y, hue, data, order, hue_order,\n\u001b[1;32m   2407\u001b[0m                          orient, color, palette, saturation,\n\u001b[1;32m   2408\u001b[0m                          width, dodge, k_depth, linewidth, scale,\n\u001b[1;32m   2409\u001b[0m                          outlier_prop, trust_alpha, showfliers)\n\u001b[1;32m   2411\u001b[0m     \u001b[39mif\u001b[39;00m ax \u001b[39mis\u001b[39;00m \u001b[39mNone\u001b[39;00m:\n\u001b[1;32m   2412\u001b[0m         ax \u001b[39m=\u001b[39m plt\u001b[39m.\u001b[39mgca()\n",
      "File \u001b[0;32m~/.conda/envs/carl/lib/python3.10/site-packages/seaborn/categorical.py:1785\u001b[0m, in \u001b[0;36m_LVPlotter.__init__\u001b[0;34m(self, x, y, hue, data, order, hue_order, orient, color, palette, saturation, width, dodge, k_depth, linewidth, scale, outlier_prop, trust_alpha, showfliers)\u001b[0m\n\u001b[1;32m   1782\u001b[0m \u001b[39mself\u001b[39m\u001b[39m.\u001b[39mshowfliers \u001b[39m=\u001b[39m showfliers\n\u001b[1;32m   1784\u001b[0m \u001b[39mself\u001b[39m\u001b[39m.\u001b[39mestablish_variables(x, y, hue, data, orient, order, hue_order)\n\u001b[0;32m-> 1785\u001b[0m \u001b[39mself\u001b[39;49m\u001b[39m.\u001b[39;49mestablish_colors(color, palette, saturation)\n",
      "File \u001b[0;32m~/.conda/envs/carl/lib/python3.10/site-packages/seaborn/categorical.py:707\u001b[0m, in \u001b[0;36m_CategoricalPlotter.establish_colors\u001b[0;34m(self, color, palette, saturation)\u001b[0m\n\u001b[1;32m    705\u001b[0m \u001b[39m# Determine the gray color to use for the lines framing the plot\u001b[39;00m\n\u001b[1;32m    706\u001b[0m light_vals \u001b[39m=\u001b[39m [rgb_to_hls(\u001b[39m*\u001b[39mc)[\u001b[39m1\u001b[39m] \u001b[39mfor\u001b[39;00m c \u001b[39min\u001b[39;00m rgb_colors]\n\u001b[0;32m--> 707\u001b[0m lum \u001b[39m=\u001b[39m \u001b[39mmin\u001b[39;49m(light_vals) \u001b[39m*\u001b[39m \u001b[39m.6\u001b[39m\n\u001b[1;32m    708\u001b[0m gray \u001b[39m=\u001b[39m mpl\u001b[39m.\u001b[39mcolors\u001b[39m.\u001b[39mrgb2hex((lum, lum, lum))\n\u001b[1;32m    710\u001b[0m \u001b[39m# Assign object attributes\u001b[39;00m\n",
      "\u001b[0;31mValueError\u001b[0m: min() arg is an empty sequence"
     ]
    },
    {
     "data": {
      "image/png": "[encoded data removed]",
      "text/plain": [
       "<Figure size 640x480 with 1 Axes>"
      ]
     },
     "metadata": {},
     "output_type": "display_data"
    }
   ],
   "source": [
    "import matplotlib.pyplot as plt\n",
    "import seaborn as sns\n",
    "import numpy as np\n",
    "from rliable import library as rly\n",
    "from rliable import metrics\n",
    "from rliable import plot_utils\n",
    "\n",
    "\n",
    "# Prepare dataset\n",
    "ynameplot = wkt[\"eval/return\"] #+ \"_scaled_log\"\n",
    "\n",
    "# Plotting style\n",
    "sns.set_style(\"whitegrid\")\n",
    "sns.set_context(\"paper\", font_scale=1.25)\n",
    "\n",
    "\n",
    "# Plot aggregated\n",
    "def plot_aggregated_boxenplot(plot_df: pd.DataFrame, env_name: str, figoutdir: Path, yname: str, palette=None, ):\n",
    "    if palette is None:\n",
    "        palette = get_palette_visibility(plot_df)\n",
    "    fig_fn = figoutdir / f\"{env_name}_boxenplot.png\"\n",
    "    fig = plt.figure()\n",
    "    ax = fig.add_subplot(111)\n",
    "    ax = sns.boxenplot(data=plot_df, x=wkt[\"train/global_step\"], y=yname, hue=wkt[\"wandb.group\"], palette=palette, showfliers=True)#, cut=0)\n",
    "    # ax = sns.violinplot(data=plot_df, x=wkt[\"train/global_step\"], y=yname, hue=wkt[\"wandb.group\"], palette=palette, cut=0)\n",
    "    xticklabels = [str(int(round(plot_df[wkt[\"train/global_step\"]].max(), -5)))]\n",
    "    ax.set_xticklabels(xticklabels)\n",
    "    ax.set_ylabel(\"$R$\")\n",
    "    fig.set_tight_layout(True)\n",
    "    fig.savefig(fig_fn, dpi=300, bbox_inches=\"tight\")\n",
    "    plt.show()\n",
    "\n",
    "\n",
    "metric_names = ['Median', 'IQM', 'Mean', 'Optimality Gap']\n",
    "aggregate_func = lambda x: np.array([\n",
    "  metrics.aggregate_median(x),\n",
    "  metrics.aggregate_iqm(x),\n",
    "  metrics.aggregate_mean(x),\n",
    "  metrics.aggregate_optimality_gap(x)])\n",
    "\n",
    "\n",
    "\n",
    "reps = 5000  # 50000\n",
    "\n",
    "\n",
    "\n",
    "env_names = [\n",
    "    \"CARLPendulumEnv\",\n",
    "    # \"CARLAcrobotEnv\",\n",
    "    \"CARLDmcWalkerEnv\",\n",
    "    \"CARLDmcQuadrupedEnv\",\n",
    "    \"CARLMountainCarEnv\"\n",
    "]\n",
    "\n",
    "for env_name in env_names:\n",
    "    print(env_name)\n",
    "    eval_data_fn = get_eval_data_fn(outdir=outdir, env_name=env_name)\n",
    "    plot_data_fn = get_plot_data_fn(eval_data_fn=eval_data_fn)\n",
    "    plot_df = load_plot_df(plot_data_fn=plot_data_fn, load_final=True)\n",
    "    plot_df = plot_df[plot_df[wkt[\"context_sampler.sigma_rel\"]] == 0.5]\n",
    "    plot_df = plot_df[(plot_df[wkt[\"wandb.group\"]] == \"concat (all)\") | (plot_df[wkt[\"wandb.group\"]] == \"hidden\")]\n",
    "\n",
    "\n",
    "\n",
    "    score_dict = {}\n",
    "    for gid, gdf in plot_df.groupby(\"visibility\"):\n",
    "        score_dict[gid] = gdf[wkt[\"eval/return\"]].to_numpy().reshape(1, -1)\n",
    "    algorithms = list(score_dict.keys())\n",
    "\n",
    "    aggregate_scores, aggregate_score_cis = rly.get_interval_estimates(\n",
    "        score_dict, aggregate_func, reps=reps)\n",
    "\n",
    "\n",
    "    plot_aggregated_boxenplot(plot_df=plot_df, env_name=env_name, figoutdir=figoutdir, yname=ynameplot)\n",
    "\n",
    "\n",
    "    fig, axes = plot_utils.plot_interval_estimates(\n",
    "        aggregate_scores, aggregate_score_cis,\n",
    "        metric_names=metric_names,\n",
    "        algorithms=algorithms, xlabel=wkt[\"eval/return\"])\n",
    "    # fig.set_tight_layout(True)\n",
    "    plt.show()\n",
    "\n",
    "    # break"
   ]
  }
 ],
 "metadata": {
  "kernelspec": {
   "display_name": "Python 3.10.4 ('carl')",
   "language": "python",
   "name": "python3"
  },
  "language_info": {
   "codemirror_mode": {
    "name": "ipython",
    "version": 3
   },
   "file_extension": ".py",
   "mimetype": "text/x-python",
   "name": "python",
   "nbconvert_exporter": "python",
   "pygments_lexer": "ipython3",
   "version": "3.10.4"
  },
  "toc-autonumbering": true,
  "toc-showcode": true,
  "toc-showmarkdowntxt": true,
  "vscode": {
   "interpreter": {
    "hash": "445f316a49a09d784fc20e9b3e621eb4aa26f31c3cfbe2b15408208fc87e667a"
   }
  }
 },
 "nbformat": 4,
 "nbformat_minor": 4
}
