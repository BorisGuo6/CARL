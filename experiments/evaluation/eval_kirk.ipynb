{
 "cells": [
  {
   "cell_type": "markdown",
   "source": [
    "# Evaluation for Kirk Experiment"
   ],
   "metadata": {
    "collapsed": false,
    "pycharm": {
     "name": "#%% md\n"
    }
   }
  },
  {
   "cell_type": "code",
   "execution_count": 33,
   "outputs": [],
   "source": [
    "import sys\n",
    "from omegaconf import OmegaConf, DictConfig\n",
    "from typing import Union, Dict, Optional\n",
    "\n",
    "sys.path.append(\"../..\")\n",
    "folder_train = '/home/benjamin/Dokumente/code/tmp/tntcomp/CARL/exp_sweep/2022-07-01/14-14-50_benchmark_train/'\n",
    "folder_eval = '/home/benjamin/Dokumente/code/tmp/tntcomp/CARL/multirun/2022-07-06/17-21-44'\n",
    "\n",
    "def recover_traincfg_from_wandb(fn_wbcfg: str, to_dict: bool = False) -> Optional[Union[DictConfig, Dict]]:\n",
    "    wbcfg = OmegaConf.load(fn_wbcfg)\n",
    "    if not \"traincfg\" in wbcfg:\n",
    "        return None\n",
    "    traincfg = wbcfg.traincfg\n",
    "    traincfg = OmegaConf.to_container(cfg=traincfg, resolve=False, enum_to_str=True)[\"value\"]\n",
    "    traincfg = ast.literal_eval(traincfg)\n",
    "    traincfg = OmegaConf.create(traincfg)\n",
    "    if to_dict:\n",
    "        traincfg = OmegaConf.to_container(cfg=traincfg, resolve=True, enum_to_str=True)\n",
    "    return traincfg"
   ],
   "metadata": {
    "collapsed": false,
    "pycharm": {
     "name": "#%%\n"
    }
   }
  },
  {
   "cell_type": "code",
   "execution_count": 46,
   "outputs": [
    {
     "name": "stderr",
     "output_type": "stream",
     "text": [
      "100%|████████████████████████████████████████████████████████████████████████████████████████████████████████████████████████████████████████████████████████████████████████| 356/356 [00:04<00:00, 71.96it/s]"
     ]
    },
    {
     "name": "stdout",
     "output_type": "stream",
     "text": [
      "    mode                 distribution_type  average_return\n",
      "0      A                             train      478.121667\n",
      "1      A                             train      494.834000\n",
      "2      A                             train      440.882000\n",
      "3      B                             train      497.043667\n",
      "4      B                             train      487.128000\n",
      "..   ...                               ...             ...\n",
      "155    C  test_interpolation_combinatorial      474.966333\n",
      "156    C  test_interpolation_combinatorial      499.717667\n",
      "157    B  test_interpolation_combinatorial      492.186333\n",
      "158    B  test_interpolation_combinatorial      499.995333\n",
      "159    B  test_interpolation_combinatorial      500.000000\n",
      "\n",
      "[160 rows x 3 columns]\n"
     ]
    },
    {
     "name": "stderr",
     "output_type": "stream",
     "text": [
      "\n"
     ]
    }
   ],
   "source": [
    "from rich import print as printr\n",
    "from rich.progress import track\n",
    "from pathlib import Path\n",
    "import ast\n",
    "import pandas as pd\n",
    "from tqdm import tqdm\n",
    "from wandb.sdk.wandb_helper import parse_config\n",
    "from experiments.common.utils.json_utils import lazy_json_load\n",
    "from experiments.evaluation.run_evaluation import find_multirun_paths\n",
    "\n",
    "fn_config = \".hydra/config.yaml\"\n",
    "fn_wbsummary = \"wandb/latest-run/files/wandb-summary.json\"\n",
    "fn_wbconfig = \"wandb/latest-run/files/config.yaml\"\n",
    "\n",
    "paths = find_multirun_paths(result_dir=folder_eval)\n",
    "\n",
    "entries = []\n",
    "for p in tqdm(paths):\n",
    "    p = Path(p)\n",
    "    fn_cfg = p / fn_config\n",
    "    fn_wbsum = p / fn_wbsummary\n",
    "    fn_wbcfg = p / fn_wbconfig\n",
    "    if not fn_wbcfg.is_file() or not fn_wbsum.is_file() or not fn_cfg.is_file():\n",
    "        continue\n",
    "    cfg = OmegaConf.load(fn_cfg)\n",
    "    traincfg = recover_traincfg_from_wandb(fn_wbcfg)\n",
    "    summary = lazy_json_load(fn_wbsum)\n",
    "\n",
    "    if traincfg is not None:\n",
    "        mode = traincfg.kirk_evaluation_protocol.mode\n",
    "    else:\n",
    "        mode = cfg.kirk_evaluation_protocol.mode\n",
    "    if \"average_return\" in summary:\n",
    "        average_return = summary[\"average_return\"]\n",
    "    else:\n",
    "        average_return = None\n",
    "\n",
    "    if mode is None or average_return is None:\n",
    "        continue\n",
    "\n",
    "    entry = {\n",
    "        \"mode\": mode,\n",
    "        \"distribution_type\": cfg.kirk_evaluation_protocol.distribution_type,\n",
    "        \"average_return\": average_return,\n",
    "    }\n",
    "    entries.append(entry)\n",
    "\n",
    "df = pd.DataFrame(entries)\n"
   ],
   "metadata": {
    "collapsed": false,
    "pycharm": {
     "name": "#%%\n"
    }
   }
  },
  {
   "cell_type": "code",
   "execution_count": 51,
   "outputs": [
    {
     "name": "stderr",
     "output_type": "stream",
     "text": [
      "/home/benjamin/.conda/envs/py39/lib/python3.9/site-packages/seaborn/axisgrid.py:670: UserWarning: Using the barplot function without specifying `order` is likely to produce an incorrect plot.\n",
      "  warnings.warn(warning)\n"
     ]
    },
    {
     "data": {
      "text/plain": "<seaborn.axisgrid.FacetGrid at 0x7fda3293e9d0>"
     },
     "execution_count": 51,
     "metadata": {},
     "output_type": "execute_result"
    },
    {
     "data": {
      "text/plain": "<Figure size 648x216 with 3 Axes>",
      "image/png": "[encoded data removed]"
     },
     "metadata": {
      "needs_background": "light"
     },
     "output_type": "display_data"
    }
   ],
   "source": [
    "import matplotlib.pyplot as plt\n",
    "import seaborn as sns\n",
    "\n",
    "grid = sns.FacetGrid(df, col=\"mode\")\n",
    "grid.map(sns.barplot, \"distribution_type\", \"average_return\")"
   ],
   "metadata": {
    "collapsed": false,
    "pycharm": {
     "name": "#%%\n"
    }
   }
  }
 ],
 "metadata": {
  "kernelspec": {
   "display_name": "Python 3",
   "language": "python",
   "name": "python3"
  },
  "language_info": {
   "codemirror_mode": {
    "name": "ipython",
    "version": 2
   },
   "file_extension": ".py",
   "mimetype": "text/x-python",
   "name": "python",
   "nbconvert_exporter": "python",
   "pygments_lexer": "ipython2",
   "version": "2.7.6"
  }
 },
 "nbformat": 4,
 "nbformat_minor": 0
}