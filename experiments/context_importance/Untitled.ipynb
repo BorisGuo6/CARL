{
 "cells": [
  {
   "cell_type": "code",
   "execution_count": 7,
   "id": "46448121",
   "metadata": {},
   "outputs": [],
   "source": [
    "from rich import print\n",
    "import numpy as np\n",
    "import matplotlib.pyplot as plt\n",
    "import seaborn as sns\n",
    "import pandas as pd\n",
    "import itertools\n",
    "import os\n",
    "import glob"
   ]
  },
  {
   "cell_type": "code",
   "execution_count": 8,
   "id": "e73ebcfa",
   "metadata": {},
   "outputs": [],
   "source": [
    "out_dir = os.path.join(\"/home/mohan/git/current_projects/contextual_rl/attention/CARL/\",\n",
    "                       \"experiments/context_importance/\",\n",
    "                       \"outputs/2022-07-05/22-06-44/\"\n",
    "                      )"
   ]
  },
  {
   "cell_type": "code",
   "execution_count": 17,
   "id": "84a3fc99",
   "metadata": {},
   "outputs": [],
   "source": [
    "eval_data_fps= glob.glob(os.path.join(out_dir, \"**\", \"eval_data/*.npz\"), recursive=True)\n",
    "eval_data_list = [np.load(fp, allow_pickle=True).item() for fp in eval_data_fps]"
   ]
  },
  {
   "cell_type": "code",
   "execution_count": 18,
   "id": "d1e7401f",
   "metadata": {},
   "outputs": [
    {
     "data": {
      "text/plain": [
       "127"
      ]
     },
     "execution_count": 18,
     "metadata": {},
     "output_type": "execute_result"
    }
   ],
   "source": [
    "len(eval_data_list)"
   ]
  },
  {
   "cell_type": "code",
   "execution_count": 61,
   "id": "5ec7b85e",
   "metadata": {},
   "outputs": [
    {
     "data": {
      "text/plain": [
       "[['max_speed', 'initial_angle_max'],\n",
       " ['max_speed', 'g', 'm', 'l', 'initial_velocity_max'],\n",
       " ['max_speed', 'm', 'initial_angle_max', 'initial_velocity_max'],\n",
       " ['dt', 'g', 'm', 'l', 'initial_velocity_max'],\n",
       " ['max_speed', 'initial_velocity_max'],\n",
       " ['dt', 'm', 'initial_velocity_max'],\n",
       " ['max_speed', 'dt', 'l', 'initial_velocity_max'],\n",
       " ['max_speed',\n",
       "  'dt',\n",
       "  'g',\n",
       "  'm',\n",
       "  'l',\n",
       "  'initial_angle_max',\n",
       "  'initial_velocity_max'],\n",
       " ['g'],\n",
       " ['dt', 'g', 'm', 'initial_velocity_max'],\n",
       " ['max_speed', 'dt', 'g', 'm', 'l', 'initial_angle_max'],\n",
       " ['dt', 'm', 'l', 'initial_angle_max'],\n",
       " ['dt', 'initial_velocity_max'],\n",
       " ['max_speed', 'g', 'm', 'l'],\n",
       " ['max_speed', 'dt', 'initial_angle_max', 'initial_velocity_max'],\n",
       " ['max_speed', 'l', 'initial_velocity_max'],\n",
       " ['g', 'm', 'l', 'initial_velocity_max'],\n",
       " ['g', 'initial_velocity_max'],\n",
       " ['max_speed', 'dt', 'g', 'l', 'initial_angle_max'],\n",
       " ['max_speed', 'g', 'm'],\n",
       " ['dt', 'm', 'initial_angle_max', 'initial_velocity_max'],\n",
       " ['max_speed', 'g', 'l', 'initial_angle_max', 'initial_velocity_max'],\n",
       " ['max_speed', 'dt', 'g', 'initial_velocity_max'],\n",
       " ['l'],\n",
       " ['max_speed', 'g', 'm', 'l', 'initial_angle_max', 'initial_velocity_max'],\n",
       " ['max_speed', 'dt', 'initial_velocity_max'],\n",
       " ['dt', 'm', 'l', 'initial_velocity_max'],\n",
       " ['max_speed', 'dt', 'm', 'initial_angle_max'],\n",
       " ['m', 'l', 'initial_angle_max'],\n",
       " ['dt', 'l'],\n",
       " ['dt', 'm', 'l'],\n",
       " ['max_speed', 'dt', 'g', 'm', 'initial_angle_max'],\n",
       " ['dt', 'initial_angle_max'],\n",
       " ['m', 'initial_angle_max'],\n",
       " ['max_speed', 'l'],\n",
       " ['max_speed', 'g', 'initial_angle_max', 'initial_velocity_max'],\n",
       " ['max_speed', 'dt', 'g', 'm'],\n",
       " ['dt', 'm', 'initial_angle_max'],\n",
       " ['initial_angle_max', 'initial_velocity_max'],\n",
       " ['max_speed', 'dt', 'm', 'l', 'initial_velocity_max'],\n",
       " ['initial_angle_max'],\n",
       " ['max_speed', 'g', 'm', 'initial_angle_max', 'initial_velocity_max'],\n",
       " ['dt', 'g', 'initial_angle_max'],\n",
       " ['g', 'initial_angle_max', 'initial_velocity_max'],\n",
       " ['max_speed', 'dt', 'g', 'l'],\n",
       " ['max_speed', 'dt', 'g', 'initial_angle_max', 'initial_velocity_max'],\n",
       " ['max_speed', 'g', 'initial_velocity_max'],\n",
       " ['max_speed', 'm', 'initial_velocity_max'],\n",
       " ['dt', 'l', 'initial_velocity_max'],\n",
       " ['g', 'l', 'initial_angle_max', 'initial_velocity_max'],\n",
       " ['dt', 'g', 'm', 'l', 'initial_angle_max', 'initial_velocity_max'],\n",
       " ['dt', 'l', 'initial_angle_max'],\n",
       " ['max_speed', 'dt', 'm', 'l', 'initial_angle_max', 'initial_velocity_max'],\n",
       " ['max_speed', 'm', 'l', 'initial_angle_max'],\n",
       " ['g', 'm', 'l'],\n",
       " ['dt', 'l', 'initial_angle_max', 'initial_velocity_max'],\n",
       " ['dt', 'g', 'l', 'initial_velocity_max'],\n",
       " ['dt'],\n",
       " ['max_speed', 'dt', 'l'],\n",
       " ['max_speed', 'g', 'l', 'initial_velocity_max'],\n",
       " ['m', 'l', 'initial_angle_max', 'initial_velocity_max'],\n",
       " ['max_speed', 'dt', 'g', 'l', 'initial_velocity_max'],\n",
       " ['m', 'initial_velocity_max'],\n",
       " ['dt', 'g', 'm', 'l'],\n",
       " ['max_speed', 'dt', 'g', 'm', 'initial_velocity_max'],\n",
       " ['max_speed', 'dt', 'g', 'l', 'initial_angle_max', 'initial_velocity_max'],\n",
       " ['dt', 'g', 'm', 'initial_angle_max', 'initial_velocity_max'],\n",
       " ['max_speed', 'dt', 'm', 'initial_angle_max', 'initial_velocity_max'],\n",
       " ['g', 'm', 'l', 'initial_angle_max', 'initial_velocity_max'],\n",
       " ['max_speed', 'dt', 'initial_angle_max'],\n",
       " ['dt', 'm', 'l', 'initial_angle_max', 'initial_velocity_max'],\n",
       " ['max_speed', 'dt', 'g', 'm', 'l', 'initial_velocity_max'],\n",
       " ['max_speed', 'g', 'm', 'initial_angle_max'],\n",
       " ['max_speed', 'dt', 'm', 'l'],\n",
       " ['max_speed', 'dt', 'g', 'm', 'initial_angle_max', 'initial_velocity_max'],\n",
       " ['max_speed', 'm', 'l'],\n",
       " ['max_speed', 'g'],\n",
       " ['l', 'initial_angle_max', 'initial_velocity_max'],\n",
       " ['dt', 'g', 'm'],\n",
       " ['max_speed', 'dt', 'm'],\n",
       " ['l', 'initial_angle_max'],\n",
       " ['m', 'l'],\n",
       " ['max_speed', 'm', 'l', 'initial_angle_max', 'initial_velocity_max'],\n",
       " ['l', 'initial_velocity_max'],\n",
       " ['max_speed', 'dt', 'm', 'initial_velocity_max'],\n",
       " ['max_speed', 'dt', 'm', 'l', 'initial_angle_max'],\n",
       " ['dt', 'g'],\n",
       " ['max_speed', 'g', 'l'],\n",
       " ['m', 'l', 'initial_velocity_max'],\n",
       " ['max_speed', 'g', 'initial_angle_max'],\n",
       " ['max_speed', 'dt', 'l', 'initial_angle_max'],\n",
       " ['max_speed', 'g', 'm', 'initial_velocity_max'],\n",
       " ['max_speed'],\n",
       " ['g', 'l', 'initial_velocity_max'],\n",
       " ['g', 'l'],\n",
       " ['max_speed', 'dt', 'g', 'initial_angle_max'],\n",
       " ['dt', 'm'],\n",
       " ['max_speed', 'g', 'm', 'l', 'initial_angle_max'],\n",
       " ['max_speed', 'initial_angle_max', 'initial_velocity_max'],\n",
       " ['max_speed', 'm', 'initial_angle_max'],\n",
       " ['g', 'm', 'l', 'initial_angle_max'],\n",
       " ['m'],\n",
       " ['max_speed', 'm'],\n",
       " ['dt', 'g', 'l'],\n",
       " ['initial_velocity_max'],\n",
       " ['g', 'm'],\n",
       " ['max_speed', 'g', 'l', 'initial_angle_max'],\n",
       " ['max_speed', 'l', 'initial_angle_max', 'initial_velocity_max'],\n",
       " ['dt', 'g', 'l', 'initial_angle_max'],\n",
       " ['g', 'l', 'initial_angle_max'],\n",
       " ['g', 'm', 'initial_angle_max'],\n",
       " ['g', 'initial_angle_max'],\n",
       " ['m', 'initial_angle_max', 'initial_velocity_max'],\n",
       " ['dt', 'g', 'm', 'initial_angle_max'],\n",
       " ['max_speed', 'm', 'l', 'initial_velocity_max'],\n",
       " ['g', 'm', 'initial_angle_max', 'initial_velocity_max'],\n",
       " ['max_speed', 'dt'],\n",
       " ['dt', 'g', 'm', 'l', 'initial_angle_max'],\n",
       " ['max_speed', 'dt', 'g'],\n",
       " ['g', 'm', 'initial_velocity_max'],\n",
       " ['dt', 'initial_angle_max', 'initial_velocity_max'],\n",
       " ['max_speed', 'l', 'initial_angle_max'],\n",
       " ['dt', 'g', 'initial_angle_max', 'initial_velocity_max'],\n",
       " ['max_speed', 'dt', 'l', 'initial_angle_max', 'initial_velocity_max'],\n",
       " ['dt', 'g', 'initial_velocity_max'],\n",
       " ['dt', 'g', 'l', 'initial_angle_max', 'initial_velocity_max'],\n",
       " ['max_speed', 'dt', 'g', 'm', 'l']]"
      ]
     },
     "execution_count": 61,
     "metadata": {},
     "output_type": "execute_result"
    }
   ],
   "source": [
    "DEFAULT_CONTEXT = {\n",
    "    \"max_speed\": 8.0,\n",
    "    \"dt\": 0.05,\n",
    "    \"g\": 10.0,\n",
    "    \"m\": 1.0,\n",
    "    \"l\": 1.0,\n",
    "\n",
    "    \"initial_angle_max\": np.pi, \n",
    "    \"initial_velocity_max\": 1,  \n",
    "}\n",
    "\n",
    "context_list = np.array([D[\"train_context\"] for D in eval_data_list])\n",
    "\n",
    "context_args = []\n",
    "\n",
    "for i in range(len(context_list)):\n",
    "    temp  = []\n",
    "    for key in context_list[i][20]:\n",
    "        if context_list[i][20][key] != DEFAULT_CONTEXT[key]:\n",
    "            temp.append(key)\n",
    "\n",
    "    context_args.append(temp)\n",
    "    \n",
    "    \n",
    "context_args"
   ]
  },
  {
   "cell_type": "code",
   "execution_count": 62,
   "id": "2a83c9ac",
   "metadata": {},
   "outputs": [
    {
     "data": {
      "text/plain": [
       "127"
      ]
     },
     "execution_count": 62,
     "metadata": {},
     "output_type": "execute_result"
    }
   ],
   "source": [
    "len(context_args)"
   ]
  },
  {
   "cell_type": "code",
   "execution_count": 64,
   "id": "e423e2e8",
   "metadata": {},
   "outputs": [
    {
     "data": {
      "text/plain": [
       "127"
      ]
     },
     "execution_count": 64,
     "metadata": {},
     "output_type": "execute_result"
    }
   ],
   "source": [
    "reward_list = np.array([D[\"returns\"] for D in eval_data_list])\n",
    "\n",
    "len(reward_list)"
   ]
  },
  {
   "cell_type": "code",
   "execution_count": 77,
   "id": "43fd9589",
   "metadata": {},
   "outputs": [
    {
     "data": {
      "text/html": [
       "<pre style=\"white-space:pre;overflow-x:auto;line-height:normal;font-family:Menlo,'DejaVu Sans Mono',consolas,'Courier New',monospace\"><span style=\"font-weight: bold\">[</span><span style=\"color: #008000; text-decoration-color: #008000\">'dt'</span>, <span style=\"color: #008000; text-decoration-color: #008000\">'g'</span>, <span style=\"color: #008000; text-decoration-color: #008000\">'m'</span>, <span style=\"color: #008000; text-decoration-color: #008000\">'l'</span>, <span style=\"color: #008000; text-decoration-color: #008000\">'initial_velocity_max'</span><span style=\"font-weight: bold\">]</span>\n",
       "</pre>\n"
      ],
      "text/plain": [
       "\u001b[1m[\u001b[0m\u001b[32m'dt'\u001b[0m, \u001b[32m'g'\u001b[0m, \u001b[32m'm'\u001b[0m, \u001b[32m'l'\u001b[0m, \u001b[32m'initial_velocity_max'\u001b[0m\u001b[1m]\u001b[0m\n"
      ]
     },
     "metadata": {},
     "output_type": "display_data"
    },
    {
     "data": {
      "text/html": [
       "<pre style=\"white-space:pre;overflow-x:auto;line-height:normal;font-family:Menlo,'DejaVu Sans Mono',consolas,'Courier New',monospace\"><span style=\"font-weight: bold\">[</span><span style=\"color: #008000; text-decoration-color: #008000\">'max_speed'</span>, <span style=\"color: #008000; text-decoration-color: #008000\">'dt'</span>, <span style=\"color: #008000; text-decoration-color: #008000\">'initial_angle_max'</span>, <span style=\"color: #008000; text-decoration-color: #008000\">'initial_velocity_max'</span><span style=\"font-weight: bold\">]</span>\n",
       "</pre>\n"
      ],
      "text/plain": [
       "\u001b[1m[\u001b[0m\u001b[32m'max_speed'\u001b[0m, \u001b[32m'dt'\u001b[0m, \u001b[32m'initial_angle_max'\u001b[0m, \u001b[32m'initial_velocity_max'\u001b[0m\u001b[1m]\u001b[0m\n"
      ]
     },
     "metadata": {},
     "output_type": "display_data"
    },
    {
     "data": {
      "text/html": [
       "<pre style=\"white-space:pre;overflow-x:auto;line-height:normal;font-family:Menlo,'DejaVu Sans Mono',consolas,'Courier New',monospace\"><span style=\"font-weight: bold\">[</span><span style=\"color: #008000; text-decoration-color: #008000\">'dt'</span>, <span style=\"color: #008000; text-decoration-color: #008000\">'l'</span><span style=\"font-weight: bold\">]</span>\n",
       "</pre>\n"
      ],
      "text/plain": [
       "\u001b[1m[\u001b[0m\u001b[32m'dt'\u001b[0m, \u001b[32m'l'\u001b[0m\u001b[1m]\u001b[0m\n"
      ]
     },
     "metadata": {},
     "output_type": "display_data"
    },
    {
     "data": {
      "text/html": [
       "<pre style=\"white-space:pre;overflow-x:auto;line-height:normal;font-family:Menlo,'DejaVu Sans Mono',consolas,'Courier New',monospace\"><span style=\"font-weight: bold\">[</span><span style=\"color: #008000; text-decoration-color: #008000\">'max_speed'</span>, <span style=\"color: #008000; text-decoration-color: #008000\">'dt'</span>, <span style=\"color: #008000; text-decoration-color: #008000\">'g'</span>, <span style=\"color: #008000; text-decoration-color: #008000\">'m'</span><span style=\"font-weight: bold\">]</span>\n",
       "</pre>\n"
      ],
      "text/plain": [
       "\u001b[1m[\u001b[0m\u001b[32m'max_speed'\u001b[0m, \u001b[32m'dt'\u001b[0m, \u001b[32m'g'\u001b[0m, \u001b[32m'm'\u001b[0m\u001b[1m]\u001b[0m\n"
      ]
     },
     "metadata": {},
     "output_type": "display_data"
    },
    {
     "data": {
      "text/html": [
       "<pre style=\"white-space:pre;overflow-x:auto;line-height:normal;font-family:Menlo,'DejaVu Sans Mono',consolas,'Courier New',monospace\"><span style=\"font-weight: bold\">[</span><span style=\"color: #008000; text-decoration-color: #008000\">'max_speed'</span>, <span style=\"color: #008000; text-decoration-color: #008000\">'dt'</span>, <span style=\"color: #008000; text-decoration-color: #008000\">'g'</span>, <span style=\"color: #008000; text-decoration-color: #008000\">'l'</span><span style=\"font-weight: bold\">]</span>\n",
       "</pre>\n"
      ],
      "text/plain": [
       "\u001b[1m[\u001b[0m\u001b[32m'max_speed'\u001b[0m, \u001b[32m'dt'\u001b[0m, \u001b[32m'g'\u001b[0m, \u001b[32m'l'\u001b[0m\u001b[1m]\u001b[0m\n"
      ]
     },
     "metadata": {},
     "output_type": "display_data"
    },
    {
     "data": {
      "text/html": [
       "<pre style=\"white-space:pre;overflow-x:auto;line-height:normal;font-family:Menlo,'DejaVu Sans Mono',consolas,'Courier New',monospace\"><span style=\"font-weight: bold\">[</span><span style=\"color: #008000; text-decoration-color: #008000\">'max_speed'</span>, <span style=\"color: #008000; text-decoration-color: #008000\">'g'</span>, <span style=\"color: #008000; text-decoration-color: #008000\">'initial_velocity_max'</span><span style=\"font-weight: bold\">]</span>\n",
       "</pre>\n"
      ],
      "text/plain": [
       "\u001b[1m[\u001b[0m\u001b[32m'max_speed'\u001b[0m, \u001b[32m'g'\u001b[0m, \u001b[32m'initial_velocity_max'\u001b[0m\u001b[1m]\u001b[0m\n"
      ]
     },
     "metadata": {},
     "output_type": "display_data"
    },
    {
     "data": {
      "text/html": [
       "<pre style=\"white-space:pre;overflow-x:auto;line-height:normal;font-family:Menlo,'DejaVu Sans Mono',consolas,'Courier New',monospace\"><span style=\"font-weight: bold\">[</span><span style=\"color: #008000; text-decoration-color: #008000\">'g'</span>, <span style=\"color: #008000; text-decoration-color: #008000\">'l'</span>, <span style=\"color: #008000; text-decoration-color: #008000\">'initial_angle_max'</span>, <span style=\"color: #008000; text-decoration-color: #008000\">'initial_velocity_max'</span><span style=\"font-weight: bold\">]</span>\n",
       "</pre>\n"
      ],
      "text/plain": [
       "\u001b[1m[\u001b[0m\u001b[32m'g'\u001b[0m, \u001b[32m'l'\u001b[0m, \u001b[32m'initial_angle_max'\u001b[0m, \u001b[32m'initial_velocity_max'\u001b[0m\u001b[1m]\u001b[0m\n"
      ]
     },
     "metadata": {},
     "output_type": "display_data"
    },
    {
     "data": {
      "text/html": [
       "<pre style=\"white-space:pre;overflow-x:auto;line-height:normal;font-family:Menlo,'DejaVu Sans Mono',consolas,'Courier New',monospace\"><span style=\"font-weight: bold\">[</span><span style=\"color: #008000; text-decoration-color: #008000\">'m'</span>, <span style=\"color: #008000; text-decoration-color: #008000\">'initial_velocity_max'</span><span style=\"font-weight: bold\">]</span>\n",
       "</pre>\n"
      ],
      "text/plain": [
       "\u001b[1m[\u001b[0m\u001b[32m'm'\u001b[0m, \u001b[32m'initial_velocity_max'\u001b[0m\u001b[1m]\u001b[0m\n"
      ]
     },
     "metadata": {},
     "output_type": "display_data"
    },
    {
     "data": {
      "text/html": [
       "<pre style=\"white-space:pre;overflow-x:auto;line-height:normal;font-family:Menlo,'DejaVu Sans Mono',consolas,'Courier New',monospace\"><span style=\"font-weight: bold\">[</span><span style=\"color: #008000; text-decoration-color: #008000\">'m'</span>, <span style=\"color: #008000; text-decoration-color: #008000\">'l'</span>, <span style=\"color: #008000; text-decoration-color: #008000\">'initial_velocity_max'</span><span style=\"font-weight: bold\">]</span>\n",
       "</pre>\n"
      ],
      "text/plain": [
       "\u001b[1m[\u001b[0m\u001b[32m'm'\u001b[0m, \u001b[32m'l'\u001b[0m, \u001b[32m'initial_velocity_max'\u001b[0m\u001b[1m]\u001b[0m\n"
      ]
     },
     "metadata": {},
     "output_type": "display_data"
    },
    {
     "data": {
      "text/html": [
       "<pre style=\"white-space:pre;overflow-x:auto;line-height:normal;font-family:Menlo,'DejaVu Sans Mono',consolas,'Courier New',monospace\"><span style=\"font-weight: bold\">[</span><span style=\"color: #008000; text-decoration-color: #008000\">'max_speed'</span><span style=\"font-weight: bold\">]</span>\n",
       "</pre>\n"
      ],
      "text/plain": [
       "\u001b[1m[\u001b[0m\u001b[32m'max_speed'\u001b[0m\u001b[1m]\u001b[0m\n"
      ]
     },
     "metadata": {},
     "output_type": "display_data"
    },
    {
     "data": {
      "text/html": [
       "<pre style=\"white-space:pre;overflow-x:auto;line-height:normal;font-family:Menlo,'DejaVu Sans Mono',consolas,'Courier New',monospace\"><span style=\"font-weight: bold\">[</span><span style=\"color: #008000; text-decoration-color: #008000\">'m'</span><span style=\"font-weight: bold\">]</span>\n",
       "</pre>\n"
      ],
      "text/plain": [
       "\u001b[1m[\u001b[0m\u001b[32m'm'\u001b[0m\u001b[1m]\u001b[0m\n"
      ]
     },
     "metadata": {},
     "output_type": "display_data"
    },
    {
     "data": {
      "text/html": [
       "<pre style=\"white-space:pre;overflow-x:auto;line-height:normal;font-family:Menlo,'DejaVu Sans Mono',consolas,'Courier New',monospace\"><span style=\"font-weight: bold\">[</span><span style=\"color: #008000; text-decoration-color: #008000\">'max_speed'</span>, <span style=\"color: #008000; text-decoration-color: #008000\">'m'</span><span style=\"font-weight: bold\">]</span>\n",
       "</pre>\n"
      ],
      "text/plain": [
       "\u001b[1m[\u001b[0m\u001b[32m'max_speed'\u001b[0m, \u001b[32m'm'\u001b[0m\u001b[1m]\u001b[0m\n"
      ]
     },
     "metadata": {},
     "output_type": "display_data"
    },
    {
     "data": {
      "text/html": [
       "<pre style=\"white-space:pre;overflow-x:auto;line-height:normal;font-family:Menlo,'DejaVu Sans Mono',consolas,'Courier New',monospace\"><span style=\"font-weight: bold\">[</span><span style=\"color: #008000; text-decoration-color: #008000\">'dt'</span>, <span style=\"color: #008000; text-decoration-color: #008000\">'g'</span>, <span style=\"color: #008000; text-decoration-color: #008000\">'initial_velocity_max'</span><span style=\"font-weight: bold\">]</span>\n",
       "</pre>\n"
      ],
      "text/plain": [
       "\u001b[1m[\u001b[0m\u001b[32m'dt'\u001b[0m, \u001b[32m'g'\u001b[0m, \u001b[32m'initial_velocity_max'\u001b[0m\u001b[1m]\u001b[0m\n"
      ]
     },
     "metadata": {},
     "output_type": "display_data"
    }
   ],
   "source": [
    "for i in np.where(reward_list  > -500)[0]:\n",
    "    print(context_args[i])"
   ]
  },
  {
   "cell_type": "code",
   "execution_count": 79,
   "id": "728ba2fa",
   "metadata": {},
   "outputs": [
    {
     "data": {
      "text/html": [
       "<pre style=\"white-space:pre;overflow-x:auto;line-height:normal;font-family:Menlo,'DejaVu Sans Mono',consolas,'Courier New',monospace\"><span style=\"font-weight: bold\">[</span><span style=\"color: #008000; text-decoration-color: #008000\">'max_speed'</span>, <span style=\"color: #008000; text-decoration-color: #008000\">'dt'</span>, <span style=\"color: #008000; text-decoration-color: #008000\">'initial_angle_max'</span>, <span style=\"color: #008000; text-decoration-color: #008000\">'initial_velocity_max'</span><span style=\"font-weight: bold\">]</span>\n",
       "</pre>\n"
      ],
      "text/plain": [
       "\u001b[1m[\u001b[0m\u001b[32m'max_speed'\u001b[0m, \u001b[32m'dt'\u001b[0m, \u001b[32m'initial_angle_max'\u001b[0m, \u001b[32m'initial_velocity_max'\u001b[0m\u001b[1m]\u001b[0m\n"
      ]
     },
     "metadata": {},
     "output_type": "display_data"
    }
   ],
   "source": [
    "for i in np.where(reward_list  > -150)[0]:\n",
    "    print(context_args[i])"
   ]
  },
  {
   "cell_type": "code",
   "execution_count": null,
   "id": "444ac653",
   "metadata": {},
   "outputs": [],
   "source": []
  }
 ],
 "metadata": {
  "kernelspec": {
   "display_name": "Python 3",
   "language": "python",
   "name": "python3"
  },
  "language_info": {
   "codemirror_mode": {
    "name": "ipython",
    "version": 3
   },
   "file_extension": ".py",
   "mimetype": "text/x-python",
   "name": "python",
   "nbconvert_exporter": "python",
   "pygments_lexer": "ipython3",
   "version": "3.9.7"
  }
 },
 "nbformat": 4,
 "nbformat_minor": 5
}
