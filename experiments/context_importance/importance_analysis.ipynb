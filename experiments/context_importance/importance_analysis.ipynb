{
 "cells": [
  {
   "cell_type": "code",
   "execution_count": 159,
   "id": "fce1e1a7",
   "metadata": {},
   "outputs": [],
   "source": [
    "from rich import print\n",
    "import numpy as np\n",
    "import matplotlib.pyplot as plt\n",
    "import seaborn as sns\n",
    "import pandas as pd\n",
    "import itertools\n",
    "import os\n",
    "import glob"
   ]
  },
  {
   "cell_type": "code",
   "execution_count": 160,
   "id": "a49649e6",
   "metadata": {},
   "outputs": [],
   "source": [
    "out_dir = os.path.join(\"/home/mohan/git/current_projects/contextual_rl/attention/CARL/\",\n",
    "                       \"experiments/context_importance/\",\n",
    "                       \"outputs/2022-07-05/22-06-44/\"\n",
    "                      )"
   ]
  },
  {
   "cell_type": "code",
   "execution_count": 161,
   "id": "7212a67e",
   "metadata": {},
   "outputs": [],
   "source": [
    "eval_data_fps= glob.glob(os.path.join(out_dir, \"**\", \"eval_data/*.npz\"), recursive=True)\n",
    "eval_data_list = [np.load(fp, allow_pickle=True).item() for fp in eval_data_fps]"
   ]
  },
  {
   "cell_type": "code",
   "execution_count": 162,
   "id": "dc610d9d",
   "metadata": {},
   "outputs": [
    {
     "data": {
      "text/plain": [
       "127"
      ]
     },
     "execution_count": 162,
     "metadata": {},
     "output_type": "execute_result"
    }
   ],
   "source": [
    "len(eval_data_list)"
   ]
  },
  {
   "cell_type": "code",
   "execution_count": 163,
   "id": "07089565",
   "metadata": {},
   "outputs": [
    {
     "data": {
      "text/plain": [
       "[['max_speed', 'initial_angle_max'],\n",
       " ['max_speed', 'g', 'm', 'l', 'initial_velocity_max'],\n",
       " ['max_speed', 'm', 'initial_angle_max', 'initial_velocity_max'],\n",
       " ['dt', 'g', 'm', 'l', 'initial_velocity_max'],\n",
       " ['max_speed', 'initial_velocity_max'],\n",
       " ['dt', 'm', 'initial_velocity_max'],\n",
       " ['max_speed', 'dt', 'l', 'initial_velocity_max'],\n",
       " ['max_speed',\n",
       "  'dt',\n",
       "  'g',\n",
       "  'm',\n",
       "  'l',\n",
       "  'initial_angle_max',\n",
       "  'initial_velocity_max'],\n",
       " ['g'],\n",
       " ['dt', 'g', 'm', 'initial_velocity_max'],\n",
       " ['max_speed', 'dt', 'g', 'm', 'l', 'initial_angle_max'],\n",
       " ['dt', 'm', 'l', 'initial_angle_max'],\n",
       " ['dt', 'initial_velocity_max'],\n",
       " ['max_speed', 'g', 'm', 'l'],\n",
       " ['max_speed', 'dt', 'initial_angle_max', 'initial_velocity_max'],\n",
       " ['max_speed', 'l', 'initial_velocity_max'],\n",
       " ['g', 'm', 'l', 'initial_velocity_max'],\n",
       " ['g', 'initial_velocity_max'],\n",
       " ['max_speed', 'dt', 'g', 'l', 'initial_angle_max'],\n",
       " ['max_speed', 'g', 'm'],\n",
       " ['dt', 'm', 'initial_angle_max', 'initial_velocity_max'],\n",
       " ['max_speed', 'g', 'l', 'initial_angle_max', 'initial_velocity_max'],\n",
       " ['max_speed', 'dt', 'g', 'initial_velocity_max'],\n",
       " ['l'],\n",
       " ['max_speed', 'g', 'm', 'l', 'initial_angle_max', 'initial_velocity_max'],\n",
       " ['max_speed', 'dt', 'initial_velocity_max'],\n",
       " ['dt', 'm', 'l', 'initial_velocity_max'],\n",
       " ['max_speed', 'dt', 'm', 'initial_angle_max'],\n",
       " ['m', 'l', 'initial_angle_max'],\n",
       " ['dt', 'l'],\n",
       " ['dt', 'm', 'l'],\n",
       " ['max_speed', 'dt', 'g', 'm', 'initial_angle_max'],\n",
       " ['dt', 'initial_angle_max'],\n",
       " ['m', 'initial_angle_max'],\n",
       " ['max_speed', 'l'],\n",
       " ['max_speed', 'g', 'initial_angle_max', 'initial_velocity_max'],\n",
       " ['max_speed', 'dt', 'g', 'm'],\n",
       " ['dt', 'm', 'initial_angle_max'],\n",
       " ['initial_angle_max', 'initial_velocity_max'],\n",
       " ['max_speed', 'dt', 'm', 'l', 'initial_velocity_max'],\n",
       " ['initial_angle_max'],\n",
       " ['max_speed', 'g', 'm', 'initial_angle_max', 'initial_velocity_max'],\n",
       " ['dt', 'g', 'initial_angle_max'],\n",
       " ['g', 'initial_angle_max', 'initial_velocity_max'],\n",
       " ['max_speed', 'dt', 'g', 'l'],\n",
       " ['max_speed', 'dt', 'g', 'initial_angle_max', 'initial_velocity_max'],\n",
       " ['max_speed', 'g', 'initial_velocity_max'],\n",
       " ['max_speed', 'm', 'initial_velocity_max'],\n",
       " ['dt', 'l', 'initial_velocity_max'],\n",
       " ['g', 'l', 'initial_angle_max', 'initial_velocity_max'],\n",
       " ['dt', 'g', 'm', 'l', 'initial_angle_max', 'initial_velocity_max'],\n",
       " ['dt', 'l', 'initial_angle_max'],\n",
       " ['max_speed', 'dt', 'm', 'l', 'initial_angle_max', 'initial_velocity_max'],\n",
       " ['max_speed', 'm', 'l', 'initial_angle_max'],\n",
       " ['g', 'm', 'l'],\n",
       " ['dt', 'l', 'initial_angle_max', 'initial_velocity_max'],\n",
       " ['dt', 'g', 'l', 'initial_velocity_max'],\n",
       " ['dt'],\n",
       " ['max_speed', 'dt', 'l'],\n",
       " ['max_speed', 'g', 'l', 'initial_velocity_max'],\n",
       " ['m', 'l', 'initial_angle_max', 'initial_velocity_max'],\n",
       " ['max_speed', 'dt', 'g', 'l', 'initial_velocity_max'],\n",
       " ['m', 'initial_velocity_max'],\n",
       " ['dt', 'g', 'm', 'l'],\n",
       " ['max_speed', 'dt', 'g', 'm', 'initial_velocity_max'],\n",
       " ['max_speed', 'dt', 'g', 'l', 'initial_angle_max', 'initial_velocity_max'],\n",
       " ['dt', 'g', 'm', 'initial_angle_max', 'initial_velocity_max'],\n",
       " ['max_speed', 'dt', 'm', 'initial_angle_max', 'initial_velocity_max'],\n",
       " ['g', 'm', 'l', 'initial_angle_max', 'initial_velocity_max'],\n",
       " ['max_speed', 'dt', 'initial_angle_max'],\n",
       " ['dt', 'm', 'l', 'initial_angle_max', 'initial_velocity_max'],\n",
       " ['max_speed', 'dt', 'g', 'm', 'l', 'initial_velocity_max'],\n",
       " ['max_speed', 'g', 'm', 'initial_angle_max'],\n",
       " ['max_speed', 'dt', 'm', 'l'],\n",
       " ['max_speed', 'dt', 'g', 'm', 'initial_angle_max', 'initial_velocity_max'],\n",
       " ['max_speed', 'm', 'l'],\n",
       " ['max_speed', 'g'],\n",
       " ['l', 'initial_angle_max', 'initial_velocity_max'],\n",
       " ['dt', 'g', 'm'],\n",
       " ['max_speed', 'dt', 'm'],\n",
       " ['l', 'initial_angle_max'],\n",
       " ['m', 'l'],\n",
       " ['max_speed', 'm', 'l', 'initial_angle_max', 'initial_velocity_max'],\n",
       " ['l', 'initial_velocity_max'],\n",
       " ['max_speed', 'dt', 'm', 'initial_velocity_max'],\n",
       " ['max_speed', 'dt', 'm', 'l', 'initial_angle_max'],\n",
       " ['dt', 'g'],\n",
       " ['max_speed', 'g', 'l'],\n",
       " ['m', 'l', 'initial_velocity_max'],\n",
       " ['max_speed', 'g', 'initial_angle_max'],\n",
       " ['max_speed', 'dt', 'l', 'initial_angle_max'],\n",
       " ['max_speed', 'g', 'm', 'initial_velocity_max'],\n",
       " ['max_speed'],\n",
       " ['g', 'l', 'initial_velocity_max'],\n",
       " ['g', 'l'],\n",
       " ['max_speed', 'dt', 'g', 'initial_angle_max'],\n",
       " ['dt', 'm'],\n",
       " ['max_speed', 'g', 'm', 'l', 'initial_angle_max'],\n",
       " ['max_speed', 'initial_angle_max', 'initial_velocity_max'],\n",
       " ['max_speed', 'm', 'initial_angle_max'],\n",
       " ['g', 'm', 'l', 'initial_angle_max'],\n",
       " ['m'],\n",
       " ['max_speed', 'm'],\n",
       " ['dt', 'g', 'l'],\n",
       " ['initial_velocity_max'],\n",
       " ['g', 'm'],\n",
       " ['max_speed', 'g', 'l', 'initial_angle_max'],\n",
       " ['max_speed', 'l', 'initial_angle_max', 'initial_velocity_max'],\n",
       " ['dt', 'g', 'l', 'initial_angle_max'],\n",
       " ['g', 'l', 'initial_angle_max'],\n",
       " ['g', 'm', 'initial_angle_max'],\n",
       " ['g', 'initial_angle_max'],\n",
       " ['m', 'initial_angle_max', 'initial_velocity_max'],\n",
       " ['dt', 'g', 'm', 'initial_angle_max'],\n",
       " ['max_speed', 'm', 'l', 'initial_velocity_max'],\n",
       " ['g', 'm', 'initial_angle_max', 'initial_velocity_max'],\n",
       " ['max_speed', 'dt'],\n",
       " ['dt', 'g', 'm', 'l', 'initial_angle_max'],\n",
       " ['max_speed', 'dt', 'g'],\n",
       " ['g', 'm', 'initial_velocity_max'],\n",
       " ['dt', 'initial_angle_max', 'initial_velocity_max'],\n",
       " ['max_speed', 'l', 'initial_angle_max'],\n",
       " ['dt', 'g', 'initial_angle_max', 'initial_velocity_max'],\n",
       " ['max_speed', 'dt', 'l', 'initial_angle_max', 'initial_velocity_max'],\n",
       " ['dt', 'g', 'initial_velocity_max'],\n",
       " ['dt', 'g', 'l', 'initial_angle_max', 'initial_velocity_max'],\n",
       " ['max_speed', 'dt', 'g', 'm', 'l']]"
      ]
     },
     "execution_count": 163,
     "metadata": {},
     "output_type": "execute_result"
    }
   ],
   "source": [
    "DEFAULT_CONTEXT = {\n",
    "    \"max_speed\": 8.0,\n",
    "    \"dt\": 0.05,\n",
    "    \"g\": 10.0,\n",
    "    \"m\": 1.0,\n",
    "    \"l\": 1.0,\n",
    "\n",
    "    \"initial_angle_max\": np.pi, \n",
    "    \"initial_velocity_max\": 1,  \n",
    "}\n",
    "\n",
    "context_list = np.array([D[\"train_context\"] for D in eval_data_list])\n",
    "\n",
    "context_args = []\n",
    "\n",
    "for i in range(len(context_list)):\n",
    "    temp  = []\n",
    "    for key in context_list[i][20]:\n",
    "        if context_list[i][20][key] != DEFAULT_CONTEXT[key]:\n",
    "            temp.append(key)\n",
    "\n",
    "    context_args.append(temp)\n",
    "    \n",
    "    \n",
    "context_args"
   ]
  },
  {
   "cell_type": "code",
   "execution_count": 164,
   "id": "f71a6996",
   "metadata": {},
   "outputs": [
    {
     "data": {
      "text/plain": [
       "127"
      ]
     },
     "execution_count": 164,
     "metadata": {},
     "output_type": "execute_result"
    }
   ],
   "source": [
    "len(context_args)"
   ]
  },
  {
   "cell_type": "code",
   "execution_count": 165,
   "id": "fd1349fa",
   "metadata": {},
   "outputs": [
    {
     "data": {
      "text/plain": [
       "127"
      ]
     },
     "execution_count": 165,
     "metadata": {},
     "output_type": "execute_result"
    }
   ],
   "source": [
    "reward_list = np.array([D[\"returns\"] for D in eval_data_list])\n",
    "\n",
    "len(reward_list)"
   ]
  },
  {
   "cell_type": "code",
   "execution_count": 166,
   "id": "cb9301ac",
   "metadata": {},
   "outputs": [],
   "source": [
    "fp = {key: [] for key in DEFAULT_CONTEXT}\n",
    "\n",
    "log_points = np.arange(150, 1050, 50) * -1\n",
    "\n",
    "for i in range(len(log_points)):\n",
    "    temp = {key: 0 for key in DEFAULT_CONTEXT}\n",
    "    \n",
    "    for args in [ context_args[i] for i in np.where(reward_list  > log_points[i])[0]  ]:\n",
    "        for context in args:\n",
    "            temp[context] +=1\n",
    "\n",
    "    for key in temp:\n",
    "        fp[key].append(temp[key])"
   ]
  },
  {
   "cell_type": "code",
   "execution_count": 167,
   "id": "6717f19d",
   "metadata": {},
   "outputs": [
    {
     "data": {
      "text/plain": [
       "Text(0, 0.5, 'Frequency in sampled context args')"
      ]
     },
     "execution_count": 167,
     "metadata": {},
     "output_type": "execute_result"
    },
    {
     "data": {
      "image/png": "[encoded data removed]",
      "text/plain": [
       "<Figure size 432x288 with 1 Axes>"
      ]
     },
     "metadata": {
      "needs_background": "light"
     },
     "output_type": "display_data"
    }
   ],
   "source": [
    "\n",
    "\n",
    "plt.grid()\n",
    "\n",
    "for key in ['g', 'l', 'm', 'dt', 'max_speed']:\n",
    "    plt.plot(log_points, fp[key], label=key)\n",
    "\n",
    "plt.legend()\n",
    "plt.xlabel('Average Reward')\n",
    "plt.ylabel('Frequency in sampled context args')"
   ]
  },
  {
   "cell_type": "code",
   "execution_count": 168,
   "id": "fa6b414d",
   "metadata": {},
   "outputs": [
    {
     "data": {
      "text/plain": [
       "Text(0, 0.5, 'Frequency in sampled context args')"
      ]
     },
     "execution_count": 168,
     "metadata": {},
     "output_type": "execute_result"
    },
    {
     "data": {
      "image/png": "[encoded data removed]",
      "text/plain": [
       "<Figure size 432x288 with 1 Axes>"
      ]
     },
     "metadata": {
      "needs_background": "light"
     },
     "output_type": "display_data"
    }
   ],
   "source": [
    "\n",
    "plt.grid()\n",
    "\n",
    "for key in ['g',]:\n",
    "    plt.plot(log_points, fp[key], label=key)\n",
    "\n",
    "plt.legend()\n",
    "plt.xlabel('Average Reward')\n",
    "plt.ylabel('Frequency in sampled context args')"
   ]
  },
  {
   "cell_type": "code",
   "execution_count": null,
   "id": "7a3208fc",
   "metadata": {},
   "outputs": [],
   "source": []
  }
 ],
 "metadata": {
  "kernelspec": {
   "display_name": "Python 3",
   "language": "python",
   "name": "python3"
  },
  "language_info": {
   "codemirror_mode": {
    "name": "ipython",
    "version": 3
   },
   "file_extension": ".py",
   "mimetype": "text/x-python",
   "name": "python",
   "nbconvert_exporter": "python",
   "pygments_lexer": "ipython3",
   "version": "3.9.7"
  }
 },
 "nbformat": 4,
 "nbformat_minor": 5
}
