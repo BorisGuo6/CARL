{
 "cells": [
  {
   "cell_type": "markdown",
   "metadata": {},
   "source": [
    "# Runcommands for Oracle\n",
    "Prepare runcommands for training the oracle on each single context.\n",
    "1. Get all contexts for one seed\n",
    "2. Split contexts into context files\n",
    "3. Build runcommand to rerun on all those context files\n",
    "4. Save as .sh file"
   ]
  },
  {
   "cell_type": "code",
   "execution_count": 1,
   "metadata": {},
   "outputs": [
    {
     "data": {
      "text/html": [
       "<pre style=\"white-space:pre;overflow-x:auto;line-height:normal;font-family:Menlo,'DejaVu Sans Mono',consolas,'Courier New',monospace\">python experiments/benchmarking/run_training.py <span style=\"color: #008000; text-decoration-color: #008000\">'+experiments=optimality_gap'</span> <span style=\"color: #008000; text-decoration-color: #008000\">'seed=1'</span> '<span style=\"color: #808000; text-decoration-color: #808000\">conte</span>\n",
       "<span style=\"color: #808000; text-decoration-color: #808000\">xts_train_path</span>=<span style=\"color: #800080; text-decoration-color: #800080\">/home/benjamin/Dokumente/code/tmp/tntcomp/CARL/experiments/benchmarking/config</span>\n",
       "<span style=\"color: #800080; text-decoration-color: #800080\">s/experiments/optgap/</span><span style=\"color: #ff00ff; text-decoration-color: #ff00ff\">context_0_0.json</span>,<span style=\"color: #800080; text-decoration-color: #800080\">/home/benjamin/Dokumente/code/tmp/</span><span style=\"color: #ff00ff; text-decoration-color: #ff00ff\">tn</span>\n",
       "</pre>\n"
      ],
      "text/plain": [
       "python experiments/benchmarking/run_training.py \u001b[32m'+\u001b[0m\u001b[32mexperiments\u001b[0m\u001b[32m=\u001b[0m\u001b[32moptimality_gap\u001b[0m\u001b[32m'\u001b[0m \u001b[32m'\u001b[0m\u001b[32mseed\u001b[0m\u001b[32m=\u001b[0m\u001b[32m1\u001b[0m\u001b[32m'\u001b[0m '\u001b[33mconte\u001b[0m\n",
       "\u001b[33mxts_train_path\u001b[0m=\u001b[35m/home/benjamin/Dokumente/code/tmp/tntcomp/CARL/experiments/benchmarking/config\u001b[0m\n",
       "\u001b[35ms/experiments/optgap/\u001b[0m\u001b[95mcontext_0_0.json\u001b[0m,\u001b[35m/home/benjamin/Dokumente/code/tmp/\u001b[0m\u001b[95mtn\u001b[0m\n"
      ]
     },
     "metadata": {},
     "output_type": "display_data"
    },
    {
     "data": {
      "text/html": [
       "<pre style=\"white-space:pre;overflow-x:auto;line-height:normal;font-family:Menlo,'DejaVu Sans Mono',consolas,'Courier New',monospace\">python experiments/benchmarking/run_training.py <span style=\"color: #008000; text-decoration-color: #008000\">'+experiments=optimality_gap'</span> <span style=\"color: #008000; text-decoration-color: #008000\">'seed=2'</span> '<span style=\"color: #808000; text-decoration-color: #808000\">conte</span>\n",
       "<span style=\"color: #808000; text-decoration-color: #808000\">xts_train_path</span>=<span style=\"color: #800080; text-decoration-color: #800080\">/home/benjamin/Dokumente/code/tmp/tntcomp/CARL/experiments/benchmarking/config</span>\n",
       "<span style=\"color: #800080; text-decoration-color: #800080\">s/experiments/optgap/</span><span style=\"color: #ff00ff; text-decoration-color: #ff00ff\">context_1_0.json</span>,<span style=\"color: #800080; text-decoration-color: #800080\">/home/benjamin/Dokumente/code/tmp/</span><span style=\"color: #ff00ff; text-decoration-color: #ff00ff\">tn</span>\n",
       "</pre>\n"
      ],
      "text/plain": [
       "python experiments/benchmarking/run_training.py \u001b[32m'+\u001b[0m\u001b[32mexperiments\u001b[0m\u001b[32m=\u001b[0m\u001b[32moptimality_gap\u001b[0m\u001b[32m'\u001b[0m \u001b[32m'\u001b[0m\u001b[32mseed\u001b[0m\u001b[32m=\u001b[0m\u001b[32m2\u001b[0m\u001b[32m'\u001b[0m '\u001b[33mconte\u001b[0m\n",
       "\u001b[33mxts_train_path\u001b[0m=\u001b[35m/home/benjamin/Dokumente/code/tmp/tntcomp/CARL/experiments/benchmarking/config\u001b[0m\n",
       "\u001b[35ms/experiments/optgap/\u001b[0m\u001b[95mcontext_1_0.json\u001b[0m,\u001b[35m/home/benjamin/Dokumente/code/tmp/\u001b[0m\u001b[95mtn\u001b[0m\n"
      ]
     },
     "metadata": {},
     "output_type": "display_data"
    },
    {
     "data": {
      "text/html": [
       "<pre style=\"white-space:pre;overflow-x:auto;line-height:normal;font-family:Menlo,'DejaVu Sans Mono',consolas,'Courier New',monospace\">python experiments/benchmarking/run_training.py <span style=\"color: #008000; text-decoration-color: #008000\">'+experiments=optimality_gap'</span> <span style=\"color: #008000; text-decoration-color: #008000\">'seed=3'</span> '<span style=\"color: #808000; text-decoration-color: #808000\">conte</span>\n",
       "<span style=\"color: #808000; text-decoration-color: #808000\">xts_train_path</span>=<span style=\"color: #800080; text-decoration-color: #800080\">/home/benjamin/Dokumente/code/tmp/tntcomp/CARL/experiments/benchmarking/config</span>\n",
       "<span style=\"color: #800080; text-decoration-color: #800080\">s/experiments/optgap/</span><span style=\"color: #ff00ff; text-decoration-color: #ff00ff\">context_2_0.json</span>,<span style=\"color: #800080; text-decoration-color: #800080\">/home/benjamin/Dokumente/code/tmp/</span><span style=\"color: #ff00ff; text-decoration-color: #ff00ff\">tn</span>\n",
       "</pre>\n"
      ],
      "text/plain": [
       "python experiments/benchmarking/run_training.py \u001b[32m'+\u001b[0m\u001b[32mexperiments\u001b[0m\u001b[32m=\u001b[0m\u001b[32moptimality_gap\u001b[0m\u001b[32m'\u001b[0m \u001b[32m'\u001b[0m\u001b[32mseed\u001b[0m\u001b[32m=\u001b[0m\u001b[32m3\u001b[0m\u001b[32m'\u001b[0m '\u001b[33mconte\u001b[0m\n",
       "\u001b[33mxts_train_path\u001b[0m=\u001b[35m/home/benjamin/Dokumente/code/tmp/tntcomp/CARL/experiments/benchmarking/config\u001b[0m\n",
       "\u001b[35ms/experiments/optgap/\u001b[0m\u001b[95mcontext_2_0.json\u001b[0m,\u001b[35m/home/benjamin/Dokumente/code/tmp/\u001b[0m\u001b[95mtn\u001b[0m\n"
      ]
     },
     "metadata": {},
     "output_type": "display_data"
    },
    {
     "data": {
      "text/html": [
       "<pre style=\"white-space:pre;overflow-x:auto;line-height:normal;font-family:Menlo,'DejaVu Sans Mono',consolas,'Courier New',monospace\">python experiments/benchmarking/run_training.py <span style=\"color: #008000; text-decoration-color: #008000\">'+experiments=optimality_gap'</span> <span style=\"color: #008000; text-decoration-color: #008000\">'seed=4'</span> '<span style=\"color: #808000; text-decoration-color: #808000\">conte</span>\n",
       "<span style=\"color: #808000; text-decoration-color: #808000\">xts_train_path</span>=<span style=\"color: #800080; text-decoration-color: #800080\">/home/benjamin/Dokumente/code/tmp/tntcomp/CARL/experiments/benchmarking/config</span>\n",
       "<span style=\"color: #800080; text-decoration-color: #800080\">s/experiments/optgap/</span><span style=\"color: #ff00ff; text-decoration-color: #ff00ff\">context_3_0.json</span>,<span style=\"color: #800080; text-decoration-color: #800080\">/home/benjamin/Dokumente/code/tmp/</span><span style=\"color: #ff00ff; text-decoration-color: #ff00ff\">tn</span>\n",
       "</pre>\n"
      ],
      "text/plain": [
       "python experiments/benchmarking/run_training.py \u001b[32m'+\u001b[0m\u001b[32mexperiments\u001b[0m\u001b[32m=\u001b[0m\u001b[32moptimality_gap\u001b[0m\u001b[32m'\u001b[0m \u001b[32m'\u001b[0m\u001b[32mseed\u001b[0m\u001b[32m=\u001b[0m\u001b[32m4\u001b[0m\u001b[32m'\u001b[0m '\u001b[33mconte\u001b[0m\n",
       "\u001b[33mxts_train_path\u001b[0m=\u001b[35m/home/benjamin/Dokumente/code/tmp/tntcomp/CARL/experiments/benchmarking/config\u001b[0m\n",
       "\u001b[35ms/experiments/optgap/\u001b[0m\u001b[95mcontext_3_0.json\u001b[0m,\u001b[35m/home/benjamin/Dokumente/code/tmp/\u001b[0m\u001b[95mtn\u001b[0m\n"
      ]
     },
     "metadata": {},
     "output_type": "display_data"
    },
    {
     "data": {
      "text/html": [
       "<pre style=\"white-space:pre;overflow-x:auto;line-height:normal;font-family:Menlo,'DejaVu Sans Mono',consolas,'Courier New',monospace\">python experiments/benchmarking/run_training.py <span style=\"color: #008000; text-decoration-color: #008000\">'+experiments=optimality_gap'</span> <span style=\"color: #008000; text-decoration-color: #008000\">'seed=5'</span> '<span style=\"color: #808000; text-decoration-color: #808000\">conte</span>\n",
       "<span style=\"color: #808000; text-decoration-color: #808000\">xts_train_path</span>=<span style=\"color: #800080; text-decoration-color: #800080\">/home/benjamin/Dokumente/code/tmp/tntcomp/CARL/experiments/benchmarking/config</span>\n",
       "<span style=\"color: #800080; text-decoration-color: #800080\">s/experiments/optgap/</span><span style=\"color: #ff00ff; text-decoration-color: #ff00ff\">context_4_0.json</span>,<span style=\"color: #800080; text-decoration-color: #800080\">/home/benjamin/Dokumente/code/tmp/</span><span style=\"color: #ff00ff; text-decoration-color: #ff00ff\">tn</span>\n",
       "</pre>\n"
      ],
      "text/plain": [
       "python experiments/benchmarking/run_training.py \u001b[32m'+\u001b[0m\u001b[32mexperiments\u001b[0m\u001b[32m=\u001b[0m\u001b[32moptimality_gap\u001b[0m\u001b[32m'\u001b[0m \u001b[32m'\u001b[0m\u001b[32mseed\u001b[0m\u001b[32m=\u001b[0m\u001b[32m5\u001b[0m\u001b[32m'\u001b[0m '\u001b[33mconte\u001b[0m\n",
       "\u001b[33mxts_train_path\u001b[0m=\u001b[35m/home/benjamin/Dokumente/code/tmp/tntcomp/CARL/experiments/benchmarking/config\u001b[0m\n",
       "\u001b[35ms/experiments/optgap/\u001b[0m\u001b[95mcontext_4_0.json\u001b[0m,\u001b[35m/home/benjamin/Dokumente/code/tmp/\u001b[0m\u001b[95mtn\u001b[0m\n"
      ]
     },
     "metadata": {},
     "output_type": "display_data"
    },
    {
     "data": {
      "text/html": [
       "<pre style=\"white-space:pre;overflow-x:auto;line-height:normal;font-family:Menlo,'DejaVu Sans Mono',consolas,'Courier New',monospace\">python experiments/benchmarking/run_training.py <span style=\"color: #008000; text-decoration-color: #008000\">'+experiments=optimality_gap'</span> <span style=\"color: #008000; text-decoration-color: #008000\">'seed=6'</span> '<span style=\"color: #808000; text-decoration-color: #808000\">conte</span>\n",
       "<span style=\"color: #808000; text-decoration-color: #808000\">xts_train_path</span>=<span style=\"color: #800080; text-decoration-color: #800080\">/home/benjamin/Dokumente/code/tmp/tntcomp/CARL/experiments/benchmarking/config</span>\n",
       "<span style=\"color: #800080; text-decoration-color: #800080\">s/experiments/optgap/</span><span style=\"color: #ff00ff; text-decoration-color: #ff00ff\">context_5_0.json</span>,<span style=\"color: #800080; text-decoration-color: #800080\">/home/benjamin/Dokumente/code/tmp/</span><span style=\"color: #ff00ff; text-decoration-color: #ff00ff\">tn</span>\n",
       "</pre>\n"
      ],
      "text/plain": [
       "python experiments/benchmarking/run_training.py \u001b[32m'+\u001b[0m\u001b[32mexperiments\u001b[0m\u001b[32m=\u001b[0m\u001b[32moptimality_gap\u001b[0m\u001b[32m'\u001b[0m \u001b[32m'\u001b[0m\u001b[32mseed\u001b[0m\u001b[32m=\u001b[0m\u001b[32m6\u001b[0m\u001b[32m'\u001b[0m '\u001b[33mconte\u001b[0m\n",
       "\u001b[33mxts_train_path\u001b[0m=\u001b[35m/home/benjamin/Dokumente/code/tmp/tntcomp/CARL/experiments/benchmarking/config\u001b[0m\n",
       "\u001b[35ms/experiments/optgap/\u001b[0m\u001b[95mcontext_5_0.json\u001b[0m,\u001b[35m/home/benjamin/Dokumente/code/tmp/\u001b[0m\u001b[95mtn\u001b[0m\n"
      ]
     },
     "metadata": {},
     "output_type": "display_data"
    },
    {
     "data": {
      "text/html": [
       "<pre style=\"white-space:pre;overflow-x:auto;line-height:normal;font-family:Menlo,'DejaVu Sans Mono',consolas,'Courier New',monospace\">python experiments/benchmarking/run_training.py <span style=\"color: #008000; text-decoration-color: #008000\">'+experiments=optimality_gap'</span> <span style=\"color: #008000; text-decoration-color: #008000\">'seed=7'</span> '<span style=\"color: #808000; text-decoration-color: #808000\">conte</span>\n",
       "<span style=\"color: #808000; text-decoration-color: #808000\">xts_train_path</span>=<span style=\"color: #800080; text-decoration-color: #800080\">/home/benjamin/Dokumente/code/tmp/tntcomp/CARL/experiments/benchmarking/config</span>\n",
       "<span style=\"color: #800080; text-decoration-color: #800080\">s/experiments/optgap/</span><span style=\"color: #ff00ff; text-decoration-color: #ff00ff\">context_6_0.json</span>,<span style=\"color: #800080; text-decoration-color: #800080\">/home/benjamin/Dokumente/code/tmp/</span><span style=\"color: #ff00ff; text-decoration-color: #ff00ff\">tn</span>\n",
       "</pre>\n"
      ],
      "text/plain": [
       "python experiments/benchmarking/run_training.py \u001b[32m'+\u001b[0m\u001b[32mexperiments\u001b[0m\u001b[32m=\u001b[0m\u001b[32moptimality_gap\u001b[0m\u001b[32m'\u001b[0m \u001b[32m'\u001b[0m\u001b[32mseed\u001b[0m\u001b[32m=\u001b[0m\u001b[32m7\u001b[0m\u001b[32m'\u001b[0m '\u001b[33mconte\u001b[0m\n",
       "\u001b[33mxts_train_path\u001b[0m=\u001b[35m/home/benjamin/Dokumente/code/tmp/tntcomp/CARL/experiments/benchmarking/config\u001b[0m\n",
       "\u001b[35ms/experiments/optgap/\u001b[0m\u001b[95mcontext_6_0.json\u001b[0m,\u001b[35m/home/benjamin/Dokumente/code/tmp/\u001b[0m\u001b[95mtn\u001b[0m\n"
      ]
     },
     "metadata": {},
     "output_type": "display_data"
    },
    {
     "data": {
      "text/html": [
       "<pre style=\"white-space:pre;overflow-x:auto;line-height:normal;font-family:Menlo,'DejaVu Sans Mono',consolas,'Courier New',monospace\">python experiments/benchmarking/run_training.py <span style=\"color: #008000; text-decoration-color: #008000\">'+experiments=optimality_gap'</span> <span style=\"color: #008000; text-decoration-color: #008000\">'seed=8'</span> '<span style=\"color: #808000; text-decoration-color: #808000\">conte</span>\n",
       "<span style=\"color: #808000; text-decoration-color: #808000\">xts_train_path</span>=<span style=\"color: #800080; text-decoration-color: #800080\">/home/benjamin/Dokumente/code/tmp/tntcomp/CARL/experiments/benchmarking/config</span>\n",
       "<span style=\"color: #800080; text-decoration-color: #800080\">s/experiments/optgap/</span><span style=\"color: #ff00ff; text-decoration-color: #ff00ff\">context_7_0.json</span>,<span style=\"color: #800080; text-decoration-color: #800080\">/home/benjamin/Dokumente/code/tmp/</span><span style=\"color: #ff00ff; text-decoration-color: #ff00ff\">tn</span>\n",
       "</pre>\n"
      ],
      "text/plain": [
       "python experiments/benchmarking/run_training.py \u001b[32m'+\u001b[0m\u001b[32mexperiments\u001b[0m\u001b[32m=\u001b[0m\u001b[32moptimality_gap\u001b[0m\u001b[32m'\u001b[0m \u001b[32m'\u001b[0m\u001b[32mseed\u001b[0m\u001b[32m=\u001b[0m\u001b[32m8\u001b[0m\u001b[32m'\u001b[0m '\u001b[33mconte\u001b[0m\n",
       "\u001b[33mxts_train_path\u001b[0m=\u001b[35m/home/benjamin/Dokumente/code/tmp/tntcomp/CARL/experiments/benchmarking/config\u001b[0m\n",
       "\u001b[35ms/experiments/optgap/\u001b[0m\u001b[95mcontext_7_0.json\u001b[0m,\u001b[35m/home/benjamin/Dokumente/code/tmp/\u001b[0m\u001b[95mtn\u001b[0m\n"
      ]
     },
     "metadata": {},
     "output_type": "display_data"
    },
    {
     "data": {
      "text/html": [
       "<pre style=\"white-space:pre;overflow-x:auto;line-height:normal;font-family:Menlo,'DejaVu Sans Mono',consolas,'Courier New',monospace\">python experiments/benchmarking/run_training.py <span style=\"color: #008000; text-decoration-color: #008000\">'+experiments=optimality_gap'</span> <span style=\"color: #008000; text-decoration-color: #008000\">'seed=9'</span> '<span style=\"color: #808000; text-decoration-color: #808000\">conte</span>\n",
       "<span style=\"color: #808000; text-decoration-color: #808000\">xts_train_path</span>=<span style=\"color: #800080; text-decoration-color: #800080\">/home/benjamin/Dokumente/code/tmp/tntcomp/CARL/experiments/benchmarking/config</span>\n",
       "<span style=\"color: #800080; text-decoration-color: #800080\">s/experiments/optgap/</span><span style=\"color: #ff00ff; text-decoration-color: #ff00ff\">context_8_0.json</span>,<span style=\"color: #800080; text-decoration-color: #800080\">/home/benjamin/Dokumente/code/tmp/</span><span style=\"color: #ff00ff; text-decoration-color: #ff00ff\">tn</span>\n",
       "</pre>\n"
      ],
      "text/plain": [
       "python experiments/benchmarking/run_training.py \u001b[32m'+\u001b[0m\u001b[32mexperiments\u001b[0m\u001b[32m=\u001b[0m\u001b[32moptimality_gap\u001b[0m\u001b[32m'\u001b[0m \u001b[32m'\u001b[0m\u001b[32mseed\u001b[0m\u001b[32m=\u001b[0m\u001b[32m9\u001b[0m\u001b[32m'\u001b[0m '\u001b[33mconte\u001b[0m\n",
       "\u001b[33mxts_train_path\u001b[0m=\u001b[35m/home/benjamin/Dokumente/code/tmp/tntcomp/CARL/experiments/benchmarking/config\u001b[0m\n",
       "\u001b[35ms/experiments/optgap/\u001b[0m\u001b[95mcontext_8_0.json\u001b[0m,\u001b[35m/home/benjamin/Dokumente/code/tmp/\u001b[0m\u001b[95mtn\u001b[0m\n"
      ]
     },
     "metadata": {},
     "output_type": "display_data"
    },
    {
     "data": {
      "text/html": [
       "<pre style=\"white-space:pre;overflow-x:auto;line-height:normal;font-family:Menlo,'DejaVu Sans Mono',consolas,'Courier New',monospace\">python experiments/benchmarking/run_training.py <span style=\"color: #008000; text-decoration-color: #008000\">'+experiments=optimality_gap'</span> <span style=\"color: #008000; text-decoration-color: #008000\">'seed=10'</span> '<span style=\"color: #808000; text-decoration-color: #808000\">cont</span>\n",
       "<span style=\"color: #808000; text-decoration-color: #808000\">exts_train_path</span>=<span style=\"color: #800080; text-decoration-color: #800080\">/home/benjamin/Dokumente/code/tmp/tntcomp/CARL/experiments/benchmarking/confi</span>\n",
       "<span style=\"color: #800080; text-decoration-color: #800080\">gs/experiments/optgap/</span><span style=\"color: #ff00ff; text-decoration-color: #ff00ff\">context_9_0.json</span>,<span style=\"color: #800080; text-decoration-color: #800080\">/home/benjamin/Dokumente/code/tmp/</span><span style=\"color: #ff00ff; text-decoration-color: #ff00ff\">t</span>\n",
       "</pre>\n"
      ],
      "text/plain": [
       "python experiments/benchmarking/run_training.py \u001b[32m'+\u001b[0m\u001b[32mexperiments\u001b[0m\u001b[32m=\u001b[0m\u001b[32moptimality_gap\u001b[0m\u001b[32m'\u001b[0m \u001b[32m'\u001b[0m\u001b[32mseed\u001b[0m\u001b[32m=\u001b[0m\u001b[32m10\u001b[0m\u001b[32m'\u001b[0m '\u001b[33mcont\u001b[0m\n",
       "\u001b[33mexts_train_path\u001b[0m=\u001b[35m/home/benjamin/Dokumente/code/tmp/tntcomp/CARL/experiments/benchmarking/confi\u001b[0m\n",
       "\u001b[35mgs/experiments/optgap/\u001b[0m\u001b[95mcontext_9_0.json\u001b[0m,\u001b[35m/home/benjamin/Dokumente/code/tmp/\u001b[0m\u001b[95mt\u001b[0m\n"
      ]
     },
     "metadata": {},
     "output_type": "display_data"
    }
   ],
   "source": [
    "from pathlib import Path\n",
    "from experiments.carlbench.context_logging import load_wandb_table_to_df\n",
    "from experiments.common.utils.json_utils import lazy_json_dump\n",
    "from omegaconf import OmegaConf\n",
    "from rich import print as printr\n",
    "\n",
    "outdir = \"/home/benjamin/Dokumente/code/tmp/tntcomp/CARL/exp_sweep/2022-10-28/16-43-11_benchmark_train\"  # old\n",
    "outdir = \"/home/benjamin/Dokumente/code/tmp/tntcomp/CARL/exp_sweep/2022-11-02/14-07-37_benchmark_train\"\n",
    "outdir = \"/home/benjamin/Dokumente/code/tmp/tntcomp/CARL/exp_sweep/2022-11-13/10-09-12_benchmark_train\"\n",
    "outdir = Path(outdir)\n",
    "\n",
    "target_path = \"/home/benjamin/Dokumente/code/tmp/tntcomp/CARL/experiments/benchmarking/configs/experiments/optgap\"\n",
    "target_path = Path(target_path)\n",
    "\n",
    "command_dir = Path(\"/home/benjamin/Dokumente/code/tmp/tntcomp/CARL/experiments/evaluation/tmp/runcommands_optimality_gap\")\n",
    "\n",
    "contexts_paths = list(outdir.rglob(\"train/contexts*json\"))\n",
    "contexts_paths.sort()\n",
    "contexts_list = [load_wandb_table_to_df(p) for p in contexts_paths]\n",
    "\n",
    "config_paths = list(outdir.glob(\"*/.hydra/config.yaml\"))\n",
    "config_paths.sort()\n",
    "config_list = [OmegaConf.load(p) for p in config_paths]\n",
    "seed_list = [cfg.seed for cfg in config_list]\n",
    "\n",
    "for i, contexts in enumerate(contexts_list):\n",
    "    new_contexts_list = [{j: dict(context)} for j, context in contexts.iterrows()]\n",
    "    new_contexts_paths = []\n",
    "    for j, C in enumerate(new_contexts_list):\n",
    "        # Create contexts sets with single context and save\n",
    "        context_fn = target_path / f\"context_{i}_{j}.json\"\n",
    "        new_contexts_paths.append(str(context_fn))\n",
    "        lazy_json_dump(C, context_fn)\n",
    "        \n",
    "    # Build runcommand\n",
    "\n",
    "    # eval\n",
    "    results_path = outdir / str(i)  \n",
    "    new_contexts_paths_str = \",\".join(new_contexts_paths)\n",
    "    command = f\"'results_path={results_path}' 'contexts_path={new_contexts_paths_str}'\"\n",
    "    fullcommand = \"python experiments/evaluation/run_evaluation.py 'experiment=optimality_gap' 'n_eval_episodes_per_context=10' \" + command + \" -m\"\n",
    "\n",
    "    # train\n",
    "    new_contexts_paths_str = \",\".join(new_contexts_paths)\n",
    "    command = f\"'seed={seed_list[i]}' 'contexts_train_path={new_contexts_paths_str}'\"\n",
    "    fullcommand = \"python experiments/benchmarking/run_training.py '+experiments=optimality_gap' \" + command + \" -m\" \n",
    "\n",
    "    # Save runcommand\n",
    "    command_fn = command_dir / f\"run_{i}.sh\"\n",
    "    command_fn = Path(command_fn)\n",
    "    command_fn.parent.mkdir(exist_ok=True, parents=True)\n",
    "    with open(command_fn, 'w') as file:\n",
    "        file.write(fullcommand)\n",
    "    printr(fullcommand[:260])\n",
    "\n"
   ]
  }
 ],
 "metadata": {
  "kernelspec": {
   "display_name": "Python 3.10.4 ('carl')",
   "language": "python",
   "name": "python3"
  },
  "language_info": {
   "codemirror_mode": {
    "name": "ipython",
    "version": 3
   },
   "file_extension": ".py",
   "mimetype": "text/x-python",
   "name": "python",
   "nbconvert_exporter": "python",
   "pygments_lexer": "ipython3",
   "version": "3.10.4"
  },
  "orig_nbformat": 4,
  "vscode": {
   "interpreter": {
    "hash": "445f316a49a09d784fc20e9b3e621eb4aa26f31c3cfbe2b15408208fc87e667a"
   }
  }
 },
 "nbformat": 4,
 "nbformat_minor": 2
}
