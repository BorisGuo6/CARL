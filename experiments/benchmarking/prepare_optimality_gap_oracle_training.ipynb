{
 "cells": [
  {
   "cell_type": "markdown",
   "metadata": {},
   "source": [
    "# Runcommands for Oracle\n",
    "Prepare runcommands for training the oracle on each single context.\n",
    "1. Get all contexts for one seed\n",
    "2. Split contexts into context files\n",
    "3. Build runcommand to rerun on all those context files\n",
    "4. Save as .sh file"
   ]
  },
  {
   "cell_type": "code",
   "execution_count": 1,
   "metadata": {},
   "outputs": [
    {
     "data": {
      "text/html": [
       "<pre style=\"white-space:pre;overflow-x:auto;line-height:normal;font-family:Menlo,'DejaVu Sans Mono',consolas,'Courier New',monospace\">python experiments/evaluation/run_evaluation.py <span style=\"color: #008000; text-decoration-color: #008000\">'experiment=optimality_gap'</span> \n",
       "<span style=\"color: #008000; text-decoration-color: #008000\">'n_eval_episodes_per_context=10'</span> <span style=\"color: #008000; text-decoration-color: #008000\">'results_path=/home/benjamin/Dokumente/code/tmp/tntcomp/CARL</span>\n",
       "<span style=\"color: #008000; text-decoration-color: #008000\">/exp_sweep/2022-11-02/14-07-37_benchmark_train/0'</span> '\n",
       "</pre>\n"
      ],
      "text/plain": [
       "python experiments/evaluation/run_evaluation.py \u001b[32m'\u001b[0m\u001b[32mexperiment\u001b[0m\u001b[32m=\u001b[0m\u001b[32moptimality_gap\u001b[0m\u001b[32m'\u001b[0m \n",
       "\u001b[32m'\u001b[0m\u001b[32mn_eval_episodes_per_context\u001b[0m\u001b[32m=\u001b[0m\u001b[32m10\u001b[0m\u001b[32m'\u001b[0m \u001b[32m'\u001b[0m\u001b[32mresults_path\u001b[0m\u001b[32m=/home/benjamin/Dokumente/code/tmp/tntcomp/CARL\u001b[0m\n",
       "\u001b[32m/exp_sweep/2022-11-02/14-07-37_benchmark_train/0'\u001b[0m '\n"
      ]
     },
     "metadata": {},
     "output_type": "display_data"
    },
    {
     "data": {
      "text/html": [
       "<pre style=\"white-space:pre;overflow-x:auto;line-height:normal;font-family:Menlo,'DejaVu Sans Mono',consolas,'Courier New',monospace\">python experiments/evaluation/run_evaluation.py <span style=\"color: #008000; text-decoration-color: #008000\">'experiment=optimality_gap'</span> \n",
       "<span style=\"color: #008000; text-decoration-color: #008000\">'n_eval_episodes_per_context=10'</span> <span style=\"color: #008000; text-decoration-color: #008000\">'results_path=/home/benjamin/Dokumente/code/tmp/tntcomp/CARL</span>\n",
       "<span style=\"color: #008000; text-decoration-color: #008000\">/exp_sweep/2022-11-02/14-07-37_benchmark_train/1'</span> '\n",
       "</pre>\n"
      ],
      "text/plain": [
       "python experiments/evaluation/run_evaluation.py \u001b[32m'\u001b[0m\u001b[32mexperiment\u001b[0m\u001b[32m=\u001b[0m\u001b[32moptimality_gap\u001b[0m\u001b[32m'\u001b[0m \n",
       "\u001b[32m'\u001b[0m\u001b[32mn_eval_episodes_per_context\u001b[0m\u001b[32m=\u001b[0m\u001b[32m10\u001b[0m\u001b[32m'\u001b[0m \u001b[32m'\u001b[0m\u001b[32mresults_path\u001b[0m\u001b[32m=/home/benjamin/Dokumente/code/tmp/tntcomp/CARL\u001b[0m\n",
       "\u001b[32m/exp_sweep/2022-11-02/14-07-37_benchmark_train/1'\u001b[0m '\n"
      ]
     },
     "metadata": {},
     "output_type": "display_data"
    },
    {
     "data": {
      "text/html": [
       "<pre style=\"white-space:pre;overflow-x:auto;line-height:normal;font-family:Menlo,'DejaVu Sans Mono',consolas,'Courier New',monospace\">python experiments/evaluation/run_evaluation.py <span style=\"color: #008000; text-decoration-color: #008000\">'experiment=optimality_gap'</span> \n",
       "<span style=\"color: #008000; text-decoration-color: #008000\">'n_eval_episodes_per_context=10'</span> <span style=\"color: #008000; text-decoration-color: #008000\">'results_path=/home/benjamin/Dokumente/code/tmp/tntcomp/CARL</span>\n",
       "<span style=\"color: #008000; text-decoration-color: #008000\">/exp_sweep/2022-11-02/14-07-37_benchmark_train/2'</span> '\n",
       "</pre>\n"
      ],
      "text/plain": [
       "python experiments/evaluation/run_evaluation.py \u001b[32m'\u001b[0m\u001b[32mexperiment\u001b[0m\u001b[32m=\u001b[0m\u001b[32moptimality_gap\u001b[0m\u001b[32m'\u001b[0m \n",
       "\u001b[32m'\u001b[0m\u001b[32mn_eval_episodes_per_context\u001b[0m\u001b[32m=\u001b[0m\u001b[32m10\u001b[0m\u001b[32m'\u001b[0m \u001b[32m'\u001b[0m\u001b[32mresults_path\u001b[0m\u001b[32m=/home/benjamin/Dokumente/code/tmp/tntcomp/CARL\u001b[0m\n",
       "\u001b[32m/exp_sweep/2022-11-02/14-07-37_benchmark_train/2'\u001b[0m '\n"
      ]
     },
     "metadata": {},
     "output_type": "display_data"
    },
    {
     "data": {
      "text/html": [
       "<pre style=\"white-space:pre;overflow-x:auto;line-height:normal;font-family:Menlo,'DejaVu Sans Mono',consolas,'Courier New',monospace\">python experiments/evaluation/run_evaluation.py <span style=\"color: #008000; text-decoration-color: #008000\">'experiment=optimality_gap'</span> \n",
       "<span style=\"color: #008000; text-decoration-color: #008000\">'n_eval_episodes_per_context=10'</span> <span style=\"color: #008000; text-decoration-color: #008000\">'results_path=/home/benjamin/Dokumente/code/tmp/tntcomp/CARL</span>\n",
       "<span style=\"color: #008000; text-decoration-color: #008000\">/exp_sweep/2022-11-02/14-07-37_benchmark_train/3'</span> '\n",
       "</pre>\n"
      ],
      "text/plain": [
       "python experiments/evaluation/run_evaluation.py \u001b[32m'\u001b[0m\u001b[32mexperiment\u001b[0m\u001b[32m=\u001b[0m\u001b[32moptimality_gap\u001b[0m\u001b[32m'\u001b[0m \n",
       "\u001b[32m'\u001b[0m\u001b[32mn_eval_episodes_per_context\u001b[0m\u001b[32m=\u001b[0m\u001b[32m10\u001b[0m\u001b[32m'\u001b[0m \u001b[32m'\u001b[0m\u001b[32mresults_path\u001b[0m\u001b[32m=/home/benjamin/Dokumente/code/tmp/tntcomp/CARL\u001b[0m\n",
       "\u001b[32m/exp_sweep/2022-11-02/14-07-37_benchmark_train/3'\u001b[0m '\n"
      ]
     },
     "metadata": {},
     "output_type": "display_data"
    },
    {
     "data": {
      "text/html": [
       "<pre style=\"white-space:pre;overflow-x:auto;line-height:normal;font-family:Menlo,'DejaVu Sans Mono',consolas,'Courier New',monospace\">python experiments/evaluation/run_evaluation.py <span style=\"color: #008000; text-decoration-color: #008000\">'experiment=optimality_gap'</span> \n",
       "<span style=\"color: #008000; text-decoration-color: #008000\">'n_eval_episodes_per_context=10'</span> <span style=\"color: #008000; text-decoration-color: #008000\">'results_path=/home/benjamin/Dokumente/code/tmp/tntcomp/CARL</span>\n",
       "<span style=\"color: #008000; text-decoration-color: #008000\">/exp_sweep/2022-11-02/14-07-37_benchmark_train/4'</span> '\n",
       "</pre>\n"
      ],
      "text/plain": [
       "python experiments/evaluation/run_evaluation.py \u001b[32m'\u001b[0m\u001b[32mexperiment\u001b[0m\u001b[32m=\u001b[0m\u001b[32moptimality_gap\u001b[0m\u001b[32m'\u001b[0m \n",
       "\u001b[32m'\u001b[0m\u001b[32mn_eval_episodes_per_context\u001b[0m\u001b[32m=\u001b[0m\u001b[32m10\u001b[0m\u001b[32m'\u001b[0m \u001b[32m'\u001b[0m\u001b[32mresults_path\u001b[0m\u001b[32m=/home/benjamin/Dokumente/code/tmp/tntcomp/CARL\u001b[0m\n",
       "\u001b[32m/exp_sweep/2022-11-02/14-07-37_benchmark_train/4'\u001b[0m '\n"
      ]
     },
     "metadata": {},
     "output_type": "display_data"
    },
    {
     "data": {
      "text/html": [
       "<pre style=\"white-space:pre;overflow-x:auto;line-height:normal;font-family:Menlo,'DejaVu Sans Mono',consolas,'Courier New',monospace\">python experiments/evaluation/run_evaluation.py <span style=\"color: #008000; text-decoration-color: #008000\">'experiment=optimality_gap'</span> \n",
       "<span style=\"color: #008000; text-decoration-color: #008000\">'n_eval_episodes_per_context=10'</span> <span style=\"color: #008000; text-decoration-color: #008000\">'results_path=/home/benjamin/Dokumente/code/tmp/tntcomp/CARL</span>\n",
       "<span style=\"color: #008000; text-decoration-color: #008000\">/exp_sweep/2022-11-02/14-07-37_benchmark_train/5'</span> '\n",
       "</pre>\n"
      ],
      "text/plain": [
       "python experiments/evaluation/run_evaluation.py \u001b[32m'\u001b[0m\u001b[32mexperiment\u001b[0m\u001b[32m=\u001b[0m\u001b[32moptimality_gap\u001b[0m\u001b[32m'\u001b[0m \n",
       "\u001b[32m'\u001b[0m\u001b[32mn_eval_episodes_per_context\u001b[0m\u001b[32m=\u001b[0m\u001b[32m10\u001b[0m\u001b[32m'\u001b[0m \u001b[32m'\u001b[0m\u001b[32mresults_path\u001b[0m\u001b[32m=/home/benjamin/Dokumente/code/tmp/tntcomp/CARL\u001b[0m\n",
       "\u001b[32m/exp_sweep/2022-11-02/14-07-37_benchmark_train/5'\u001b[0m '\n"
      ]
     },
     "metadata": {},
     "output_type": "display_data"
    },
    {
     "data": {
      "text/html": [
       "<pre style=\"white-space:pre;overflow-x:auto;line-height:normal;font-family:Menlo,'DejaVu Sans Mono',consolas,'Courier New',monospace\">python experiments/evaluation/run_evaluation.py <span style=\"color: #008000; text-decoration-color: #008000\">'experiment=optimality_gap'</span> \n",
       "<span style=\"color: #008000; text-decoration-color: #008000\">'n_eval_episodes_per_context=10'</span> <span style=\"color: #008000; text-decoration-color: #008000\">'results_path=/home/benjamin/Dokumente/code/tmp/tntcomp/CARL</span>\n",
       "<span style=\"color: #008000; text-decoration-color: #008000\">/exp_sweep/2022-11-02/14-07-37_benchmark_train/6'</span> '\n",
       "</pre>\n"
      ],
      "text/plain": [
       "python experiments/evaluation/run_evaluation.py \u001b[32m'\u001b[0m\u001b[32mexperiment\u001b[0m\u001b[32m=\u001b[0m\u001b[32moptimality_gap\u001b[0m\u001b[32m'\u001b[0m \n",
       "\u001b[32m'\u001b[0m\u001b[32mn_eval_episodes_per_context\u001b[0m\u001b[32m=\u001b[0m\u001b[32m10\u001b[0m\u001b[32m'\u001b[0m \u001b[32m'\u001b[0m\u001b[32mresults_path\u001b[0m\u001b[32m=/home/benjamin/Dokumente/code/tmp/tntcomp/CARL\u001b[0m\n",
       "\u001b[32m/exp_sweep/2022-11-02/14-07-37_benchmark_train/6'\u001b[0m '\n"
      ]
     },
     "metadata": {},
     "output_type": "display_data"
    },
    {
     "data": {
      "text/html": [
       "<pre style=\"white-space:pre;overflow-x:auto;line-height:normal;font-family:Menlo,'DejaVu Sans Mono',consolas,'Courier New',monospace\">python experiments/evaluation/run_evaluation.py <span style=\"color: #008000; text-decoration-color: #008000\">'experiment=optimality_gap'</span> \n",
       "<span style=\"color: #008000; text-decoration-color: #008000\">'n_eval_episodes_per_context=10'</span> <span style=\"color: #008000; text-decoration-color: #008000\">'results_path=/home/benjamin/Dokumente/code/tmp/tntcomp/CARL</span>\n",
       "<span style=\"color: #008000; text-decoration-color: #008000\">/exp_sweep/2022-11-02/14-07-37_benchmark_train/7'</span> '\n",
       "</pre>\n"
      ],
      "text/plain": [
       "python experiments/evaluation/run_evaluation.py \u001b[32m'\u001b[0m\u001b[32mexperiment\u001b[0m\u001b[32m=\u001b[0m\u001b[32moptimality_gap\u001b[0m\u001b[32m'\u001b[0m \n",
       "\u001b[32m'\u001b[0m\u001b[32mn_eval_episodes_per_context\u001b[0m\u001b[32m=\u001b[0m\u001b[32m10\u001b[0m\u001b[32m'\u001b[0m \u001b[32m'\u001b[0m\u001b[32mresults_path\u001b[0m\u001b[32m=/home/benjamin/Dokumente/code/tmp/tntcomp/CARL\u001b[0m\n",
       "\u001b[32m/exp_sweep/2022-11-02/14-07-37_benchmark_train/7'\u001b[0m '\n"
      ]
     },
     "metadata": {},
     "output_type": "display_data"
    },
    {
     "data": {
      "text/html": [
       "<pre style=\"white-space:pre;overflow-x:auto;line-height:normal;font-family:Menlo,'DejaVu Sans Mono',consolas,'Courier New',monospace\">python experiments/evaluation/run_evaluation.py <span style=\"color: #008000; text-decoration-color: #008000\">'experiment=optimality_gap'</span> \n",
       "<span style=\"color: #008000; text-decoration-color: #008000\">'n_eval_episodes_per_context=10'</span> <span style=\"color: #008000; text-decoration-color: #008000\">'results_path=/home/benjamin/Dokumente/code/tmp/tntcomp/CARL</span>\n",
       "<span style=\"color: #008000; text-decoration-color: #008000\">/exp_sweep/2022-11-02/14-07-37_benchmark_train/8'</span> '\n",
       "</pre>\n"
      ],
      "text/plain": [
       "python experiments/evaluation/run_evaluation.py \u001b[32m'\u001b[0m\u001b[32mexperiment\u001b[0m\u001b[32m=\u001b[0m\u001b[32moptimality_gap\u001b[0m\u001b[32m'\u001b[0m \n",
       "\u001b[32m'\u001b[0m\u001b[32mn_eval_episodes_per_context\u001b[0m\u001b[32m=\u001b[0m\u001b[32m10\u001b[0m\u001b[32m'\u001b[0m \u001b[32m'\u001b[0m\u001b[32mresults_path\u001b[0m\u001b[32m=/home/benjamin/Dokumente/code/tmp/tntcomp/CARL\u001b[0m\n",
       "\u001b[32m/exp_sweep/2022-11-02/14-07-37_benchmark_train/8'\u001b[0m '\n"
      ]
     },
     "metadata": {},
     "output_type": "display_data"
    },
    {
     "data": {
      "text/html": [
       "<pre style=\"white-space:pre;overflow-x:auto;line-height:normal;font-family:Menlo,'DejaVu Sans Mono',consolas,'Courier New',monospace\">python experiments/evaluation/run_evaluation.py <span style=\"color: #008000; text-decoration-color: #008000\">'experiment=optimality_gap'</span> \n",
       "<span style=\"color: #008000; text-decoration-color: #008000\">'n_eval_episodes_per_context=10'</span> <span style=\"color: #008000; text-decoration-color: #008000\">'results_path=/home/benjamin/Dokumente/code/tmp/tntcomp/CARL</span>\n",
       "<span style=\"color: #008000; text-decoration-color: #008000\">/exp_sweep/2022-11-02/14-07-37_benchmark_train/9'</span> '\n",
       "</pre>\n"
      ],
      "text/plain": [
       "python experiments/evaluation/run_evaluation.py \u001b[32m'\u001b[0m\u001b[32mexperiment\u001b[0m\u001b[32m=\u001b[0m\u001b[32moptimality_gap\u001b[0m\u001b[32m'\u001b[0m \n",
       "\u001b[32m'\u001b[0m\u001b[32mn_eval_episodes_per_context\u001b[0m\u001b[32m=\u001b[0m\u001b[32m10\u001b[0m\u001b[32m'\u001b[0m \u001b[32m'\u001b[0m\u001b[32mresults_path\u001b[0m\u001b[32m=/home/benjamin/Dokumente/code/tmp/tntcomp/CARL\u001b[0m\n",
       "\u001b[32m/exp_sweep/2022-11-02/14-07-37_benchmark_train/9'\u001b[0m '\n"
      ]
     },
     "metadata": {},
     "output_type": "display_data"
    }
   ],
   "source": [
    "from pathlib import Path\n",
    "from experiments.carlbench.context_logging import load_wandb_table_to_df\n",
    "from experiments.common.utils.json_utils import lazy_json_dump\n",
    "from omegaconf import OmegaConf\n",
    "from rich import print as printr\n",
    "\n",
    "outdir = \"/home/benjamin/Dokumente/code/tmp/tntcomp/CARL/exp_sweep/2022-10-28/16-43-11_benchmark_train\"  # old\n",
    "outdir = \"/home/benjamin/Dokumente/code/tmp/tntcomp/CARL/exp_sweep/2022-11-02/14-07-37_benchmark_train\"\n",
    "outdir = Path(outdir)\n",
    "\n",
    "target_path = \"/home/benjamin/Dokumente/code/tmp/tntcomp/CARL/experiments/benchmarking/configs/experiments/optgap\"\n",
    "target_path = Path(target_path)\n",
    "\n",
    "command_dir = Path(\"/home/benjamin/Dokumente/code/tmp/tntcomp/CARL/experiments/evaluation/tmp/runcommands_optimality_gap\")\n",
    "\n",
    "contexts_paths = list(outdir.rglob(\"train/contexts*json\"))\n",
    "contexts_paths.sort()\n",
    "contexts_list = [load_wandb_table_to_df(p) for p in contexts_paths]\n",
    "\n",
    "config_paths = list(outdir.glob(\"*/.hydra/config.yaml\"))\n",
    "config_paths.sort()\n",
    "config_list = [OmegaConf.load(p) for p in config_paths]\n",
    "seed_list = [cfg.seed for cfg in config_list]\n",
    "\n",
    "for i, contexts in enumerate(contexts_list):\n",
    "    new_contexts_list = [{j: dict(context)} for j, context in contexts.iterrows()]\n",
    "    new_contexts_paths = []\n",
    "    for j, C in enumerate(new_contexts_list):\n",
    "        # Create contexts sets with single context and save\n",
    "        context_fn = target_path / f\"context_{i}_{j}.json\"\n",
    "        new_contexts_paths.append(str(context_fn))\n",
    "        lazy_json_dump(C, context_fn)\n",
    "        \n",
    "    # Build runcommand\n",
    "    results_path = outdir / str(i)  \n",
    "    new_contexts_paths_str = \",\".join(new_contexts_paths)\n",
    "    command = f\"'results_path={results_path}' 'contexts_path={new_contexts_paths_str}'\"\n",
    "    fullcommand = \"python experiments/evaluation/run_evaluation.py 'experiment=optimality_gap' 'n_eval_episodes_per_context=10' \" + command + \" -m\"\n",
    "\n",
    "    # Save runcommand\n",
    "    command_fn = command_dir / f\"run_{i}.sh\"\n",
    "    with open(command_fn, 'w') as file:\n",
    "        file.write(fullcommand)\n",
    "    printr(fullcommand[:220])\n",
    "\n"
   ]
  }
 ],
 "metadata": {
  "kernelspec": {
   "display_name": "Python 3.10.4 ('carl')",
   "language": "python",
   "name": "python3"
  },
  "language_info": {
   "codemirror_mode": {
    "name": "ipython",
    "version": 3
   },
   "file_extension": ".py",
   "mimetype": "text/x-python",
   "name": "python",
   "nbconvert_exporter": "python",
   "pygments_lexer": "ipython3",
   "version": "3.10.4"
  },
  "orig_nbformat": 4,
  "vscode": {
   "interpreter": {
    "hash": "445f316a49a09d784fc20e9b3e621eb4aa26f31c3cfbe2b15408208fc87e667a"
   }
  }
 },
 "nbformat": 4,
 "nbformat_minor": 2
}
