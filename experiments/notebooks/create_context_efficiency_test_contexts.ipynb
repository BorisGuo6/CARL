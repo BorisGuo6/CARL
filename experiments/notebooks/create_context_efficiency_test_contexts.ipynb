{
 "cells": [
  {
   "cell_type": "code",
   "execution_count": 21,
   "metadata": {},
   "outputs": [
    {
     "data": {
      "text/html": [
       "<pre style=\"white-space:pre;overflow-x:auto;line-height:normal;font-family:Menlo,'DejaVu Sans Mono',consolas,'Courier New',monospace\"><span style=\"font-weight: bold\">{</span>\n",
       "    <span style=\"color: #008000; text-decoration-color: #008000\">'defaults'</span>: <span style=\"font-weight: bold\">[</span>\n",
       "        <span style=\"color: #008000; text-decoration-color: #008000\">'../environments/classic_control/pendulum'</span>,\n",
       "        <span style=\"color: #008000; text-decoration-color: #008000\">'../context_visibility/hidden'</span>,\n",
       "        <span style=\"color: #008000; text-decoration-color: #008000\">'../slurm/cpushort'</span>,\n",
       "        <span style=\"color: #008000; text-decoration-color: #008000\">'../algorithm/td3'</span>\n",
       "    <span style=\"font-weight: bold\">]</span>,\n",
       "    <span style=\"color: #008000; text-decoration-color: #008000\">'experiment'</span>: <span style=\"color: #008000; text-decoration-color: #008000\">'context_efficiency'</span>,\n",
       "    <span style=\"color: #008000; text-decoration-color: #008000\">'carl'</span>: <span style=\"font-weight: bold\">{</span><span style=\"color: #008000; text-decoration-color: #008000\">'context_mask'</span>: <span style=\"color: #800080; text-decoration-color: #800080; font-style: italic\">None</span><span style=\"font-weight: bold\">}</span>,\n",
       "    <span style=\"color: #008000; text-decoration-color: #008000\">'eval_on_train_context'</span>: <span style=\"color: #00ff00; text-decoration-color: #00ff00; font-style: italic\">True</span>,\n",
       "    <span style=\"color: #008000; text-decoration-color: #008000\">'context_sampler'</span>: <span style=\"font-weight: bold\">{</span>\n",
       "        <span style=\"color: #008000; text-decoration-color: #008000\">'env_name'</span>: <span style=\"color: #008000; text-decoration-color: #008000\">'CARLPendulumEnv'</span>,\n",
       "        <span style=\"color: #008000; text-decoration-color: #008000\">'context_feature_names'</span>: <span style=\"font-weight: bold\">[</span><span style=\"color: #008000; text-decoration-color: #008000\">'l'</span><span style=\"font-weight: bold\">]</span>,\n",
       "        <span style=\"color: #008000; text-decoration-color: #008000\">'seed'</span>: <span style=\"color: #008080; text-decoration-color: #008080; font-weight: bold\">42</span>,\n",
       "        <span style=\"color: #008000; text-decoration-color: #008000\">'n_samples'</span>: <span style=\"color: #008080; text-decoration-color: #008080; font-weight: bold\">1</span>,\n",
       "        <span style=\"color: #008000; text-decoration-color: #008000\">'sigma_rel'</span>: <span style=\"color: #008080; text-decoration-color: #008080; font-weight: bold\">0.25</span>\n",
       "    <span style=\"font-weight: bold\">}</span>,\n",
       "    <span style=\"color: #008000; text-decoration-color: #008000\">'env'</span>: <span style=\"color: #008000; text-decoration-color: #008000\">'CARLPendulumEnv'</span>,\n",
       "    <span style=\"color: #008000; text-decoration-color: #008000\">'seed'</span>: <span style=\"color: #008080; text-decoration-color: #008080; font-weight: bold\">42</span>\n",
       "<span style=\"font-weight: bold\">}</span>\n",
       "</pre>\n"
      ],
      "text/plain": [
       "\u001b[1m{\u001b[0m\n",
       "    \u001b[32m'defaults'\u001b[0m: \u001b[1m[\u001b[0m\n",
       "        \u001b[32m'../environments/classic_control/pendulum'\u001b[0m,\n",
       "        \u001b[32m'../context_visibility/hidden'\u001b[0m,\n",
       "        \u001b[32m'../slurm/cpushort'\u001b[0m,\n",
       "        \u001b[32m'../algorithm/td3'\u001b[0m\n",
       "    \u001b[1m]\u001b[0m,\n",
       "    \u001b[32m'experiment'\u001b[0m: \u001b[32m'context_efficiency'\u001b[0m,\n",
       "    \u001b[32m'carl'\u001b[0m: \u001b[1m{\u001b[0m\u001b[32m'context_mask'\u001b[0m: \u001b[3;35mNone\u001b[0m\u001b[1m}\u001b[0m,\n",
       "    \u001b[32m'eval_on_train_context'\u001b[0m: \u001b[3;92mTrue\u001b[0m,\n",
       "    \u001b[32m'context_sampler'\u001b[0m: \u001b[1m{\u001b[0m\n",
       "        \u001b[32m'env_name'\u001b[0m: \u001b[32m'CARLPendulumEnv'\u001b[0m,\n",
       "        \u001b[32m'context_feature_names'\u001b[0m: \u001b[1m[\u001b[0m\u001b[32m'l'\u001b[0m\u001b[1m]\u001b[0m,\n",
       "        \u001b[32m'seed'\u001b[0m: \u001b[1;36m42\u001b[0m,\n",
       "        \u001b[32m'n_samples'\u001b[0m: \u001b[1;36m1\u001b[0m,\n",
       "        \u001b[32m'sigma_rel'\u001b[0m: \u001b[1;36m0.25\u001b[0m\n",
       "    \u001b[1m}\u001b[0m,\n",
       "    \u001b[32m'env'\u001b[0m: \u001b[32m'CARLPendulumEnv'\u001b[0m,\n",
       "    \u001b[32m'seed'\u001b[0m: \u001b[1;36m42\u001b[0m\n",
       "\u001b[1m}\u001b[0m\n"
      ]
     },
     "metadata": {},
     "output_type": "display_data"
    },
    {
     "name": "stdout",
     "output_type": "stream",
     "text": [
      "1\n",
      "/home/benjamin/Dokumente/code/tmp/tntcomp/CARL/experiments/evaluation/data/context_efficiency/contexts_evaluation_1.json\n"
     ]
    },
    {
     "data": {
      "text/html": [
       "<pre style=\"white-space:pre;overflow-x:auto;line-height:normal;font-family:Menlo,'DejaVu Sans Mono',consolas,'Courier New',monospace\"><span style=\"font-weight: bold\">{</span>\n",
       "    <span style=\"color: #008000; text-decoration-color: #008000\">'defaults'</span>: <span style=\"font-weight: bold\">[</span>\n",
       "        <span style=\"color: #008000; text-decoration-color: #008000\">'../environments/classic_control/pendulum'</span>,\n",
       "        <span style=\"color: #008000; text-decoration-color: #008000\">'../context_visibility/hidden'</span>,\n",
       "        <span style=\"color: #008000; text-decoration-color: #008000\">'../slurm/cpushort'</span>,\n",
       "        <span style=\"color: #008000; text-decoration-color: #008000\">'../algorithm/td3'</span>\n",
       "    <span style=\"font-weight: bold\">]</span>,\n",
       "    <span style=\"color: #008000; text-decoration-color: #008000\">'experiment'</span>: <span style=\"color: #008000; text-decoration-color: #008000\">'context_efficiency'</span>,\n",
       "    <span style=\"color: #008000; text-decoration-color: #008000\">'carl'</span>: <span style=\"font-weight: bold\">{</span><span style=\"color: #008000; text-decoration-color: #008000\">'context_mask'</span>: <span style=\"color: #800080; text-decoration-color: #800080; font-style: italic\">None</span><span style=\"font-weight: bold\">}</span>,\n",
       "    <span style=\"color: #008000; text-decoration-color: #008000\">'eval_on_train_context'</span>: <span style=\"color: #00ff00; text-decoration-color: #00ff00; font-style: italic\">True</span>,\n",
       "    <span style=\"color: #008000; text-decoration-color: #008000\">'context_sampler'</span>: <span style=\"font-weight: bold\">{</span>\n",
       "        <span style=\"color: #008000; text-decoration-color: #008000\">'env_name'</span>: <span style=\"color: #008000; text-decoration-color: #008000\">'CARLPendulumEnv'</span>,\n",
       "        <span style=\"color: #008000; text-decoration-color: #008000\">'context_feature_names'</span>: <span style=\"font-weight: bold\">[</span><span style=\"color: #008000; text-decoration-color: #008000\">'l'</span><span style=\"font-weight: bold\">]</span>,\n",
       "        <span style=\"color: #008000; text-decoration-color: #008000\">'seed'</span>: <span style=\"color: #008080; text-decoration-color: #008080; font-weight: bold\">42</span>,\n",
       "        <span style=\"color: #008000; text-decoration-color: #008000\">'n_samples'</span>: <span style=\"color: #008080; text-decoration-color: #008080; font-weight: bold\">2</span>,\n",
       "        <span style=\"color: #008000; text-decoration-color: #008000\">'sigma_rel'</span>: <span style=\"color: #008080; text-decoration-color: #008080; font-weight: bold\">0.25</span>\n",
       "    <span style=\"font-weight: bold\">}</span>,\n",
       "    <span style=\"color: #008000; text-decoration-color: #008000\">'env'</span>: <span style=\"color: #008000; text-decoration-color: #008000\">'CARLPendulumEnv'</span>,\n",
       "    <span style=\"color: #008000; text-decoration-color: #008000\">'seed'</span>: <span style=\"color: #008080; text-decoration-color: #008080; font-weight: bold\">42</span>\n",
       "<span style=\"font-weight: bold\">}</span>\n",
       "</pre>\n"
      ],
      "text/plain": [
       "\u001b[1m{\u001b[0m\n",
       "    \u001b[32m'defaults'\u001b[0m: \u001b[1m[\u001b[0m\n",
       "        \u001b[32m'../environments/classic_control/pendulum'\u001b[0m,\n",
       "        \u001b[32m'../context_visibility/hidden'\u001b[0m,\n",
       "        \u001b[32m'../slurm/cpushort'\u001b[0m,\n",
       "        \u001b[32m'../algorithm/td3'\u001b[0m\n",
       "    \u001b[1m]\u001b[0m,\n",
       "    \u001b[32m'experiment'\u001b[0m: \u001b[32m'context_efficiency'\u001b[0m,\n",
       "    \u001b[32m'carl'\u001b[0m: \u001b[1m{\u001b[0m\u001b[32m'context_mask'\u001b[0m: \u001b[3;35mNone\u001b[0m\u001b[1m}\u001b[0m,\n",
       "    \u001b[32m'eval_on_train_context'\u001b[0m: \u001b[3;92mTrue\u001b[0m,\n",
       "    \u001b[32m'context_sampler'\u001b[0m: \u001b[1m{\u001b[0m\n",
       "        \u001b[32m'env_name'\u001b[0m: \u001b[32m'CARLPendulumEnv'\u001b[0m,\n",
       "        \u001b[32m'context_feature_names'\u001b[0m: \u001b[1m[\u001b[0m\u001b[32m'l'\u001b[0m\u001b[1m]\u001b[0m,\n",
       "        \u001b[32m'seed'\u001b[0m: \u001b[1;36m42\u001b[0m,\n",
       "        \u001b[32m'n_samples'\u001b[0m: \u001b[1;36m2\u001b[0m,\n",
       "        \u001b[32m'sigma_rel'\u001b[0m: \u001b[1;36m0.25\u001b[0m\n",
       "    \u001b[1m}\u001b[0m,\n",
       "    \u001b[32m'env'\u001b[0m: \u001b[32m'CARLPendulumEnv'\u001b[0m,\n",
       "    \u001b[32m'seed'\u001b[0m: \u001b[1;36m42\u001b[0m\n",
       "\u001b[1m}\u001b[0m\n"
      ]
     },
     "metadata": {},
     "output_type": "display_data"
    },
    {
     "name": "stdout",
     "output_type": "stream",
     "text": [
      "2\n",
      "/home/benjamin/Dokumente/code/tmp/tntcomp/CARL/experiments/evaluation/data/context_efficiency/contexts_evaluation_2.json\n"
     ]
    },
    {
     "data": {
      "text/html": [
       "<pre style=\"white-space:pre;overflow-x:auto;line-height:normal;font-family:Menlo,'DejaVu Sans Mono',consolas,'Courier New',monospace\"><span style=\"font-weight: bold\">{</span>\n",
       "    <span style=\"color: #008000; text-decoration-color: #008000\">'defaults'</span>: <span style=\"font-weight: bold\">[</span>\n",
       "        <span style=\"color: #008000; text-decoration-color: #008000\">'../environments/classic_control/pendulum'</span>,\n",
       "        <span style=\"color: #008000; text-decoration-color: #008000\">'../context_visibility/hidden'</span>,\n",
       "        <span style=\"color: #008000; text-decoration-color: #008000\">'../slurm/cpushort'</span>,\n",
       "        <span style=\"color: #008000; text-decoration-color: #008000\">'../algorithm/td3'</span>\n",
       "    <span style=\"font-weight: bold\">]</span>,\n",
       "    <span style=\"color: #008000; text-decoration-color: #008000\">'experiment'</span>: <span style=\"color: #008000; text-decoration-color: #008000\">'context_efficiency'</span>,\n",
       "    <span style=\"color: #008000; text-decoration-color: #008000\">'carl'</span>: <span style=\"font-weight: bold\">{</span><span style=\"color: #008000; text-decoration-color: #008000\">'context_mask'</span>: <span style=\"color: #800080; text-decoration-color: #800080; font-style: italic\">None</span><span style=\"font-weight: bold\">}</span>,\n",
       "    <span style=\"color: #008000; text-decoration-color: #008000\">'eval_on_train_context'</span>: <span style=\"color: #00ff00; text-decoration-color: #00ff00; font-style: italic\">True</span>,\n",
       "    <span style=\"color: #008000; text-decoration-color: #008000\">'context_sampler'</span>: <span style=\"font-weight: bold\">{</span>\n",
       "        <span style=\"color: #008000; text-decoration-color: #008000\">'env_name'</span>: <span style=\"color: #008000; text-decoration-color: #008000\">'CARLPendulumEnv'</span>,\n",
       "        <span style=\"color: #008000; text-decoration-color: #008000\">'context_feature_names'</span>: <span style=\"font-weight: bold\">[</span><span style=\"color: #008000; text-decoration-color: #008000\">'l'</span><span style=\"font-weight: bold\">]</span>,\n",
       "        <span style=\"color: #008000; text-decoration-color: #008000\">'seed'</span>: <span style=\"color: #008080; text-decoration-color: #008080; font-weight: bold\">42</span>,\n",
       "        <span style=\"color: #008000; text-decoration-color: #008000\">'n_samples'</span>: <span style=\"color: #008080; text-decoration-color: #008080; font-weight: bold\">4</span>,\n",
       "        <span style=\"color: #008000; text-decoration-color: #008000\">'sigma_rel'</span>: <span style=\"color: #008080; text-decoration-color: #008080; font-weight: bold\">0.25</span>\n",
       "    <span style=\"font-weight: bold\">}</span>,\n",
       "    <span style=\"color: #008000; text-decoration-color: #008000\">'env'</span>: <span style=\"color: #008000; text-decoration-color: #008000\">'CARLPendulumEnv'</span>,\n",
       "    <span style=\"color: #008000; text-decoration-color: #008000\">'seed'</span>: <span style=\"color: #008080; text-decoration-color: #008080; font-weight: bold\">42</span>\n",
       "<span style=\"font-weight: bold\">}</span>\n",
       "</pre>\n"
      ],
      "text/plain": [
       "\u001b[1m{\u001b[0m\n",
       "    \u001b[32m'defaults'\u001b[0m: \u001b[1m[\u001b[0m\n",
       "        \u001b[32m'../environments/classic_control/pendulum'\u001b[0m,\n",
       "        \u001b[32m'../context_visibility/hidden'\u001b[0m,\n",
       "        \u001b[32m'../slurm/cpushort'\u001b[0m,\n",
       "        \u001b[32m'../algorithm/td3'\u001b[0m\n",
       "    \u001b[1m]\u001b[0m,\n",
       "    \u001b[32m'experiment'\u001b[0m: \u001b[32m'context_efficiency'\u001b[0m,\n",
       "    \u001b[32m'carl'\u001b[0m: \u001b[1m{\u001b[0m\u001b[32m'context_mask'\u001b[0m: \u001b[3;35mNone\u001b[0m\u001b[1m}\u001b[0m,\n",
       "    \u001b[32m'eval_on_train_context'\u001b[0m: \u001b[3;92mTrue\u001b[0m,\n",
       "    \u001b[32m'context_sampler'\u001b[0m: \u001b[1m{\u001b[0m\n",
       "        \u001b[32m'env_name'\u001b[0m: \u001b[32m'CARLPendulumEnv'\u001b[0m,\n",
       "        \u001b[32m'context_feature_names'\u001b[0m: \u001b[1m[\u001b[0m\u001b[32m'l'\u001b[0m\u001b[1m]\u001b[0m,\n",
       "        \u001b[32m'seed'\u001b[0m: \u001b[1;36m42\u001b[0m,\n",
       "        \u001b[32m'n_samples'\u001b[0m: \u001b[1;36m4\u001b[0m,\n",
       "        \u001b[32m'sigma_rel'\u001b[0m: \u001b[1;36m0.25\u001b[0m\n",
       "    \u001b[1m}\u001b[0m,\n",
       "    \u001b[32m'env'\u001b[0m: \u001b[32m'CARLPendulumEnv'\u001b[0m,\n",
       "    \u001b[32m'seed'\u001b[0m: \u001b[1;36m42\u001b[0m\n",
       "\u001b[1m}\u001b[0m\n"
      ]
     },
     "metadata": {},
     "output_type": "display_data"
    },
    {
     "name": "stdout",
     "output_type": "stream",
     "text": [
      "4\n",
      "/home/benjamin/Dokumente/code/tmp/tntcomp/CARL/experiments/evaluation/data/context_efficiency/contexts_evaluation_4.json\n"
     ]
    },
    {
     "data": {
      "text/html": [
       "<pre style=\"white-space:pre;overflow-x:auto;line-height:normal;font-family:Menlo,'DejaVu Sans Mono',consolas,'Courier New',monospace\"><span style=\"font-weight: bold\">{</span>\n",
       "    <span style=\"color: #008000; text-decoration-color: #008000\">'defaults'</span>: <span style=\"font-weight: bold\">[</span>\n",
       "        <span style=\"color: #008000; text-decoration-color: #008000\">'../environments/classic_control/pendulum'</span>,\n",
       "        <span style=\"color: #008000; text-decoration-color: #008000\">'../context_visibility/hidden'</span>,\n",
       "        <span style=\"color: #008000; text-decoration-color: #008000\">'../slurm/cpushort'</span>,\n",
       "        <span style=\"color: #008000; text-decoration-color: #008000\">'../algorithm/td3'</span>\n",
       "    <span style=\"font-weight: bold\">]</span>,\n",
       "    <span style=\"color: #008000; text-decoration-color: #008000\">'experiment'</span>: <span style=\"color: #008000; text-decoration-color: #008000\">'context_efficiency'</span>,\n",
       "    <span style=\"color: #008000; text-decoration-color: #008000\">'carl'</span>: <span style=\"font-weight: bold\">{</span><span style=\"color: #008000; text-decoration-color: #008000\">'context_mask'</span>: <span style=\"color: #800080; text-decoration-color: #800080; font-style: italic\">None</span><span style=\"font-weight: bold\">}</span>,\n",
       "    <span style=\"color: #008000; text-decoration-color: #008000\">'eval_on_train_context'</span>: <span style=\"color: #00ff00; text-decoration-color: #00ff00; font-style: italic\">True</span>,\n",
       "    <span style=\"color: #008000; text-decoration-color: #008000\">'context_sampler'</span>: <span style=\"font-weight: bold\">{</span>\n",
       "        <span style=\"color: #008000; text-decoration-color: #008000\">'env_name'</span>: <span style=\"color: #008000; text-decoration-color: #008000\">'CARLPendulumEnv'</span>,\n",
       "        <span style=\"color: #008000; text-decoration-color: #008000\">'context_feature_names'</span>: <span style=\"font-weight: bold\">[</span><span style=\"color: #008000; text-decoration-color: #008000\">'l'</span><span style=\"font-weight: bold\">]</span>,\n",
       "        <span style=\"color: #008000; text-decoration-color: #008000\">'seed'</span>: <span style=\"color: #008080; text-decoration-color: #008080; font-weight: bold\">42</span>,\n",
       "        <span style=\"color: #008000; text-decoration-color: #008000\">'n_samples'</span>: <span style=\"color: #008080; text-decoration-color: #008080; font-weight: bold\">8</span>,\n",
       "        <span style=\"color: #008000; text-decoration-color: #008000\">'sigma_rel'</span>: <span style=\"color: #008080; text-decoration-color: #008080; font-weight: bold\">0.25</span>\n",
       "    <span style=\"font-weight: bold\">}</span>,\n",
       "    <span style=\"color: #008000; text-decoration-color: #008000\">'env'</span>: <span style=\"color: #008000; text-decoration-color: #008000\">'CARLPendulumEnv'</span>,\n",
       "    <span style=\"color: #008000; text-decoration-color: #008000\">'seed'</span>: <span style=\"color: #008080; text-decoration-color: #008080; font-weight: bold\">42</span>\n",
       "<span style=\"font-weight: bold\">}</span>\n",
       "</pre>\n"
      ],
      "text/plain": [
       "\u001b[1m{\u001b[0m\n",
       "    \u001b[32m'defaults'\u001b[0m: \u001b[1m[\u001b[0m\n",
       "        \u001b[32m'../environments/classic_control/pendulum'\u001b[0m,\n",
       "        \u001b[32m'../context_visibility/hidden'\u001b[0m,\n",
       "        \u001b[32m'../slurm/cpushort'\u001b[0m,\n",
       "        \u001b[32m'../algorithm/td3'\u001b[0m\n",
       "    \u001b[1m]\u001b[0m,\n",
       "    \u001b[32m'experiment'\u001b[0m: \u001b[32m'context_efficiency'\u001b[0m,\n",
       "    \u001b[32m'carl'\u001b[0m: \u001b[1m{\u001b[0m\u001b[32m'context_mask'\u001b[0m: \u001b[3;35mNone\u001b[0m\u001b[1m}\u001b[0m,\n",
       "    \u001b[32m'eval_on_train_context'\u001b[0m: \u001b[3;92mTrue\u001b[0m,\n",
       "    \u001b[32m'context_sampler'\u001b[0m: \u001b[1m{\u001b[0m\n",
       "        \u001b[32m'env_name'\u001b[0m: \u001b[32m'CARLPendulumEnv'\u001b[0m,\n",
       "        \u001b[32m'context_feature_names'\u001b[0m: \u001b[1m[\u001b[0m\u001b[32m'l'\u001b[0m\u001b[1m]\u001b[0m,\n",
       "        \u001b[32m'seed'\u001b[0m: \u001b[1;36m42\u001b[0m,\n",
       "        \u001b[32m'n_samples'\u001b[0m: \u001b[1;36m8\u001b[0m,\n",
       "        \u001b[32m'sigma_rel'\u001b[0m: \u001b[1;36m0.25\u001b[0m\n",
       "    \u001b[1m}\u001b[0m,\n",
       "    \u001b[32m'env'\u001b[0m: \u001b[32m'CARLPendulumEnv'\u001b[0m,\n",
       "    \u001b[32m'seed'\u001b[0m: \u001b[1;36m42\u001b[0m\n",
       "\u001b[1m}\u001b[0m\n"
      ]
     },
     "metadata": {},
     "output_type": "display_data"
    },
    {
     "name": "stdout",
     "output_type": "stream",
     "text": [
      "8\n",
      "/home/benjamin/Dokumente/code/tmp/tntcomp/CARL/experiments/evaluation/data/context_efficiency/contexts_evaluation_8.json\n"
     ]
    },
    {
     "data": {
      "text/html": [
       "<pre style=\"white-space:pre;overflow-x:auto;line-height:normal;font-family:Menlo,'DejaVu Sans Mono',consolas,'Courier New',monospace\"><span style=\"font-weight: bold\">{</span>\n",
       "    <span style=\"color: #008000; text-decoration-color: #008000\">'defaults'</span>: <span style=\"font-weight: bold\">[</span>\n",
       "        <span style=\"color: #008000; text-decoration-color: #008000\">'../environments/classic_control/pendulum'</span>,\n",
       "        <span style=\"color: #008000; text-decoration-color: #008000\">'../context_visibility/hidden'</span>,\n",
       "        <span style=\"color: #008000; text-decoration-color: #008000\">'../slurm/cpushort'</span>,\n",
       "        <span style=\"color: #008000; text-decoration-color: #008000\">'../algorithm/td3'</span>\n",
       "    <span style=\"font-weight: bold\">]</span>,\n",
       "    <span style=\"color: #008000; text-decoration-color: #008000\">'experiment'</span>: <span style=\"color: #008000; text-decoration-color: #008000\">'context_efficiency'</span>,\n",
       "    <span style=\"color: #008000; text-decoration-color: #008000\">'carl'</span>: <span style=\"font-weight: bold\">{</span><span style=\"color: #008000; text-decoration-color: #008000\">'context_mask'</span>: <span style=\"color: #800080; text-decoration-color: #800080; font-style: italic\">None</span><span style=\"font-weight: bold\">}</span>,\n",
       "    <span style=\"color: #008000; text-decoration-color: #008000\">'eval_on_train_context'</span>: <span style=\"color: #00ff00; text-decoration-color: #00ff00; font-style: italic\">True</span>,\n",
       "    <span style=\"color: #008000; text-decoration-color: #008000\">'context_sampler'</span>: <span style=\"font-weight: bold\">{</span>\n",
       "        <span style=\"color: #008000; text-decoration-color: #008000\">'env_name'</span>: <span style=\"color: #008000; text-decoration-color: #008000\">'CARLPendulumEnv'</span>,\n",
       "        <span style=\"color: #008000; text-decoration-color: #008000\">'context_feature_names'</span>: <span style=\"font-weight: bold\">[</span><span style=\"color: #008000; text-decoration-color: #008000\">'l'</span><span style=\"font-weight: bold\">]</span>,\n",
       "        <span style=\"color: #008000; text-decoration-color: #008000\">'seed'</span>: <span style=\"color: #008080; text-decoration-color: #008080; font-weight: bold\">42</span>,\n",
       "        <span style=\"color: #008000; text-decoration-color: #008000\">'n_samples'</span>: <span style=\"color: #008080; text-decoration-color: #008080; font-weight: bold\">16</span>,\n",
       "        <span style=\"color: #008000; text-decoration-color: #008000\">'sigma_rel'</span>: <span style=\"color: #008080; text-decoration-color: #008080; font-weight: bold\">0.25</span>\n",
       "    <span style=\"font-weight: bold\">}</span>,\n",
       "    <span style=\"color: #008000; text-decoration-color: #008000\">'env'</span>: <span style=\"color: #008000; text-decoration-color: #008000\">'CARLPendulumEnv'</span>,\n",
       "    <span style=\"color: #008000; text-decoration-color: #008000\">'seed'</span>: <span style=\"color: #008080; text-decoration-color: #008080; font-weight: bold\">42</span>\n",
       "<span style=\"font-weight: bold\">}</span>\n",
       "</pre>\n"
      ],
      "text/plain": [
       "\u001b[1m{\u001b[0m\n",
       "    \u001b[32m'defaults'\u001b[0m: \u001b[1m[\u001b[0m\n",
       "        \u001b[32m'../environments/classic_control/pendulum'\u001b[0m,\n",
       "        \u001b[32m'../context_visibility/hidden'\u001b[0m,\n",
       "        \u001b[32m'../slurm/cpushort'\u001b[0m,\n",
       "        \u001b[32m'../algorithm/td3'\u001b[0m\n",
       "    \u001b[1m]\u001b[0m,\n",
       "    \u001b[32m'experiment'\u001b[0m: \u001b[32m'context_efficiency'\u001b[0m,\n",
       "    \u001b[32m'carl'\u001b[0m: \u001b[1m{\u001b[0m\u001b[32m'context_mask'\u001b[0m: \u001b[3;35mNone\u001b[0m\u001b[1m}\u001b[0m,\n",
       "    \u001b[32m'eval_on_train_context'\u001b[0m: \u001b[3;92mTrue\u001b[0m,\n",
       "    \u001b[32m'context_sampler'\u001b[0m: \u001b[1m{\u001b[0m\n",
       "        \u001b[32m'env_name'\u001b[0m: \u001b[32m'CARLPendulumEnv'\u001b[0m,\n",
       "        \u001b[32m'context_feature_names'\u001b[0m: \u001b[1m[\u001b[0m\u001b[32m'l'\u001b[0m\u001b[1m]\u001b[0m,\n",
       "        \u001b[32m'seed'\u001b[0m: \u001b[1;36m42\u001b[0m,\n",
       "        \u001b[32m'n_samples'\u001b[0m: \u001b[1;36m16\u001b[0m,\n",
       "        \u001b[32m'sigma_rel'\u001b[0m: \u001b[1;36m0.25\u001b[0m\n",
       "    \u001b[1m}\u001b[0m,\n",
       "    \u001b[32m'env'\u001b[0m: \u001b[32m'CARLPendulumEnv'\u001b[0m,\n",
       "    \u001b[32m'seed'\u001b[0m: \u001b[1;36m42\u001b[0m\n",
       "\u001b[1m}\u001b[0m\n"
      ]
     },
     "metadata": {},
     "output_type": "display_data"
    },
    {
     "name": "stdout",
     "output_type": "stream",
     "text": [
      "16\n",
      "/home/benjamin/Dokumente/code/tmp/tntcomp/CARL/experiments/evaluation/data/context_efficiency/contexts_evaluation_16.json\n"
     ]
    },
    {
     "data": {
      "text/html": [
       "<pre style=\"white-space:pre;overflow-x:auto;line-height:normal;font-family:Menlo,'DejaVu Sans Mono',consolas,'Courier New',monospace\"><span style=\"font-weight: bold\">{</span>\n",
       "    <span style=\"color: #008000; text-decoration-color: #008000\">'defaults'</span>: <span style=\"font-weight: bold\">[</span>\n",
       "        <span style=\"color: #008000; text-decoration-color: #008000\">'../environments/classic_control/pendulum'</span>,\n",
       "        <span style=\"color: #008000; text-decoration-color: #008000\">'../context_visibility/hidden'</span>,\n",
       "        <span style=\"color: #008000; text-decoration-color: #008000\">'../slurm/cpushort'</span>,\n",
       "        <span style=\"color: #008000; text-decoration-color: #008000\">'../algorithm/td3'</span>\n",
       "    <span style=\"font-weight: bold\">]</span>,\n",
       "    <span style=\"color: #008000; text-decoration-color: #008000\">'experiment'</span>: <span style=\"color: #008000; text-decoration-color: #008000\">'context_efficiency'</span>,\n",
       "    <span style=\"color: #008000; text-decoration-color: #008000\">'carl'</span>: <span style=\"font-weight: bold\">{</span><span style=\"color: #008000; text-decoration-color: #008000\">'context_mask'</span>: <span style=\"color: #800080; text-decoration-color: #800080; font-style: italic\">None</span><span style=\"font-weight: bold\">}</span>,\n",
       "    <span style=\"color: #008000; text-decoration-color: #008000\">'eval_on_train_context'</span>: <span style=\"color: #00ff00; text-decoration-color: #00ff00; font-style: italic\">True</span>,\n",
       "    <span style=\"color: #008000; text-decoration-color: #008000\">'context_sampler'</span>: <span style=\"font-weight: bold\">{</span>\n",
       "        <span style=\"color: #008000; text-decoration-color: #008000\">'env_name'</span>: <span style=\"color: #008000; text-decoration-color: #008000\">'CARLPendulumEnv'</span>,\n",
       "        <span style=\"color: #008000; text-decoration-color: #008000\">'context_feature_names'</span>: <span style=\"font-weight: bold\">[</span><span style=\"color: #008000; text-decoration-color: #008000\">'l'</span><span style=\"font-weight: bold\">]</span>,\n",
       "        <span style=\"color: #008000; text-decoration-color: #008000\">'seed'</span>: <span style=\"color: #008080; text-decoration-color: #008080; font-weight: bold\">42</span>,\n",
       "        <span style=\"color: #008000; text-decoration-color: #008000\">'n_samples'</span>: <span style=\"color: #008080; text-decoration-color: #008080; font-weight: bold\">32</span>,\n",
       "        <span style=\"color: #008000; text-decoration-color: #008000\">'sigma_rel'</span>: <span style=\"color: #008080; text-decoration-color: #008080; font-weight: bold\">0.25</span>\n",
       "    <span style=\"font-weight: bold\">}</span>,\n",
       "    <span style=\"color: #008000; text-decoration-color: #008000\">'env'</span>: <span style=\"color: #008000; text-decoration-color: #008000\">'CARLPendulumEnv'</span>,\n",
       "    <span style=\"color: #008000; text-decoration-color: #008000\">'seed'</span>: <span style=\"color: #008080; text-decoration-color: #008080; font-weight: bold\">42</span>\n",
       "<span style=\"font-weight: bold\">}</span>\n",
       "</pre>\n"
      ],
      "text/plain": [
       "\u001b[1m{\u001b[0m\n",
       "    \u001b[32m'defaults'\u001b[0m: \u001b[1m[\u001b[0m\n",
       "        \u001b[32m'../environments/classic_control/pendulum'\u001b[0m,\n",
       "        \u001b[32m'../context_visibility/hidden'\u001b[0m,\n",
       "        \u001b[32m'../slurm/cpushort'\u001b[0m,\n",
       "        \u001b[32m'../algorithm/td3'\u001b[0m\n",
       "    \u001b[1m]\u001b[0m,\n",
       "    \u001b[32m'experiment'\u001b[0m: \u001b[32m'context_efficiency'\u001b[0m,\n",
       "    \u001b[32m'carl'\u001b[0m: \u001b[1m{\u001b[0m\u001b[32m'context_mask'\u001b[0m: \u001b[3;35mNone\u001b[0m\u001b[1m}\u001b[0m,\n",
       "    \u001b[32m'eval_on_train_context'\u001b[0m: \u001b[3;92mTrue\u001b[0m,\n",
       "    \u001b[32m'context_sampler'\u001b[0m: \u001b[1m{\u001b[0m\n",
       "        \u001b[32m'env_name'\u001b[0m: \u001b[32m'CARLPendulumEnv'\u001b[0m,\n",
       "        \u001b[32m'context_feature_names'\u001b[0m: \u001b[1m[\u001b[0m\u001b[32m'l'\u001b[0m\u001b[1m]\u001b[0m,\n",
       "        \u001b[32m'seed'\u001b[0m: \u001b[1;36m42\u001b[0m,\n",
       "        \u001b[32m'n_samples'\u001b[0m: \u001b[1;36m32\u001b[0m,\n",
       "        \u001b[32m'sigma_rel'\u001b[0m: \u001b[1;36m0.25\u001b[0m\n",
       "    \u001b[1m}\u001b[0m,\n",
       "    \u001b[32m'env'\u001b[0m: \u001b[32m'CARLPendulumEnv'\u001b[0m,\n",
       "    \u001b[32m'seed'\u001b[0m: \u001b[1;36m42\u001b[0m\n",
       "\u001b[1m}\u001b[0m\n"
      ]
     },
     "metadata": {},
     "output_type": "display_data"
    },
    {
     "name": "stdout",
     "output_type": "stream",
     "text": [
      "32\n",
      "/home/benjamin/Dokumente/code/tmp/tntcomp/CARL/experiments/evaluation/data/context_efficiency/contexts_evaluation_32.json\n"
     ]
    },
    {
     "data": {
      "text/html": [
       "<pre style=\"white-space:pre;overflow-x:auto;line-height:normal;font-family:Menlo,'DejaVu Sans Mono',consolas,'Courier New',monospace\"><span style=\"font-weight: bold\">{</span>\n",
       "    <span style=\"color: #008000; text-decoration-color: #008000\">'defaults'</span>: <span style=\"font-weight: bold\">[</span>\n",
       "        <span style=\"color: #008000; text-decoration-color: #008000\">'../environments/classic_control/pendulum'</span>,\n",
       "        <span style=\"color: #008000; text-decoration-color: #008000\">'../context_visibility/hidden'</span>,\n",
       "        <span style=\"color: #008000; text-decoration-color: #008000\">'../slurm/cpushort'</span>,\n",
       "        <span style=\"color: #008000; text-decoration-color: #008000\">'../algorithm/td3'</span>\n",
       "    <span style=\"font-weight: bold\">]</span>,\n",
       "    <span style=\"color: #008000; text-decoration-color: #008000\">'experiment'</span>: <span style=\"color: #008000; text-decoration-color: #008000\">'context_efficiency'</span>,\n",
       "    <span style=\"color: #008000; text-decoration-color: #008000\">'carl'</span>: <span style=\"font-weight: bold\">{</span><span style=\"color: #008000; text-decoration-color: #008000\">'context_mask'</span>: <span style=\"color: #800080; text-decoration-color: #800080; font-style: italic\">None</span><span style=\"font-weight: bold\">}</span>,\n",
       "    <span style=\"color: #008000; text-decoration-color: #008000\">'eval_on_train_context'</span>: <span style=\"color: #00ff00; text-decoration-color: #00ff00; font-style: italic\">True</span>,\n",
       "    <span style=\"color: #008000; text-decoration-color: #008000\">'context_sampler'</span>: <span style=\"font-weight: bold\">{</span>\n",
       "        <span style=\"color: #008000; text-decoration-color: #008000\">'env_name'</span>: <span style=\"color: #008000; text-decoration-color: #008000\">'CARLPendulumEnv'</span>,\n",
       "        <span style=\"color: #008000; text-decoration-color: #008000\">'context_feature_names'</span>: <span style=\"font-weight: bold\">[</span><span style=\"color: #008000; text-decoration-color: #008000\">'l'</span><span style=\"font-weight: bold\">]</span>,\n",
       "        <span style=\"color: #008000; text-decoration-color: #008000\">'seed'</span>: <span style=\"color: #008080; text-decoration-color: #008080; font-weight: bold\">42</span>,\n",
       "        <span style=\"color: #008000; text-decoration-color: #008000\">'n_samples'</span>: <span style=\"color: #008080; text-decoration-color: #008080; font-weight: bold\">64</span>,\n",
       "        <span style=\"color: #008000; text-decoration-color: #008000\">'sigma_rel'</span>: <span style=\"color: #008080; text-decoration-color: #008080; font-weight: bold\">0.25</span>\n",
       "    <span style=\"font-weight: bold\">}</span>,\n",
       "    <span style=\"color: #008000; text-decoration-color: #008000\">'env'</span>: <span style=\"color: #008000; text-decoration-color: #008000\">'CARLPendulumEnv'</span>,\n",
       "    <span style=\"color: #008000; text-decoration-color: #008000\">'seed'</span>: <span style=\"color: #008080; text-decoration-color: #008080; font-weight: bold\">42</span>\n",
       "<span style=\"font-weight: bold\">}</span>\n",
       "</pre>\n"
      ],
      "text/plain": [
       "\u001b[1m{\u001b[0m\n",
       "    \u001b[32m'defaults'\u001b[0m: \u001b[1m[\u001b[0m\n",
       "        \u001b[32m'../environments/classic_control/pendulum'\u001b[0m,\n",
       "        \u001b[32m'../context_visibility/hidden'\u001b[0m,\n",
       "        \u001b[32m'../slurm/cpushort'\u001b[0m,\n",
       "        \u001b[32m'../algorithm/td3'\u001b[0m\n",
       "    \u001b[1m]\u001b[0m,\n",
       "    \u001b[32m'experiment'\u001b[0m: \u001b[32m'context_efficiency'\u001b[0m,\n",
       "    \u001b[32m'carl'\u001b[0m: \u001b[1m{\u001b[0m\u001b[32m'context_mask'\u001b[0m: \u001b[3;35mNone\u001b[0m\u001b[1m}\u001b[0m,\n",
       "    \u001b[32m'eval_on_train_context'\u001b[0m: \u001b[3;92mTrue\u001b[0m,\n",
       "    \u001b[32m'context_sampler'\u001b[0m: \u001b[1m{\u001b[0m\n",
       "        \u001b[32m'env_name'\u001b[0m: \u001b[32m'CARLPendulumEnv'\u001b[0m,\n",
       "        \u001b[32m'context_feature_names'\u001b[0m: \u001b[1m[\u001b[0m\u001b[32m'l'\u001b[0m\u001b[1m]\u001b[0m,\n",
       "        \u001b[32m'seed'\u001b[0m: \u001b[1;36m42\u001b[0m,\n",
       "        \u001b[32m'n_samples'\u001b[0m: \u001b[1;36m64\u001b[0m,\n",
       "        \u001b[32m'sigma_rel'\u001b[0m: \u001b[1;36m0.25\u001b[0m\n",
       "    \u001b[1m}\u001b[0m,\n",
       "    \u001b[32m'env'\u001b[0m: \u001b[32m'CARLPendulumEnv'\u001b[0m,\n",
       "    \u001b[32m'seed'\u001b[0m: \u001b[1;36m42\u001b[0m\n",
       "\u001b[1m}\u001b[0m\n"
      ]
     },
     "metadata": {},
     "output_type": "display_data"
    },
    {
     "name": "stdout",
     "output_type": "stream",
     "text": [
      "64\n",
      "/home/benjamin/Dokumente/code/tmp/tntcomp/CARL/experiments/evaluation/data/context_efficiency/contexts_evaluation_64.json\n"
     ]
    },
    {
     "data": {
      "text/html": [
       "<pre style=\"white-space:pre;overflow-x:auto;line-height:normal;font-family:Menlo,'DejaVu Sans Mono',consolas,'Courier New',monospace\"><span style=\"font-weight: bold\">{</span>\n",
       "    <span style=\"color: #008000; text-decoration-color: #008000\">'defaults'</span>: <span style=\"font-weight: bold\">[</span>\n",
       "        <span style=\"color: #008000; text-decoration-color: #008000\">'../environments/classic_control/pendulum'</span>,\n",
       "        <span style=\"color: #008000; text-decoration-color: #008000\">'../context_visibility/hidden'</span>,\n",
       "        <span style=\"color: #008000; text-decoration-color: #008000\">'../slurm/cpushort'</span>,\n",
       "        <span style=\"color: #008000; text-decoration-color: #008000\">'../algorithm/td3'</span>\n",
       "    <span style=\"font-weight: bold\">]</span>,\n",
       "    <span style=\"color: #008000; text-decoration-color: #008000\">'experiment'</span>: <span style=\"color: #008000; text-decoration-color: #008000\">'context_efficiency'</span>,\n",
       "    <span style=\"color: #008000; text-decoration-color: #008000\">'carl'</span>: <span style=\"font-weight: bold\">{</span><span style=\"color: #008000; text-decoration-color: #008000\">'context_mask'</span>: <span style=\"color: #800080; text-decoration-color: #800080; font-style: italic\">None</span><span style=\"font-weight: bold\">}</span>,\n",
       "    <span style=\"color: #008000; text-decoration-color: #008000\">'eval_on_train_context'</span>: <span style=\"color: #00ff00; text-decoration-color: #00ff00; font-style: italic\">True</span>,\n",
       "    <span style=\"color: #008000; text-decoration-color: #008000\">'context_sampler'</span>: <span style=\"font-weight: bold\">{</span>\n",
       "        <span style=\"color: #008000; text-decoration-color: #008000\">'env_name'</span>: <span style=\"color: #008000; text-decoration-color: #008000\">'CARLPendulumEnv'</span>,\n",
       "        <span style=\"color: #008000; text-decoration-color: #008000\">'context_feature_names'</span>: <span style=\"font-weight: bold\">[</span><span style=\"color: #008000; text-decoration-color: #008000\">'l'</span><span style=\"font-weight: bold\">]</span>,\n",
       "        <span style=\"color: #008000; text-decoration-color: #008000\">'seed'</span>: <span style=\"color: #008080; text-decoration-color: #008080; font-weight: bold\">42</span>,\n",
       "        <span style=\"color: #008000; text-decoration-color: #008000\">'n_samples'</span>: <span style=\"color: #008080; text-decoration-color: #008080; font-weight: bold\">128</span>,\n",
       "        <span style=\"color: #008000; text-decoration-color: #008000\">'sigma_rel'</span>: <span style=\"color: #008080; text-decoration-color: #008080; font-weight: bold\">0.25</span>\n",
       "    <span style=\"font-weight: bold\">}</span>,\n",
       "    <span style=\"color: #008000; text-decoration-color: #008000\">'env'</span>: <span style=\"color: #008000; text-decoration-color: #008000\">'CARLPendulumEnv'</span>,\n",
       "    <span style=\"color: #008000; text-decoration-color: #008000\">'seed'</span>: <span style=\"color: #008080; text-decoration-color: #008080; font-weight: bold\">42</span>\n",
       "<span style=\"font-weight: bold\">}</span>\n",
       "</pre>\n"
      ],
      "text/plain": [
       "\u001b[1m{\u001b[0m\n",
       "    \u001b[32m'defaults'\u001b[0m: \u001b[1m[\u001b[0m\n",
       "        \u001b[32m'../environments/classic_control/pendulum'\u001b[0m,\n",
       "        \u001b[32m'../context_visibility/hidden'\u001b[0m,\n",
       "        \u001b[32m'../slurm/cpushort'\u001b[0m,\n",
       "        \u001b[32m'../algorithm/td3'\u001b[0m\n",
       "    \u001b[1m]\u001b[0m,\n",
       "    \u001b[32m'experiment'\u001b[0m: \u001b[32m'context_efficiency'\u001b[0m,\n",
       "    \u001b[32m'carl'\u001b[0m: \u001b[1m{\u001b[0m\u001b[32m'context_mask'\u001b[0m: \u001b[3;35mNone\u001b[0m\u001b[1m}\u001b[0m,\n",
       "    \u001b[32m'eval_on_train_context'\u001b[0m: \u001b[3;92mTrue\u001b[0m,\n",
       "    \u001b[32m'context_sampler'\u001b[0m: \u001b[1m{\u001b[0m\n",
       "        \u001b[32m'env_name'\u001b[0m: \u001b[32m'CARLPendulumEnv'\u001b[0m,\n",
       "        \u001b[32m'context_feature_names'\u001b[0m: \u001b[1m[\u001b[0m\u001b[32m'l'\u001b[0m\u001b[1m]\u001b[0m,\n",
       "        \u001b[32m'seed'\u001b[0m: \u001b[1;36m42\u001b[0m,\n",
       "        \u001b[32m'n_samples'\u001b[0m: \u001b[1;36m128\u001b[0m,\n",
       "        \u001b[32m'sigma_rel'\u001b[0m: \u001b[1;36m0.25\u001b[0m\n",
       "    \u001b[1m}\u001b[0m,\n",
       "    \u001b[32m'env'\u001b[0m: \u001b[32m'CARLPendulumEnv'\u001b[0m,\n",
       "    \u001b[32m'seed'\u001b[0m: \u001b[1;36m42\u001b[0m\n",
       "\u001b[1m}\u001b[0m\n"
      ]
     },
     "metadata": {},
     "output_type": "display_data"
    },
    {
     "name": "stdout",
     "output_type": "stream",
     "text": [
      "128\n",
      "/home/benjamin/Dokumente/code/tmp/tntcomp/CARL/experiments/evaluation/data/context_efficiency/contexts_evaluation_128.json\n"
     ]
    },
    {
     "data": {
      "text/html": [
       "<pre style=\"white-space:pre;overflow-x:auto;line-height:normal;font-family:Menlo,'DejaVu Sans Mono',consolas,'Courier New',monospace\"><span style=\"font-weight: bold\">{</span>\n",
       "    <span style=\"color: #008000; text-decoration-color: #008000\">'defaults'</span>: <span style=\"font-weight: bold\">[</span>\n",
       "        <span style=\"color: #008000; text-decoration-color: #008000\">'../environments/classic_control/pendulum'</span>,\n",
       "        <span style=\"color: #008000; text-decoration-color: #008000\">'../context_visibility/hidden'</span>,\n",
       "        <span style=\"color: #008000; text-decoration-color: #008000\">'../slurm/cpushort'</span>,\n",
       "        <span style=\"color: #008000; text-decoration-color: #008000\">'../algorithm/td3'</span>\n",
       "    <span style=\"font-weight: bold\">]</span>,\n",
       "    <span style=\"color: #008000; text-decoration-color: #008000\">'experiment'</span>: <span style=\"color: #008000; text-decoration-color: #008000\">'context_efficiency'</span>,\n",
       "    <span style=\"color: #008000; text-decoration-color: #008000\">'carl'</span>: <span style=\"font-weight: bold\">{</span><span style=\"color: #008000; text-decoration-color: #008000\">'context_mask'</span>: <span style=\"color: #800080; text-decoration-color: #800080; font-style: italic\">None</span><span style=\"font-weight: bold\">}</span>,\n",
       "    <span style=\"color: #008000; text-decoration-color: #008000\">'eval_on_train_context'</span>: <span style=\"color: #00ff00; text-decoration-color: #00ff00; font-style: italic\">True</span>,\n",
       "    <span style=\"color: #008000; text-decoration-color: #008000\">'context_sampler'</span>: <span style=\"font-weight: bold\">{</span>\n",
       "        <span style=\"color: #008000; text-decoration-color: #008000\">'env_name'</span>: <span style=\"color: #008000; text-decoration-color: #008000\">'CARLPendulumEnv'</span>,\n",
       "        <span style=\"color: #008000; text-decoration-color: #008000\">'context_feature_names'</span>: <span style=\"font-weight: bold\">[</span><span style=\"color: #008000; text-decoration-color: #008000\">'l'</span><span style=\"font-weight: bold\">]</span>,\n",
       "        <span style=\"color: #008000; text-decoration-color: #008000\">'seed'</span>: <span style=\"color: #008080; text-decoration-color: #008080; font-weight: bold\">42</span>,\n",
       "        <span style=\"color: #008000; text-decoration-color: #008000\">'n_samples'</span>: <span style=\"color: #008080; text-decoration-color: #008080; font-weight: bold\">1024</span>,\n",
       "        <span style=\"color: #008000; text-decoration-color: #008000\">'sigma_rel'</span>: <span style=\"color: #008080; text-decoration-color: #008080; font-weight: bold\">0.25</span>\n",
       "    <span style=\"font-weight: bold\">}</span>,\n",
       "    <span style=\"color: #008000; text-decoration-color: #008000\">'env'</span>: <span style=\"color: #008000; text-decoration-color: #008000\">'CARLPendulumEnv'</span>,\n",
       "    <span style=\"color: #008000; text-decoration-color: #008000\">'seed'</span>: <span style=\"color: #008080; text-decoration-color: #008080; font-weight: bold\">42</span>\n",
       "<span style=\"font-weight: bold\">}</span>\n",
       "</pre>\n"
      ],
      "text/plain": [
       "\u001b[1m{\u001b[0m\n",
       "    \u001b[32m'defaults'\u001b[0m: \u001b[1m[\u001b[0m\n",
       "        \u001b[32m'../environments/classic_control/pendulum'\u001b[0m,\n",
       "        \u001b[32m'../context_visibility/hidden'\u001b[0m,\n",
       "        \u001b[32m'../slurm/cpushort'\u001b[0m,\n",
       "        \u001b[32m'../algorithm/td3'\u001b[0m\n",
       "    \u001b[1m]\u001b[0m,\n",
       "    \u001b[32m'experiment'\u001b[0m: \u001b[32m'context_efficiency'\u001b[0m,\n",
       "    \u001b[32m'carl'\u001b[0m: \u001b[1m{\u001b[0m\u001b[32m'context_mask'\u001b[0m: \u001b[3;35mNone\u001b[0m\u001b[1m}\u001b[0m,\n",
       "    \u001b[32m'eval_on_train_context'\u001b[0m: \u001b[3;92mTrue\u001b[0m,\n",
       "    \u001b[32m'context_sampler'\u001b[0m: \u001b[1m{\u001b[0m\n",
       "        \u001b[32m'env_name'\u001b[0m: \u001b[32m'CARLPendulumEnv'\u001b[0m,\n",
       "        \u001b[32m'context_feature_names'\u001b[0m: \u001b[1m[\u001b[0m\u001b[32m'l'\u001b[0m\u001b[1m]\u001b[0m,\n",
       "        \u001b[32m'seed'\u001b[0m: \u001b[1;36m42\u001b[0m,\n",
       "        \u001b[32m'n_samples'\u001b[0m: \u001b[1;36m1024\u001b[0m,\n",
       "        \u001b[32m'sigma_rel'\u001b[0m: \u001b[1;36m0.25\u001b[0m\n",
       "    \u001b[1m}\u001b[0m,\n",
       "    \u001b[32m'env'\u001b[0m: \u001b[32m'CARLPendulumEnv'\u001b[0m,\n",
       "    \u001b[32m'seed'\u001b[0m: \u001b[1;36m42\u001b[0m\n",
       "\u001b[1m}\u001b[0m\n"
      ]
     },
     "metadata": {},
     "output_type": "display_data"
    },
    {
     "name": "stdout",
     "output_type": "stream",
     "text": [
      "1024\n",
      "/home/benjamin/Dokumente/code/tmp/tntcomp/CARL/experiments/evaluation/data/context_efficiency/contexts_evaluation_1024.json\n"
     ]
    }
   ],
   "source": [
    "from omegaconf import OmegaConf\n",
    "from experiments.common.utils.json_utils import lazy_json_dump\n",
    "from experiments.carlbench.context_sampling import ContextSampler\n",
    "from rich import print as printr\n",
    "from pathlib import Path\n",
    "import numpy as np\n",
    "\n",
    "\n",
    "n_contexts_list = [2**x for x in range(0, 8)] + [1024]\n",
    "for n_contexts in n_contexts_list:\n",
    "    config_path = \"/home/benjamin/Dokumente/code/tmp/tntcomp/CARL/experiments/benchmarking/configs/experiments/context_efficiency.yaml\"\n",
    "    cfg = OmegaConf.load(config_path)\n",
    "    cfg.env = \"CARLPendulumEnv\"\n",
    "    cfg.seed = 42\n",
    "    cfg.context_sampler.n_samples = n_contexts\n",
    "    cfg = OmegaConf.to_container(cfg=cfg, resolve=True)\n",
    "    printr(cfg)\n",
    "\n",
    "    contexts = ContextSampler(**cfg[\"context_sampler\"]).sample_contexts()\n",
    "    print(len(contexts))\n",
    "\n",
    "    contexts_path = f\"/home/benjamin/Dokumente/code/tmp/tntcomp/CARL/experiments/evaluation/data/context_efficiency/contexts_evaluation_{n_contexts}.json\"\n",
    "    contexts_path = Path(contexts_path)\n",
    "    print(contexts_path)\n",
    "    contexts_path.parent.mkdir(parents=True, exist_ok=True)\n",
    "    lazy_json_dump(contexts, contexts_path)"
   ]
  }
 ],
 "metadata": {
  "kernelspec": {
   "display_name": "Python 3.10.4 ('carl')",
   "language": "python",
   "name": "python3"
  },
  "language_info": {
   "codemirror_mode": {
    "name": "ipython",
    "version": 3
   },
   "file_extension": ".py",
   "mimetype": "text/x-python",
   "name": "python",
   "nbconvert_exporter": "python",
   "pygments_lexer": "ipython3",
   "version": "3.10.4"
  },
  "orig_nbformat": 4,
  "vscode": {
   "interpreter": {
    "hash": "445f316a49a09d784fc20e9b3e621eb4aa26f31c3cfbe2b15408208fc87e667a"
   }
  }
 },
 "nbformat": 4,
 "nbformat_minor": 2
}
