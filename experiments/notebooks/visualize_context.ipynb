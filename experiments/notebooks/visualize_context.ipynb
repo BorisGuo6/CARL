{
 "cells": [
  {
   "cell_type": "code",
   "execution_count": 1,
   "metadata": {},
   "outputs": [
    {
     "name": "stdout",
     "output_type": "stream",
     "text": [
      "['/home/benjamin/Dokumente/code/tmp/tntcomp/CARL/experiments/notebooks', '/home/benjamin/.conda/envs/py39/lib/python39.zip', '/home/benjamin/.conda/envs/py39/lib/python3.9', '/home/benjamin/.conda/envs/py39/lib/python3.9/lib-dynload', '', '/home/benjamin/.local/lib/python3.9/site-packages', '/home/benjamin/.conda/envs/py39/lib/python3.9/site-packages', '/home/benjamin/Dokumente/code/tmp/DACBench', '/home/benjamin/Dokumente/code/tmp/plotting_scripts', '/home/benjamin/Dokumente/code/tmp/meta-gym', '/home/benjamin/Dokumente/code/tmp/salina', '/home/benjamin/Dokumente/code/tmp/slurmbuilder', '/home/benjamin/Dokumente/code/tmp/DAC4SGD', '/home/benjamin/Dokumente/code/tmp/dac4automlcomp', '/home/benjamin/Dokumente/code/tmp/DeepCAVE', '/home/benjamin/Dokumente/code/tmp/DAC-BO', '/home/benjamin/Dokumente/code/tmp/hydra_submitit_rich_launcher', '/home/benjamin/Dokumente/code/tmp/hydra-smac-sweeper', '/home/benjamin/.conda/envs/py39/lib/python3.9/site-packages/IPython/extensions', '/home/benjamin/.ipython', '/home/benjamin/Dokumente/code/tmp/tntcomp/CARL']\n"
     ]
    },
    {
     "name": "stderr",
     "output_type": "stream",
     "text": [
      "/home/benjamin/.conda/envs/py39/lib/python3.9/site-packages/flatbuffers/compat.py:19: DeprecationWarning: the imp module is deprecated in favour of importlib; see the module's documentation for alternative uses\n",
      "  import imp\n",
      "/home/benjamin/.conda/envs/py39/lib/python3.9/site-packages/trimesh/curvature.py:12: DeprecationWarning: Please use `coo_matrix` from the `scipy.sparse` namespace, the `scipy.sparse.coo` namespace is deprecated.\n",
      "  from scipy.sparse.coo import coo_matrix\n",
      "/home/benjamin/Dokumente/code/tmp/tntcomp/CARL/carl/envs/mario/__init__.py:7: UserWarning: Could not load CARLMarioEnv which is probably not installed ([Errno 2] No such file or directory: '/home/benjamin/Dokumente/code/tmp/tntcomp/CARL/carl/envs/mario/TOAD-GUI/generators/v2').\n",
      "  warnings.warn(f\"Could not load CARLMarioEnv which is probably not installed ({e}).\")\n",
      "/home/benjamin/.conda/envs/py39/lib/python3.9/site-packages/glfw/__init__.py:906: GLFWError: (65544) b'X11: The DISPLAY environment variable is missing'\n",
      "  warnings.warn(message, GLFWError)\n"
     ]
    },
    {
     "ename": "ModuleNotFoundError",
     "evalue": "No module named 'experiments.notebooks'",
     "output_type": "error",
     "traceback": [
      "\u001b[0;31m---------------------------------------------------------------------------\u001b[0m",
      "\u001b[0;31mModuleNotFoundError\u001b[0m                       Traceback (most recent call last)",
      "\u001b[0;32m/tmp/ipykernel_27864/3090728160.py\u001b[0m in \u001b[0;36m<module>\u001b[0;34m\u001b[0m\n\u001b[1;32m      6\u001b[0m \u001b[0;32mimport\u001b[0m \u001b[0mmatplotlib\u001b[0m\u001b[0;34m.\u001b[0m\u001b[0mpyplot\u001b[0m \u001b[0;32mas\u001b[0m \u001b[0mplt\u001b[0m\u001b[0;34m\u001b[0m\u001b[0;34m\u001b[0m\u001b[0m\n\u001b[1;32m      7\u001b[0m \u001b[0;32mfrom\u001b[0m \u001b[0mcarl\u001b[0m\u001b[0;34m.\u001b[0m\u001b[0menvs\u001b[0m \u001b[0;32mimport\u001b[0m \u001b[0mCARLAcrobotEnv\u001b[0m\u001b[0;34m,\u001b[0m \u001b[0mCARLAcrobotEnv_defaults\u001b[0m\u001b[0;34m\u001b[0m\u001b[0;34m\u001b[0m\u001b[0m\n\u001b[0;32m----> 8\u001b[0;31m \u001b[0;32mfrom\u001b[0m \u001b[0mexperiments\u001b[0m\u001b[0;34m.\u001b[0m\u001b[0mnotebooks\u001b[0m\u001b[0;34m.\u001b[0m\u001b[0mutils\u001b[0m \u001b[0;32mimport\u001b[0m \u001b[0mget_renders\u001b[0m\u001b[0;34m\u001b[0m\u001b[0;34m\u001b[0m\u001b[0m\n\u001b[0m\u001b[1;32m      9\u001b[0m \u001b[0;34m\u001b[0m\u001b[0m\n\u001b[1;32m     10\u001b[0m \u001b[0;31m# Vary context features describing the physical shape of Acrobot\u001b[0m\u001b[0;34m\u001b[0m\u001b[0;34m\u001b[0m\u001b[0;34m\u001b[0m\u001b[0m\n",
      "\u001b[0;31mModuleNotFoundError\u001b[0m: No module named 'experiments.notebooks'"
     ]
    }
   ],
   "source": [
    "import sys\n",
    "sys.path.append(\"/home/benjamin/Dokumente/code/tmp/tntcomp/CARL\")\n",
    "print(sys.path)\n",
    "from pathlib import Path\n",
    "import numpy as np\n",
    "import matplotlib.pyplot as plt\n",
    "from carl.envs import CARLAcrobotEnv, CARLAcrobotEnv_defaults\n",
    "\n",
    "import numpy as np\n",
    "from tqdm import tqdm\n",
    "from typing import Dict\n",
    "\n",
    "\n",
    "def get_renders(env_specs: Dict, n_renders: int):\n",
    "    renders = {}\n",
    "    states = {}\n",
    "    for env_cls, contexts in env_specs.items():\n",
    "        print(env_cls.__name__)\n",
    "        env = env_cls(contexts=contexts)\n",
    "        _renders = []\n",
    "        _states = []\n",
    "        for i in tqdm(range(n_renders)):\n",
    "            s = env.reset()\n",
    "            _states.append(s)\n",
    "            _renders.append(env.render(mode=\"rgb_array\"))\n",
    "        renders[env_cls.__name__] = _renders\n",
    "        states[env_cls.__name__] = np.array(_states)\n",
    "    return renders, states\n",
    "\n",
    "# Vary context features describing the physical shape of Acrobot\n",
    "context_features = [\"link_length_1\", \"link_length_2\"]\n",
    "# These context features should be scaled\n",
    "\n",
    "n_contexts = 5\n",
    "\n",
    "\n",
    "env_specs = {\n",
    "    CARLAcrobotEnv: contexts,\n",
    "}\n",
    "renders, states = get_renders(env_specs=env_specs)\n",
    "\n",
    "\n",
    "nrows = 1\n",
    "ncols = n_contexts\n",
    "enlarge = 3\n",
    "fig = plt.figure(figsize=(ncols * enlarge, nrows * enlarge), dpi=300)\n",
    "axes = fig.subplots(nrows=nrows, ncols=ncols, sharex=True, sharey=True)\n",
    "for i, (init_type, renders) in enumerate(data.items()):\n",
    "    for j, (env_name, _renders) in enumerate(renders.items()):\n",
    "        ax = axes[i, j]\n",
    "        _renders = np.array(_renders)\n",
    "        render = np.mean(_renders, axis=0) / 255\n",
    "        ax.imshow(render)\n",
    "        # ax.axis('off')\n",
    "        ax.set_xticks([])\n",
    "        ax.set_yticks([])\n",
    "        if i == nrows - 1:\n",
    "            ax.set_xlabel(env_name)\n",
    "        if j == 0:\n",
    "            ax.set_ylabel(init_type)\n",
    "if title:\n",
    "    fig.suptitle(title)\n",
    "\n",
    "fig.set_tight_layout(True)\n",
    "plt.show()\n",
    "\n",
    "\n"
   ]
  }
 ],
 "metadata": {
  "kernelspec": {
   "display_name": "Python 3.9.5 ('py39')",
   "language": "python",
   "name": "python3"
  },
  "language_info": {
   "codemirror_mode": {
    "name": "ipython",
    "version": 3
   },
   "file_extension": ".py",
   "mimetype": "text/x-python",
   "name": "python",
   "nbconvert_exporter": "python",
   "pygments_lexer": "ipython3",
   "version": "3.9.5"
  },
  "orig_nbformat": 4,
  "vscode": {
   "interpreter": {
    "hash": "0596034daa777f086c4b1c59ae0c07b75b1c1f7db2f8f736be540f20d5144017"
   }
  }
 },
 "nbformat": 4,
 "nbformat_minor": 2
}
