{
 "cells": [
  {
   "attachments": {},
   "cell_type": "markdown",
   "metadata": {},
   "source": [
    "# Context Sampling In CARL\n",
    "\n",
    "Let's take a look at how we can sample contexts and use them in the environments. We'll use CARLBraxAnt for a little demonstration."
   ]
  },
  {
   "cell_type": "code",
   "execution_count": 2,
   "metadata": {},
   "outputs": [
    {
     "name": "stderr",
     "output_type": "stream",
     "text": [
      "/bigwork/nhwpeimt/miniconda3/envs/carl/lib/python3.9/site-packages/glfw/__init__.py:916: GLFWError: (65544) b'X11: The DISPLAY environment variable is missing'\n",
      "  warnings.warn(message, GLFWError)\n",
      "/bigwork/nhwpeimt/CARL/carl/envs/__init__.py:28: UserWarning: Module distance not found. If you want to use these environments, please follow the installation guide.\n",
      "  warnings.warn(\n"
     ]
    }
   ],
   "source": [
    "from carl.context.context_space import NormalFloatContextFeature\n",
    "from carl.context.sampler import ContextSampler\n",
    "from carl.envs import CARLBraxAnt"
   ]
  },
  {
   "attachments": {},
   "cell_type": "markdown",
   "metadata": {},
   "source": [
    "Each environment has an associated context space. Before even instantiating the environment, it let's you take a look at which features can be used and what their default values and bounds are."
   ]
  },
  {
   "cell_type": "code",
   "execution_count": 3,
   "metadata": {},
   "outputs": [
    {
     "name": "stdout",
     "output_type": "stream",
     "text": [
      "Context feature names for Ant: ['gravity', 'friction', 'elasticity', 'ang_damping', 'mass_torso', 'viscosity']\n",
      "Default context for Ant: {'gravity': -9.8, 'friction': 1.0, 'elasticity': 0.0, 'ang_damping': -0.05, 'mass_torso': 10.0, 'viscosity': 0.0}\n",
      "Context value bounds for friction in Ant: (0.0, 100.0)\n"
     ]
    },
    {
     "name": "stderr",
     "output_type": "stream",
     "text": [
      "/bigwork/nhwpeimt/CARL/carl/envs/brax/carl_ant.py:25: RuntimeWarning: invalid value encountered in scalar divide\n",
      "  \"ang_damping\": UniformFloatContextFeature(\n"
     ]
    }
   ],
   "source": [
    "print(f\"Context feature names for Ant: {CARLBraxAnt.get_context_space().context_feature_names}\")\n",
    "print(f\"Default context for Ant: {CARLBraxAnt.get_context_space().get_default_context()}\")\n",
    "print(f\"Context value bounds for friction in Ant: {CARLBraxAnt.get_context_space().get_lower_and_upper_bound('friction')}\")"
   ]
  },
  {
   "attachments": {},
   "cell_type": "markdown",
   "metadata": {},
   "source": [
    "We can use the built-in context sampler to get context values for training. Here we decide we want a normal distribution of float values for the 'gravity' context feature. The context space makes sure we stay within the bounds for the environment. Let's start with 5 contexts for now."
   ]
  },
  {
   "cell_type": "code",
   "execution_count": 4,
   "metadata": {},
   "outputs": [
    {
     "name": "stdout",
     "output_type": "stream",
     "text": [
      "{0: {'gravity': 11.564052345967665}, 1: {'gravity': 10.200157208367225}, 2: {'gravity': 10.77873798410574}, 3: {'gravity': 12.04089319920146}, 4: {'gravity': 11.667557990149968}}\n"
     ]
    }
   ],
   "source": [
    "seed = 0\n",
    "context_distributions = [NormalFloatContextFeature(\"gravity\", mu=9.8, sigma=1)]\n",
    "context_sampler = ContextSampler(\n",
    "        context_distributions=context_distributions,\n",
    "        context_space=CARLBraxAnt.get_context_space(),\n",
    "        seed=seed,\n",
    "    )\n",
    "contexts = context_sampler.sample_contexts(n_contexts=5)\n",
    "print(contexts)"
   ]
  },
  {
   "attachments": {},
   "cell_type": "markdown",
   "metadata": {},
   "source": [
    "To use the contexts during training, we simply pass them to the environment:"
   ]
  },
  {
   "cell_type": "code",
   "execution_count": 5,
   "metadata": {},
   "outputs": [
    {
     "name": "stderr",
     "output_type": "stream",
     "text": [
      "WARNING:jax._src.xla_bridge:No GPU/TPU found, falling back to CPU. (Set TF_CPP_MIN_LOG_LEVEL=0 and rerun for more info.)\n",
      "/bigwork/nhwpeimt/miniconda3/envs/carl/lib/python3.9/site-packages/gymnasium/wrappers/compatibility.py:67: DeprecationWarning: \u001b[33mWARN: The `gymnasium.make(..., apply_api_compatibility=...)` parameter is deprecated and will be removed in v0.29. Instead use `gym.make('GymV21Environment-v0', env_name=...)` or `from shimmy import GymV21CompatibilityV0`\u001b[0m\n",
      "  logger.deprecation(\n",
      "/bigwork/nhwpeimt/CARL/carl/envs/brax/carl_ant.py:25: RuntimeWarning: invalid value encountered in scalar divide\n",
      "  \"ang_damping\": UniformFloatContextFeature(\n"
     ]
    },
    {
     "name": "stdout",
     "output_type": "stream",
     "text": [
      "Full context set: {0: {'gravity': 11.564052345967665, 'friction': 1.0, 'elasticity': 0.0, 'ang_damping': -0.05, 'mass_torso': 10.0, 'viscosity': 0.0}, 1: {'gravity': 10.200157208367225, 'friction': 1.0, 'elasticity': 0.0, 'ang_damping': -0.05, 'mass_torso': 10.0, 'viscosity': 0.0}, 2: {'gravity': 10.77873798410574, 'friction': 1.0, 'elasticity': 0.0, 'ang_damping': -0.05, 'mass_torso': 10.0, 'viscosity': 0.0}, 3: {'gravity': 12.04089319920146, 'friction': 1.0, 'elasticity': 0.0, 'ang_damping': -0.05, 'mass_torso': 10.0, 'viscosity': 0.0}, 4: {'gravity': 11.667557990149968, 'friction': 1.0, 'elasticity': 0.0, 'ang_damping': -0.05, 'mass_torso': 10.0, 'viscosity': 0.0}}\n",
      "Current context ID: 0\n",
      "Current context: {'gravity': 11.564052345967665}\n"
     ]
    }
   ],
   "source": [
    "env = CARLBraxAnt(contexts=contexts)\n",
    "print(f\"Full context set: {env.contexts}\")\n",
    "env.reset()\n",
    "print(f\"Current context ID: {env.context_id}\")\n",
    "print(f\"Current context: {env.context}\")"
   ]
  },
  {
   "attachments": {},
   "cell_type": "markdown",
   "metadata": {},
   "source": [
    "If we don't specify a context selector, a reset will automatically switch the context to the next one in our context set."
   ]
  },
  {
   "cell_type": "code",
   "execution_count": 6,
   "metadata": {},
   "outputs": [
    {
     "name": "stdout",
     "output_type": "stream",
     "text": [
      "Current context ID: 1\n",
      "Current context: {'gravity': 10.200157208367225}\n"
     ]
    }
   ],
   "source": [
    "env.reset()\n",
    "print(f\"Current context ID: {env.context_id}\")\n",
    "print(f\"Current context: {env.context}\")"
   ]
  },
  {
   "attachments": {},
   "cell_type": "markdown",
   "metadata": {},
   "source": [
    "We can also manually set the context by using its ID:"
   ]
  },
  {
   "cell_type": "code",
   "execution_count": 7,
   "metadata": {},
   "outputs": [
    {
     "name": "stdout",
     "output_type": "stream",
     "text": [
      "Current context ID: 4\n",
      "Current context: {'gravity': 11.667557990149968}\n"
     ]
    }
   ],
   "source": [
    "env.context_id = 4\n",
    "print(f\"Current context ID: {env.context_id}\")\n",
    "print(f\"Current context: {env.context}\")"
   ]
  },
  {
   "attachments": {},
   "cell_type": "markdown",
   "metadata": {},
   "source": [
    "Apart from the context, CARLBraxAnt functions like any other gymnasium environment - so your training loops don't have to change at all."
   ]
  },
  {
   "cell_type": "code",
   "execution_count": 8,
   "metadata": {},
   "outputs": [
    {
     "ename": "ValueError",
     "evalue": "vmap got inconsistent sizes for array axes to be mapped:\n  * most axes (56 of them) had size 1, e.g. axis 0 of argument state.pipeline_state.q of type float32[1,15];\n  * one axis had size 8: axis 0 of argument action of type float32[8]",
     "output_type": "error",
     "traceback": [
      "\u001b[0;31m---------------------------------------------------------------------------\u001b[0m",
      "\u001b[0;31mValueError\u001b[0m                                Traceback (most recent call last)",
      "Cell \u001b[0;32mIn[8], line 6\u001b[0m\n\u001b[1;32m      4\u001b[0m \u001b[39mwhile\u001b[39;00m \u001b[39mnot\u001b[39;00m done:\n\u001b[1;32m      5\u001b[0m     action \u001b[39m=\u001b[39m env\u001b[39m.\u001b[39maction_space\u001b[39m.\u001b[39msample()\n\u001b[0;32m----> 6\u001b[0m     state, reward, terminated, truncated, info \u001b[39m=\u001b[39m env\u001b[39m.\u001b[39;49mstep(action)\n\u001b[1;32m      7\u001b[0m     done \u001b[39m=\u001b[39m terminated \u001b[39mor\u001b[39;00m truncated\n\u001b[1;32m      8\u001b[0m     env\u001b[39m.\u001b[39mrender()\n",
      "File \u001b[0;32m/bigwork/nhwpeimt/CARL/carl/envs/carl_env.py:345\u001b[0m, in \u001b[0;36mCARLEnv.step\u001b[0;34m(self, action)\u001b[0m\n\u001b[1;32m    327\u001b[0m \u001b[39mdef\u001b[39;00m \u001b[39mstep\u001b[39m(\n\u001b[1;32m    328\u001b[0m     \u001b[39mself\u001b[39m, action: Any\n\u001b[1;32m    329\u001b[0m ) \u001b[39m-\u001b[39m\u001b[39m>\u001b[39m \u001b[39mtuple\u001b[39m[Any, SupportsFloat, \u001b[39mbool\u001b[39m, \u001b[39mbool\u001b[39m, \u001b[39mdict\u001b[39m[\u001b[39mstr\u001b[39m, Any]]:\n\u001b[1;32m    330\u001b[0m \u001b[39m    \u001b[39m\u001b[39m\"\"\"Step the environment.\u001b[39;00m\n\u001b[1;32m    331\u001b[0m \n\u001b[1;32m    332\u001b[0m \u001b[39m    The context is added to the observation returned by the\u001b[39;00m\n\u001b[0;32m   (...)\u001b[0m\n\u001b[1;32m    343\u001b[0m \u001b[39m        Observation, rewar, terminated, truncated, info.\u001b[39;00m\n\u001b[1;32m    344\u001b[0m \u001b[39m    \"\"\"\u001b[39;00m\n\u001b[0;32m--> 345\u001b[0m     state, reward, terminated, truncated, info \u001b[39m=\u001b[39m \u001b[39msuper\u001b[39;49m()\u001b[39m.\u001b[39;49mstep(action)\n\u001b[1;32m    346\u001b[0m     state \u001b[39m=\u001b[39m \u001b[39mself\u001b[39m\u001b[39m.\u001b[39m_add_context_to_state(state)\n\u001b[1;32m    347\u001b[0m     \u001b[39mreturn\u001b[39;00m state, reward, terminated, truncated, info\n",
      "File \u001b[0;32m/bigwork/nhwpeimt/miniconda3/envs/carl/lib/python3.9/site-packages/gymnasium/core.py:408\u001b[0m, in \u001b[0;36mWrapper.step\u001b[0;34m(self, action)\u001b[0m\n\u001b[1;32m    404\u001b[0m \u001b[39mdef\u001b[39;00m \u001b[39mstep\u001b[39m(\n\u001b[1;32m    405\u001b[0m     \u001b[39mself\u001b[39m, action: WrapperActType\n\u001b[1;32m    406\u001b[0m ) \u001b[39m-\u001b[39m\u001b[39m>\u001b[39m \u001b[39mtuple\u001b[39m[WrapperObsType, SupportsFloat, \u001b[39mbool\u001b[39m, \u001b[39mbool\u001b[39m, \u001b[39mdict\u001b[39m[\u001b[39mstr\u001b[39m, Any]]:\n\u001b[1;32m    407\u001b[0m \u001b[39m    \u001b[39m\u001b[39m\"\"\"Uses the :meth:`step` of the :attr:`env` that can be overwritten to change the returned data.\"\"\"\u001b[39;00m\n\u001b[0;32m--> 408\u001b[0m     \u001b[39mreturn\u001b[39;00m \u001b[39mself\u001b[39;49m\u001b[39m.\u001b[39;49menv\u001b[39m.\u001b[39;49mstep(action)\n",
      "File \u001b[0;32m/bigwork/nhwpeimt/miniconda3/envs/carl/lib/python3.9/site-packages/gymnasium/wrappers/compatibility.py:111\u001b[0m, in \u001b[0;36mEnvCompatibility.step\u001b[0;34m(self, action)\u001b[0m\n\u001b[1;32m    102\u001b[0m \u001b[39mdef\u001b[39;00m \u001b[39mstep\u001b[39m(\u001b[39mself\u001b[39m, action: Any) \u001b[39m-\u001b[39m\u001b[39m>\u001b[39m Tuple[Any, \u001b[39mfloat\u001b[39m, \u001b[39mbool\u001b[39m, \u001b[39mbool\u001b[39m, Dict]:\n\u001b[1;32m    103\u001b[0m \u001b[39m    \u001b[39m\u001b[39m\"\"\"Steps through the environment.\u001b[39;00m\n\u001b[1;32m    104\u001b[0m \n\u001b[1;32m    105\u001b[0m \u001b[39m    Args:\u001b[39;00m\n\u001b[0;32m   (...)\u001b[0m\n\u001b[1;32m    109\u001b[0m \u001b[39m        (observation, reward, terminated, truncated, info)\u001b[39;00m\n\u001b[1;32m    110\u001b[0m \u001b[39m    \"\"\"\u001b[39;00m\n\u001b[0;32m--> 111\u001b[0m     obs, reward, done, info \u001b[39m=\u001b[39m \u001b[39mself\u001b[39;49m\u001b[39m.\u001b[39;49menv\u001b[39m.\u001b[39;49mstep(action)\n\u001b[1;32m    113\u001b[0m     \u001b[39mif\u001b[39;00m \u001b[39mself\u001b[39m\u001b[39m.\u001b[39mrender_mode \u001b[39m==\u001b[39m \u001b[39m\"\u001b[39m\u001b[39mhuman\u001b[39m\u001b[39m\"\u001b[39m:\n\u001b[1;32m    114\u001b[0m         \u001b[39mself\u001b[39m\u001b[39m.\u001b[39mrender()\n",
      "File \u001b[0;32m/bigwork/nhwpeimt/miniconda3/envs/carl/lib/python3.9/site-packages/brax/envs/wrappers/gym.py:73\u001b[0m, in \u001b[0;36mGymWrapper.step\u001b[0;34m(self, action)\u001b[0m\n\u001b[1;32m     72\u001b[0m \u001b[39mdef\u001b[39;00m \u001b[39mstep\u001b[39m(\u001b[39mself\u001b[39m, action):\n\u001b[0;32m---> 73\u001b[0m   \u001b[39mself\u001b[39m\u001b[39m.\u001b[39m_state, obs, reward, done, info \u001b[39m=\u001b[39m \u001b[39mself\u001b[39;49m\u001b[39m.\u001b[39;49m_step(\u001b[39mself\u001b[39;49m\u001b[39m.\u001b[39;49m_state, action)\n\u001b[1;32m     74\u001b[0m   \u001b[39m# We return device arrays for pytorch users.\u001b[39;00m\n\u001b[1;32m     75\u001b[0m   \u001b[39mreturn\u001b[39;00m obs, reward, done, info\n",
      "    \u001b[0;31m[... skipping hidden 12 frame]\u001b[0m\n",
      "File \u001b[0;32m/bigwork/nhwpeimt/miniconda3/envs/carl/lib/python3.9/site-packages/brax/envs/wrappers/gym.py:61\u001b[0m, in \u001b[0;36mGymWrapper.__init__.<locals>.step\u001b[0;34m(state, action)\u001b[0m\n\u001b[1;32m     60\u001b[0m \u001b[39mdef\u001b[39;00m \u001b[39mstep\u001b[39m(state, action):\n\u001b[0;32m---> 61\u001b[0m   state \u001b[39m=\u001b[39m \u001b[39mself\u001b[39;49m\u001b[39m.\u001b[39;49m_env\u001b[39m.\u001b[39;49mstep(state, action)\n\u001b[1;32m     62\u001b[0m   info \u001b[39m=\u001b[39m {\u001b[39m*\u001b[39m\u001b[39m*\u001b[39mstate\u001b[39m.\u001b[39mmetrics, \u001b[39m*\u001b[39m\u001b[39m*\u001b[39mstate\u001b[39m.\u001b[39minfo}\n\u001b[1;32m     63\u001b[0m   \u001b[39mreturn\u001b[39;00m state, state\u001b[39m.\u001b[39mobs, state\u001b[39m.\u001b[39mreward, state\u001b[39m.\u001b[39mdone, info\n",
      "File \u001b[0;32m/bigwork/nhwpeimt/miniconda3/envs/carl/lib/python3.9/site-packages/brax/envs/wrappers/training.py:111\u001b[0m, in \u001b[0;36mAutoResetWrapper.step\u001b[0;34m(self, state, action)\u001b[0m\n\u001b[1;32m    109\u001b[0m   state\u001b[39m.\u001b[39minfo\u001b[39m.\u001b[39mupdate(steps\u001b[39m=\u001b[39msteps)\n\u001b[1;32m    110\u001b[0m state \u001b[39m=\u001b[39m state\u001b[39m.\u001b[39mreplace(done\u001b[39m=\u001b[39mjp\u001b[39m.\u001b[39mzeros_like(state\u001b[39m.\u001b[39mdone))\n\u001b[0;32m--> 111\u001b[0m state \u001b[39m=\u001b[39m \u001b[39mself\u001b[39;49m\u001b[39m.\u001b[39;49menv\u001b[39m.\u001b[39;49mstep(state, action)\n\u001b[1;32m    113\u001b[0m \u001b[39mdef\u001b[39;00m \u001b[39mwhere_done\u001b[39m(x, y):\n\u001b[1;32m    114\u001b[0m   done \u001b[39m=\u001b[39m state\u001b[39m.\u001b[39mdone\n",
      "File \u001b[0;32m/bigwork/nhwpeimt/miniconda3/envs/carl/lib/python3.9/site-packages/brax/envs/wrappers/training.py:60\u001b[0m, in \u001b[0;36mVmapWrapper.step\u001b[0;34m(self, state, action)\u001b[0m\n\u001b[1;32m     59\u001b[0m \u001b[39mdef\u001b[39;00m \u001b[39mstep\u001b[39m(\u001b[39mself\u001b[39m, state: State, action: jp\u001b[39m.\u001b[39mndarray) \u001b[39m-\u001b[39m\u001b[39m>\u001b[39m State:\n\u001b[0;32m---> 60\u001b[0m   \u001b[39mreturn\u001b[39;00m jax\u001b[39m.\u001b[39;49mvmap(\u001b[39mself\u001b[39;49m\u001b[39m.\u001b[39;49menv\u001b[39m.\u001b[39;49mstep)(state, action)\n",
      "    \u001b[0;31m[... skipping hidden 2 frame]\u001b[0m\n",
      "File \u001b[0;32m/bigwork/nhwpeimt/miniconda3/envs/carl/lib/python3.9/site-packages/jax/_src/api.py:1317\u001b[0m, in \u001b[0;36m_mapped_axis_size\u001b[0;34m(fn, tree, vals, dims, name)\u001b[0m\n\u001b[1;32m   1315\u001b[0m   \u001b[39melse\u001b[39;00m:\n\u001b[1;32m   1316\u001b[0m     msg\u001b[39m.\u001b[39mappend(\u001b[39mf\u001b[39m\u001b[39m\"\u001b[39m\u001b[39m  * some axes (\u001b[39m\u001b[39m{\u001b[39;00mct\u001b[39m}\u001b[39;00m\u001b[39m of them) had size \u001b[39m\u001b[39m{\u001b[39;00msz\u001b[39m}\u001b[39;00m\u001b[39m, e.g. axis \u001b[39m\u001b[39m{\u001b[39;00max\u001b[39m}\u001b[39;00m\u001b[39m of \u001b[39m\u001b[39m{\u001b[39;00mex\u001b[39m}\u001b[39;00m\u001b[39m;\u001b[39m\u001b[39m\\n\u001b[39;00m\u001b[39m\"\u001b[39m)\n\u001b[0;32m-> 1317\u001b[0m \u001b[39mraise\u001b[39;00m \u001b[39mValueError\u001b[39;00m(\u001b[39m'\u001b[39m\u001b[39m'\u001b[39m\u001b[39m.\u001b[39mjoin(msg)[:\u001b[39m-\u001b[39m\u001b[39m2\u001b[39m])\n",
      "\u001b[0;31mValueError\u001b[0m: vmap got inconsistent sizes for array axes to be mapped:\n  * most axes (56 of them) had size 1, e.g. axis 0 of argument state.pipeline_state.q of type float32[1,15];\n  * one axis had size 8: axis 0 of argument action of type float32[8]"
     ]
    }
   ],
   "source": [
    "done = False\n",
    "while not done:\n",
    "    action = env.action_space.sample()\n",
    "    state, reward, terminated, truncated, info = env.step(action)\n",
    "    done = terminated or truncated\n",
    "    env.render()"
   ]
  }
 ],
 "metadata": {
  "kernelspec": {
   "display_name": "carl",
   "language": "python",
   "name": "python3"
  },
  "language_info": {
   "codemirror_mode": {
    "name": "ipython",
    "version": 3
   },
   "file_extension": ".py",
   "mimetype": "text/x-python",
   "name": "python",
   "nbconvert_exporter": "python",
   "pygments_lexer": "ipython3",
   "version": "3.9.17"
  },
  "orig_nbformat": 4
 },
 "nbformat": 4,
 "nbformat_minor": 2
}
