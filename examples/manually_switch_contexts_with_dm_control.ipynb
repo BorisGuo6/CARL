{
 "cells": [
  {
   "attachments": {},
   "cell_type": "markdown",
   "metadata": {},
   "source": [
    "# Changing context manually on DMCFinger\n",
    "\n",
    "We'll take a look at how to manually control contexts in this example on the Deepmind Control Suite."
   ]
  },
  {
   "cell_type": "code",
   "execution_count": 16,
   "metadata": {},
   "outputs": [],
   "source": [
    "import numpy as np\n",
    "import matplotlib.pyplot as plt\n",
    "from carl.context.selection import StaticSelector\n",
    "from carl.envs import CARLDmcFingerEnv"
   ]
  },
  {
   "attachments": {},
   "cell_type": "markdown",
   "metadata": {},
   "source": [
    "First, let's define the context. Instead of sampling, we can also manually change values. In this case, we simply take the default context and augment it a bit."
   ]
  },
  {
   "cell_type": "code",
   "execution_count": 17,
   "metadata": {},
   "outputs": [],
   "source": [
    "long_finger = CARLDmcFingerEnv.get_default_context().copy()\n",
    "long_finger[\"limb_length_0\"] = long_finger[\"limb_length_0\"] * 1.5\n",
    "long_finger[\"limb_length_1\"] = long_finger[\"limb_length_1\"] * 1.25\n",
    "contexts = {0: CARLDmcFingerEnv.get_default_context(), 1: long_finger}"
   ]
  },
  {
   "attachments": {},
   "cell_type": "markdown",
   "metadata": {},
   "source": [
    "Then we can use our contexts to instantiate the CARL environment. We choose a StaticSelector since we don't want the context to change on its own."
   ]
  },
  {
   "cell_type": "code",
   "execution_count": 18,
   "metadata": {},
   "outputs": [
    {
     "name": "stdout",
     "output_type": "stream",
     "text": [
      "Currently using finger limb lengths 0.17 and 0.16\n"
     ]
    },
    {
     "name": "stderr",
     "output_type": "stream",
     "text": [
      "/bigwork/nhwpeimt/miniconda3/envs/carl/lib/python3.9/site-packages/glfw/__init__.py:916: GLFWError: (65537) b'The GLFW library is not initialized'\n",
      "  warnings.warn(message, GLFWError)\n"
     ]
    },
    {
     "ename": "FatalError",
     "evalue": "gladLoadGL error",
     "output_type": "error",
     "traceback": [
      "\u001b[0;31m---------------------------------------------------------------------------\u001b[0m",
      "\u001b[0;31mFatalError\u001b[0m                                Traceback (most recent call last)",
      "Cell \u001b[0;32mIn[18], line 5\u001b[0m\n\u001b[1;32m      3\u001b[0m carl_env\u001b[39m.\u001b[39mreset()\n\u001b[1;32m      4\u001b[0m \u001b[39mprint\u001b[39m(\u001b[39mf\u001b[39m\u001b[39m\"\u001b[39m\u001b[39mCurrently using finger limb lengths \u001b[39m\u001b[39m{\u001b[39;00mnp\u001b[39m.\u001b[39mround(carl_env\u001b[39m.\u001b[39mcontext[\u001b[39m'\u001b[39m\u001b[39mlimb_length_0\u001b[39m\u001b[39m'\u001b[39m],\u001b[39m \u001b[39mdecimals\u001b[39m=\u001b[39m\u001b[39m2\u001b[39m)\u001b[39m}\u001b[39;00m\u001b[39m and \u001b[39m\u001b[39m{\u001b[39;00mnp\u001b[39m.\u001b[39mround(carl_env\u001b[39m.\u001b[39mcontext[\u001b[39m'\u001b[39m\u001b[39mlimb_length_1\u001b[39m\u001b[39m'\u001b[39m],\u001b[39m \u001b[39mdecimals\u001b[39m=\u001b[39m\u001b[39m2\u001b[39m)\u001b[39m}\u001b[39;00m\u001b[39m\"\u001b[39m)\n\u001b[0;32m----> 5\u001b[0m render()\n",
      "Cell \u001b[0;32mIn[18], line 2\u001b[0m, in \u001b[0;36m<lambda>\u001b[0;34m()\u001b[0m\n\u001b[1;32m      1\u001b[0m carl_env \u001b[39m=\u001b[39m CARLDmcFingerEnv(context_selector\u001b[39m=\u001b[39mStaticSelector(contexts))\n\u001b[0;32m----> 2\u001b[0m render \u001b[39m=\u001b[39m \u001b[39mlambda\u001b[39;00m: plt\u001b[39m.\u001b[39mimshow(carl_env\u001b[39m.\u001b[39;49mrender())\n\u001b[1;32m      3\u001b[0m carl_env\u001b[39m.\u001b[39mreset()\n\u001b[1;32m      4\u001b[0m \u001b[39mprint\u001b[39m(\u001b[39mf\u001b[39m\u001b[39m\"\u001b[39m\u001b[39mCurrently using finger limb lengths \u001b[39m\u001b[39m{\u001b[39;00mnp\u001b[39m.\u001b[39mround(carl_env\u001b[39m.\u001b[39mcontext[\u001b[39m'\u001b[39m\u001b[39mlimb_length_0\u001b[39m\u001b[39m'\u001b[39m],\u001b[39m \u001b[39mdecimals\u001b[39m=\u001b[39m\u001b[39m2\u001b[39m)\u001b[39m}\u001b[39;00m\u001b[39m and \u001b[39m\u001b[39m{\u001b[39;00mnp\u001b[39m.\u001b[39mround(carl_env\u001b[39m.\u001b[39mcontext[\u001b[39m'\u001b[39m\u001b[39mlimb_length_1\u001b[39m\u001b[39m'\u001b[39m],\u001b[39m \u001b[39mdecimals\u001b[39m=\u001b[39m\u001b[39m2\u001b[39m)\u001b[39m}\u001b[39;00m\u001b[39m\"\u001b[39m)\n",
      "File \u001b[0;32m/bigwork/nhwpeimt/CARL/carl/envs/dmc/carl_dmcontrol.py:75\u001b[0m, in \u001b[0;36mCARLDmcEnv.render\u001b[0;34m(self)\u001b[0m\n\u001b[1;32m     74\u001b[0m \u001b[39mdef\u001b[39;00m \u001b[39mrender\u001b[39m(\u001b[39mself\u001b[39m):\n\u001b[0;32m---> 75\u001b[0m     \u001b[39mself\u001b[39;49m\u001b[39m.\u001b[39;49menv\u001b[39m.\u001b[39;49mrender(mode\u001b[39m=\u001b[39;49m\u001b[39m'\u001b[39;49m\u001b[39mrgb_array\u001b[39;49m\u001b[39m'\u001b[39;49m)\n",
      "File \u001b[0;32m/bigwork/nhwpeimt/CARL/carl/envs/dmc/wrappers.py:144\u001b[0m, in \u001b[0;36mMujocoToGymWrapper.render\u001b[0;34m(self, mode, camera_id, **kwargs)\u001b[0m\n\u001b[1;32m    142\u001b[0m     \u001b[39mraise\u001b[39;00m \u001b[39mNotImplementedError\u001b[39;00m\n\u001b[1;32m    143\u001b[0m \u001b[39melif\u001b[39;00m mode \u001b[39m==\u001b[39m \u001b[39m\"\u001b[39m\u001b[39mrgb_array\u001b[39m\u001b[39m\"\u001b[39m:\n\u001b[0;32m--> 144\u001b[0m     \u001b[39mreturn\u001b[39;00m \u001b[39mself\u001b[39;49m\u001b[39m.\u001b[39;49menv\u001b[39m.\u001b[39;49mphysics\u001b[39m.\u001b[39;49mrender(camera_id\u001b[39m=\u001b[39;49mcamera_id, \u001b[39m*\u001b[39;49m\u001b[39m*\u001b[39;49mkwargs)\n\u001b[1;32m    145\u001b[0m \u001b[39melse\u001b[39;00m:\n\u001b[1;32m    146\u001b[0m     \u001b[39mraise\u001b[39;00m \u001b[39mNotImplementedError\u001b[39;00m\n",
      "File \u001b[0;32m/bigwork/nhwpeimt/miniconda3/envs/carl/lib/python3.9/site-packages/dm_control/mujoco/engine.py:223\u001b[0m, in \u001b[0;36mPhysics.render\u001b[0;34m(self, height, width, camera_id, overlays, depth, segmentation, scene_option, render_flag_overrides, scene_callback)\u001b[0m\n\u001b[1;32m    178\u001b[0m \u001b[39mdef\u001b[39;00m \u001b[39mrender\u001b[39m(\n\u001b[1;32m    179\u001b[0m     \u001b[39mself\u001b[39m,\n\u001b[1;32m    180\u001b[0m     height\u001b[39m=\u001b[39m\u001b[39m240\u001b[39m,\n\u001b[0;32m   (...)\u001b[0m\n\u001b[1;32m    189\u001b[0m                                       \u001b[39mNone\u001b[39;00m]] \u001b[39m=\u001b[39m \u001b[39mNone\u001b[39;00m,\n\u001b[1;32m    190\u001b[0m ):\n\u001b[1;32m    191\u001b[0m \u001b[39m  \u001b[39m\u001b[39m\"\"\"Returns a camera view as a NumPy array of pixel values.\u001b[39;00m\n\u001b[1;32m    192\u001b[0m \n\u001b[1;32m    193\u001b[0m \u001b[39m  Args:\u001b[39;00m\n\u001b[0;32m   (...)\u001b[0m\n\u001b[1;32m    221\u001b[0m \u001b[39m    The rendered RGB, depth or segmentation image.\u001b[39;00m\n\u001b[1;32m    222\u001b[0m \u001b[39m  \"\"\"\u001b[39;00m\n\u001b[0;32m--> 223\u001b[0m   camera \u001b[39m=\u001b[39m Camera(\n\u001b[1;32m    224\u001b[0m       physics\u001b[39m=\u001b[39;49m\u001b[39mself\u001b[39;49m,\n\u001b[1;32m    225\u001b[0m       height\u001b[39m=\u001b[39;49mheight,\n\u001b[1;32m    226\u001b[0m       width\u001b[39m=\u001b[39;49mwidth,\n\u001b[1;32m    227\u001b[0m       camera_id\u001b[39m=\u001b[39;49mcamera_id,\n\u001b[1;32m    228\u001b[0m       scene_callback\u001b[39m=\u001b[39;49mscene_callback)\n\u001b[1;32m    229\u001b[0m   image \u001b[39m=\u001b[39m camera\u001b[39m.\u001b[39mrender(\n\u001b[1;32m    230\u001b[0m       overlays\u001b[39m=\u001b[39moverlays, depth\u001b[39m=\u001b[39mdepth, segmentation\u001b[39m=\u001b[39msegmentation,\n\u001b[1;32m    231\u001b[0m       scene_option\u001b[39m=\u001b[39mscene_option, render_flag_overrides\u001b[39m=\u001b[39mrender_flag_overrides)\n\u001b[1;32m    232\u001b[0m   camera\u001b[39m.\u001b[39m_scene\u001b[39m.\u001b[39mfree()  \u001b[39m# pylint: disable=protected-access\u001b[39;00m\n",
      "File \u001b[0;32m/bigwork/nhwpeimt/miniconda3/envs/carl/lib/python3.9/site-packages/dm_control/mujoco/engine.py:711\u001b[0m, in \u001b[0;36mCamera.__init__\u001b[0;34m(self, physics, height, width, camera_id, max_geom, scene_callback)\u001b[0m\n\u001b[1;32m    708\u001b[0m \u001b[39mself\u001b[39m\u001b[39m.\u001b[39m_rgb_buffer \u001b[39m=\u001b[39m np\u001b[39m.\u001b[39mempty((\u001b[39mself\u001b[39m\u001b[39m.\u001b[39m_height, \u001b[39mself\u001b[39m\u001b[39m.\u001b[39m_width, \u001b[39m3\u001b[39m), dtype\u001b[39m=\u001b[39mnp\u001b[39m.\u001b[39muint8)\n\u001b[1;32m    709\u001b[0m \u001b[39mself\u001b[39m\u001b[39m.\u001b[39m_depth_buffer \u001b[39m=\u001b[39m np\u001b[39m.\u001b[39mempty((\u001b[39mself\u001b[39m\u001b[39m.\u001b[39m_height, \u001b[39mself\u001b[39m\u001b[39m.\u001b[39m_width), dtype\u001b[39m=\u001b[39mnp\u001b[39m.\u001b[39mfloat32)\n\u001b[0;32m--> 711\u001b[0m \u001b[39mif\u001b[39;00m \u001b[39mself\u001b[39;49m\u001b[39m.\u001b[39;49m_physics\u001b[39m.\u001b[39;49mcontexts\u001b[39m.\u001b[39mmujoco \u001b[39mis\u001b[39;00m \u001b[39mnot\u001b[39;00m \u001b[39mNone\u001b[39;00m:\n\u001b[1;32m    712\u001b[0m   \u001b[39mwith\u001b[39;00m \u001b[39mself\u001b[39m\u001b[39m.\u001b[39m_physics\u001b[39m.\u001b[39mcontexts\u001b[39m.\u001b[39mgl\u001b[39m.\u001b[39mmake_current() \u001b[39mas\u001b[39;00m ctx:\n\u001b[1;32m    713\u001b[0m     ctx\u001b[39m.\u001b[39mcall(mujoco\u001b[39m.\u001b[39mmjr_setBuffer, mujoco\u001b[39m.\u001b[39mmjtFramebuffer\u001b[39m.\u001b[39mmjFB_OFFSCREEN,\n\u001b[1;32m    714\u001b[0m              \u001b[39mself\u001b[39m\u001b[39m.\u001b[39m_physics\u001b[39m.\u001b[39mcontexts\u001b[39m.\u001b[39mmujoco\u001b[39m.\u001b[39mptr)\n",
      "File \u001b[0;32m/bigwork/nhwpeimt/miniconda3/envs/carl/lib/python3.9/site-packages/dm_control/mujoco/engine.py:533\u001b[0m, in \u001b[0;36mPhysics.contexts\u001b[0;34m(self)\u001b[0m\n\u001b[1;32m    531\u001b[0m \u001b[39mwith\u001b[39;00m \u001b[39mself\u001b[39m\u001b[39m.\u001b[39m_contexts_lock:\n\u001b[1;32m    532\u001b[0m   \u001b[39mif\u001b[39;00m \u001b[39mnot\u001b[39;00m \u001b[39mself\u001b[39m\u001b[39m.\u001b[39m_contexts:\n\u001b[0;32m--> 533\u001b[0m     \u001b[39mself\u001b[39;49m\u001b[39m.\u001b[39;49m_make_rendering_contexts()\n\u001b[1;32m    534\u001b[0m \u001b[39mreturn\u001b[39;00m \u001b[39mself\u001b[39m\u001b[39m.\u001b[39m_contexts\n",
      "File \u001b[0;32m/bigwork/nhwpeimt/miniconda3/envs/carl/lib/python3.9/site-packages/dm_control/mujoco/engine.py:519\u001b[0m, in \u001b[0;36mPhysics._make_rendering_contexts\u001b[0;34m(self)\u001b[0m\n\u001b[1;32m    516\u001b[0m render_context \u001b[39m=\u001b[39m _render\u001b[39m.\u001b[39mRenderer(\n\u001b[1;32m    517\u001b[0m     max_width\u001b[39m=\u001b[39mmax_width, max_height\u001b[39m=\u001b[39mmax_height)\n\u001b[1;32m    518\u001b[0m \u001b[39m# Create the MuJoCo context.\u001b[39;00m\n\u001b[0;32m--> 519\u001b[0m mujoco_context \u001b[39m=\u001b[39m wrapper\u001b[39m.\u001b[39;49mMjrContext(\u001b[39mself\u001b[39;49m\u001b[39m.\u001b[39;49mmodel, render_context)\n\u001b[1;32m    520\u001b[0m \u001b[39mself\u001b[39m\u001b[39m.\u001b[39m_contexts \u001b[39m=\u001b[39m Contexts(gl\u001b[39m=\u001b[39mrender_context, mujoco\u001b[39m=\u001b[39mmujoco_context)\n",
      "File \u001b[0;32m/bigwork/nhwpeimt/miniconda3/envs/carl/lib/python3.9/site-packages/dm_control/mujoco/wrapper/core.py:603\u001b[0m, in \u001b[0;36mMjrContext.__init__\u001b[0;34m(self, model, gl_context, font_scale)\u001b[0m\n\u001b[1;32m    601\u001b[0m \u001b[39mself\u001b[39m\u001b[39m.\u001b[39m_gl_context \u001b[39m=\u001b[39m gl_context\n\u001b[1;32m    602\u001b[0m \u001b[39mwith\u001b[39;00m gl_context\u001b[39m.\u001b[39mmake_current() \u001b[39mas\u001b[39;00m ctx:\n\u001b[0;32m--> 603\u001b[0m   ptr \u001b[39m=\u001b[39m ctx\u001b[39m.\u001b[39;49mcall(mujoco\u001b[39m.\u001b[39;49mMjrContext, model\u001b[39m.\u001b[39;49mptr, font_scale)\n\u001b[1;32m    604\u001b[0m   ctx\u001b[39m.\u001b[39mcall(mujoco\u001b[39m.\u001b[39mmjr_setBuffer, mujoco\u001b[39m.\u001b[39mmjtFramebuffer\u001b[39m.\u001b[39mmjFB_OFFSCREEN, ptr)\n\u001b[1;32m    605\u001b[0m gl_context\u001b[39m.\u001b[39mkeep_alive(ptr)\n",
      "File \u001b[0;32m/bigwork/nhwpeimt/miniconda3/envs/carl/lib/python3.9/site-packages/dm_control/_render/executor/render_executor.py:138\u001b[0m, in \u001b[0;36mPassthroughRenderExecutor.call\u001b[0;34m(self, func, *args, **kwargs)\u001b[0m\n\u001b[1;32m    136\u001b[0m \u001b[39mdef\u001b[39;00m \u001b[39mcall\u001b[39m(\u001b[39mself\u001b[39m, func, \u001b[39m*\u001b[39margs, \u001b[39m*\u001b[39m\u001b[39m*\u001b[39mkwargs):\n\u001b[1;32m    137\u001b[0m   \u001b[39mself\u001b[39m\u001b[39m.\u001b[39m_check_locked()\n\u001b[0;32m--> 138\u001b[0m   \u001b[39mreturn\u001b[39;00m func(\u001b[39m*\u001b[39;49margs, \u001b[39m*\u001b[39;49m\u001b[39m*\u001b[39;49mkwargs)\n",
      "\u001b[0;31mFatalError\u001b[0m: gladLoadGL error"
     ]
    }
   ],
   "source": [
    "env = CARLDmcFingerEnv(context_selector=StaticSelector(contexts))\n",
    "render = lambda: plt.imshow(env.render())\n",
    "env.reset()\n",
    "print(f\"Currently using finger limb lengths {np.round(env.context['limb_length_0'], decimals=2)} and {np.round(env.context['limb_length_1'], decimals=2)}\")\n",
    "render()"
   ]
  },
  {
   "attachments": {},
   "cell_type": "markdown",
   "metadata": {},
   "source": [
    "This is how the environment looks with a few random steps."
   ]
  },
  {
   "cell_type": "code",
   "execution_count": null,
   "metadata": {},
   "outputs": [],
   "source": [
    "for _ in range(10):\n",
    "    action = env.action_space.sample()\n",
    "    state, reward, terminated, truncated, info = env.step(action=action)\n",
    "    render()"
   ]
  },
  {
   "attachments": {},
   "cell_type": "markdown",
   "metadata": {},
   "source": [
    "Now let's change to the long finger version instead. Take a look at our new finger:"
   ]
  },
  {
   "cell_type": "code",
   "execution_count": null,
   "metadata": {},
   "outputs": [
    {
     "name": "stdout",
     "output_type": "stream",
     "text": [
      "Currently using finger limb lengths 0.26 and 0.2\n"
     ]
    },
    {
     "data": {
      "text/plain": [
       "({'state': array([1.63349309, 1.64874375, 0.1278364 , 0.02361897, 0.        ,\n",
       "         0.        , 0.        , 0.        , 0.        ]),\n",
       "  'context': {'gravity': -9.81,\n",
       "   'friction_torsional': 1.0,\n",
       "   'friction_rolling': 1.0,\n",
       "   'friction_tangential': 1.0,\n",
       "   'timestep': 0.0025,\n",
       "   'joint_damping': 1.0,\n",
       "   'joint_stiffness': 0.0,\n",
       "   'actuator_strength': 1.0,\n",
       "   'density': 0.0,\n",
       "   'viscosity': 0.0,\n",
       "   'geom_density': 1.0,\n",
       "   'wind_x': 0.0,\n",
       "   'wind_y': 0.0,\n",
       "   'wind_z': 0.0,\n",
       "   'limb_length_0': 0.255,\n",
       "   'limb_length_1': 0.2,\n",
       "   'spinner_radius': 0.04,\n",
       "   'spinner_length': 0.18}},\n",
       " {})"
      ]
     },
     "execution_count": 14,
     "metadata": {},
     "output_type": "execute_result"
    }
   ],
   "source": [
    "env.context_id = 1\n",
    "print(f\"Currently using finger limb lengths {np.round(env.context['limb_length_0'], decimals=2)} and {np.round(env.context['limb_length_1'], decimals=2)}\")\n",
    "env.reset()\n",
    "render()"
   ]
  },
  {
   "attachments": {},
   "cell_type": "markdown",
   "metadata": {},
   "source": [
    "And now let's take a few steps to see it in action:"
   ]
  },
  {
   "cell_type": "code",
   "execution_count": null,
   "metadata": {},
   "outputs": [],
   "source": [
    "for _ in range(10):\n",
    "    action = env.action_space.sample()\n",
    "    state, reward, terminated, truncated, info = env.step(action=action)\n",
    "    render()"
   ]
  }
 ],
 "metadata": {
  "kernelspec": {
   "display_name": "carl",
   "language": "python",
   "name": "python3"
  },
  "language_info": {
   "codemirror_mode": {
    "name": "ipython",
    "version": 3
   },
   "file_extension": ".py",
   "mimetype": "text/x-python",
   "name": "python",
   "nbconvert_exporter": "python",
   "pygments_lexer": "ipython3",
   "version": "3.9.17"
  },
  "orig_nbformat": 4
 },
 "nbformat": 4,
 "nbformat_minor": 2
}
